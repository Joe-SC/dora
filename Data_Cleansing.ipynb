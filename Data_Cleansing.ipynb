{
 "cells": [
  {
   "cell_type": "markdown",
   "metadata": {},
   "source": [
    "# Data Cleansing"
   ]
  },
  {
   "cell_type": "code",
   "execution_count": 1,
   "metadata": {},
   "outputs": [],
   "source": [
    "import pandas as pd\n",
    "import json\n",
    "import seaborn as sns\n",
    "import tqdm\n",
    "import re"
   ]
  },
  {
   "cell_type": "code",
   "execution_count": 2,
   "metadata": {},
   "outputs": [
    {
     "name": "stderr",
     "output_type": "stream",
     "text": [
      "C:\\Users\\josep\\anaconda3\\lib\\site-packages\\IPython\\core\\interactiveshell.py:3063: DtypeWarning: Columns (0,116,163,185,217,264,850,851,852,853,1433,1722,1753,1893,2157,2159,2383) have mixed types.Specify dtype option on import or set low_memory=False.\n",
      "  interactivity=interactivity, compiler=compiler, result=result)\n"
     ]
    }
   ],
   "source": [
    "vcdb = pd.read_csv('data/vcdb.csv')"
   ]
  },
  {
   "cell_type": "code",
   "execution_count": 6,
   "metadata": {},
   "outputs": [
    {
     "data": {
      "text/plain": [
       "['plus.attribute.confidentiality.credit_monitoring_years',\n",
       " 'plus.dbir_year',\n",
       " 'plus.timeline.notification.year',\n",
       " 'timeline.incident.year']"
      ]
     },
     "execution_count": 6,
     "metadata": {},
     "output_type": "execute_result"
    }
   ],
   "source": [
    "[col for col in vcdb if 'year' in col]"
   ]
  },
  {
   "cell_type": "code",
   "execution_count": 3,
   "metadata": {},
   "outputs": [],
   "source": [
    "with open('data/vcdb-enum.json') as f:\n",
    "    enums = json.load(f)\n",
    "    \n",
    "with open('data/vcdb-merged.json') as f:\n",
    "    schema = json.load(f)"
   ]
  },
  {
   "cell_type": "code",
   "execution_count": 4,
   "metadata": {},
   "outputs": [],
   "source": [
    "keynames = []\n",
    "with open('data/vcdb-keynames-real.txt') as f:\n",
    "    for line in f:\n",
    "        keynames.append(line.replace('\\n', ''))\n",
    "        "
   ]
  },
  {
   "cell_type": "code",
   "execution_count": 7,
   "metadata": {},
   "outputs": [],
   "source": [
    "pd.Series(list(enums.keys())).to_clipboard()"
   ]
  },
  {
   "cell_type": "code",
   "execution_count": 8,
   "metadata": {},
   "outputs": [],
   "source": [
    "features = set([col[:col.rindex('.')]+'.' if col.count('.') > 1 else col for col in vcdb])"
   ]
  },
  {
   "cell_type": "code",
   "execution_count": 9,
   "metadata": {},
   "outputs": [
    {
     "data": {
      "text/plain": [
       "['victim.revenue.iso_currency_code.',\n",
       " 'plus.event_chain.action.',\n",
       " 'impact.loss.rating.',\n",
       " 'attribute.confidentiality.state.',\n",
       " 'action.physical.',\n",
       " 'action.physical.vector.',\n",
       " 'asset.hosting.',\n",
       " 'asset.management.',\n",
       " 'plus.pci.',\n",
       " 'plus.pci.req_10.',\n",
       " 'plus.asset.',\n",
       " 'action.hacking.variety.',\n",
       " 'plus.pci.req_4.',\n",
       " 'actor.external.variety.',\n",
       " 'plus.pci.req_2.',\n",
       " 'impact.loss.variety.',\n",
       " 'timeline.containment.unit.',\n",
       " 'plus.pci.req_11.',\n",
       " 'plus.pci.req_3.',\n",
       " 'plus.timeline.notification.',\n",
       " 'asset.assets.variety.',\n",
       " 'attribute.confidentiality.data.amount.',\n",
       " 'plus.pci.compliance_status.',\n",
       " 'attribute.confidentiality.data_disclosure.',\n",
       " 'action.environmental.variety.',\n",
       " 'plus.event_chain.actor.',\n",
       " 'action.misuse.variety.',\n",
       " 'plus.event_chain.',\n",
       " 'plus.antiforensic_measures.',\n",
       " 'victim.orgsize.',\n",
       " 'victim.revenue.',\n",
       " 'victim.industry2.',\n",
       " 'asset.assets.amount.',\n",
       " 'asset.country.',\n",
       " 'plus.asset_os.',\n",
       " 'plus.pci.req_1.',\n",
       " 'action.misuse.vector.',\n",
       " 'asset.governance.',\n",
       " 'plus.attack_difficulty_initial.',\n",
       " 'timeline.containment.',\n",
       " 'plus.pci.req_7.',\n",
       " 'timeline.exfiltration.unit.',\n",
       " 'timeline.discovery.',\n",
       " 'action.social.result.',\n",
       " 'plus.unknown_unknowns.',\n",
       " 'actor.internal.variety.',\n",
       " 'asset.accessibility.',\n",
       " 'actor.internal.motive.',\n",
       " 'plus.event_chain.attribute.',\n",
       " 'actor.external.',\n",
       " 'action.physical.result.',\n",
       " 'timeline.compromise.',\n",
       " 'plus.pci.req_5.',\n",
       " 'attribute.availability.variety.',\n",
       " 'victim.employee_count.',\n",
       " 'attribute.integrity.',\n",
       " 'actor.internal.',\n",
       " 'impact.overall_rating.',\n",
       " 'actor.unknown.',\n",
       " 'attribute.confidentiality.data.variety.',\n",
       " 'action.unknown.result.',\n",
       " 'attribute.availability.duration.',\n",
       " 'timeline.exfiltration.',\n",
       " 'action.malware.variety.',\n",
       " 'action.error.',\n",
       " 'timeline.incident.',\n",
       " 'asset.ownership.',\n",
       " 'impact.loss.',\n",
       " 'plus.attribute.confidentiality.',\n",
       " 'plus.pci.merchant_level.',\n",
       " 'action.social.',\n",
       " 'action.malware.',\n",
       " 'actor.partner.country.',\n",
       " 'plus.pci.req_6.',\n",
       " 'action.malware.vector.',\n",
       " 'victim.country.',\n",
       " 'actor.external.motive.',\n",
       " 'plus.event_chain.asset.',\n",
       " 'action.error.variety.',\n",
       " 'action.hacking.vector.',\n",
       " 'actor.external.country.',\n",
       " 'action.unknown.',\n",
       " 'actor.internal.job_change.',\n",
       " 'actor.partner.',\n",
       " 'plus.attack_difficulty_legacy.',\n",
       " 'attribute.availability.',\n",
       " 'action.hacking.',\n",
       " 'plus.attack_difficulty_subsequent.',\n",
       " 'plus.pci.req_8.',\n",
       " 'actor.partner.motive.',\n",
       " 'attribute.integrity.variety.',\n",
       " 'plus.unfollowed_policies.',\n",
       " 'timeline.discovery.unit.',\n",
       " 'action.misuse.result.',\n",
       " 'attribute.confidentiality.',\n",
       " 'plus.analysis_status.',\n",
       " 'plus.pci.req_9.',\n",
       " 'plus.security_maturity.',\n",
       " 'asset.cloud.',\n",
       " 'action.social.target.',\n",
       " 'victim.industry.',\n",
       " 'action.malware.result.',\n",
       " 'victim.secondary.',\n",
       " 'attribute.availability.duration.unit.',\n",
       " 'timeline.compromise.unit.',\n",
       " 'plus.pci.req_12.',\n",
       " 'action.error.vector.',\n",
       " 'action.misuse.',\n",
       " 'action.physical.variety.',\n",
       " 'attribute.confidentiality.data_victim.',\n",
       " 'action.social.variety.',\n",
       " 'impact.iso_currency_code.',\n",
       " 'asset.variety.',\n",
       " 'action.hacking.result.',\n",
       " 'action.environmental.',\n",
       " 'action.social.vector.']"
      ]
     },
     "execution_count": 9,
     "metadata": {},
     "output_type": "execute_result"
    }
   ],
   "source": [
    "[feat for feat in features if feat.endswith('.')]"
   ]
  },
  {
   "cell_type": "markdown",
   "metadata": {},
   "source": [
    "# Cleaning Functions"
   ]
  },
  {
   "cell_type": "code",
   "execution_count": 10,
   "metadata": {},
   "outputs": [],
   "source": [
    "def decode(row_subset):\n",
    "    if row_subset.sum() > 1:\n",
    "        raise ValueError('Multiple Options Selected')\n",
    "    for col in row_subset.index:\n",
    "        if row_subset[col]:\n",
    "            return col"
   ]
  },
  {
   "cell_type": "code",
   "execution_count": 11,
   "metadata": {},
   "outputs": [],
   "source": [
    "def decode_feature(vcdb, pattern, cname='', split=True, drop=True):\n",
    "    ohe_cols = [col for col in vcdb.columns if col.startswith(pattern)]\n",
    "    if cname == '':\n",
    "        cname = pattern[:pattern.rindex('.')]\n",
    "    decoded = vcdb[ohe_cols].apply(decode, axis=1)\n",
    "    if split:\n",
    "        decoded = (\n",
    "            decoded\n",
    "                .str.split('.')\n",
    "                .str[-1]\n",
    "        )        \n",
    "    if drop:\n",
    "        vcdb = vcdb.drop(labels=ohe_cols, axis=1)\n",
    "        if len([col for col in vcdb if col.startswith(pattern)]) != 0:\n",
    "            raise Exception('Bad pattern supplied')\n",
    "    \n",
    "    vcdb[cname] = decoded\n",
    "    return vcdb"
   ]
  },
  {
   "cell_type": "markdown",
   "metadata": {},
   "source": [
    "# Incident Tracking Variables"
   ]
  },
  {
   "cell_type": "code",
   "execution_count": 12,
   "metadata": {},
   "outputs": [],
   "source": [
    "tracking_cols = [\n",
    "    'incident_id',\n",
    "    'source_id'\n",
    "]"
   ]
  },
  {
   "cell_type": "markdown",
   "metadata": {},
   "source": [
    "## Target Variables"
   ]
  },
  {
   "cell_type": "markdown",
   "metadata": {},
   "source": [
    "### Impact"
   ]
  },
  {
   "cell_type": "code",
   "execution_count": 13,
   "metadata": {},
   "outputs": [
    {
     "data": {
      "text/plain": [
       "dict_keys(['loss', 'overall_rating', 'iso_currency_code'])"
      ]
     },
     "execution_count": 13,
     "metadata": {},
     "output_type": "execute_result"
    }
   ],
   "source": [
    "enums['impact'].keys()"
   ]
  },
  {
   "cell_type": "markdown",
   "metadata": {},
   "source": [
    "#### Security Incident"
   ]
  },
  {
   "cell_type": "code",
   "execution_count": 14,
   "metadata": {},
   "outputs": [
    {
     "data": {
      "text/plain": [
       "Confirmed    7759\n",
       "Suspected      67\n",
       "Near miss       6\n",
       "Name: security_incident, dtype: int64"
      ]
     },
     "execution_count": 14,
     "metadata": {},
     "output_type": "execute_result"
    }
   ],
   "source": [
    "vcdb = vcdb.pipe(decode_feature, pattern='security_incident.')\n",
    "vcdb['security_incident'].value_counts()"
   ]
  },
  {
   "cell_type": "markdown",
   "metadata": {},
   "source": [
    "#### Impact Overall rating"
   ]
  },
  {
   "cell_type": "code",
   "execution_count": 16,
   "metadata": {},
   "outputs": [
    {
     "data": {
      "text/plain": [
       "Unknown          5763\n",
       "NaN              2043\n",
       "Distracting        13\n",
       "Damaging            8\n",
       "Painful             5\n",
       "Insignificant       1\n",
       "Name: impact.overall_rating, dtype: int64"
      ]
     },
     "execution_count": 16,
     "metadata": {},
     "output_type": "execute_result"
    }
   ],
   "source": [
    "vcdb = vcdb.pipe(decode_feature, pattern='impact.overall_rating.')\n",
    "vcdb['impact.overall_rating'].value_counts(dropna=False)"
   ]
  },
  {
   "cell_type": "markdown",
   "metadata": {},
   "source": [
    "#### Impact overall_amount, overall_min_amount, overall_max_amount"
   ]
  },
  {
   "cell_type": "code",
   "execution_count": 17,
   "metadata": {},
   "outputs": [
    {
     "data": {
      "text/plain": [
       "NaN          7753\n",
       "1000000.0       6\n",
       "60000.0         5\n",
       "100000.0        3\n",
       "50000.0         3\n",
       "             ... \n",
       "330000.0        1\n",
       "13000.0         1\n",
       "3000000.0       1\n",
       "77777.0         1\n",
       "325000.0        1\n",
       "Name: impact.overall_amount, Length: 63, dtype: int64"
      ]
     },
     "execution_count": 17,
     "metadata": {},
     "output_type": "execute_result"
    }
   ],
   "source": [
    "vcdb['impact.overall_amount'].value_counts(dropna=False)"
   ]
  },
  {
   "cell_type": "code",
   "execution_count": 19,
   "metadata": {},
   "outputs": [
    {
     "data": {
      "text/plain": [
       "NaN       7832\n",
       "1500.0       1\n",
       "Name: impact.overall_max_amount, dtype: int64"
      ]
     },
     "execution_count": 19,
     "metadata": {},
     "output_type": "execute_result"
    }
   ],
   "source": [
    "vcdb['impact.overall_max_amount'].value_counts(dropna=False)"
   ]
  },
  {
   "cell_type": "code",
   "execution_count": 20,
   "metadata": {},
   "outputs": [
    {
     "data": {
      "text/plain": [
       "NaN          7831\n",
       "3700000.0       1\n",
       "300.0           1\n",
       "Name: impact.overall_min_amount, dtype: int64"
      ]
     },
     "execution_count": 20,
     "metadata": {},
     "output_type": "execute_result"
    }
   ],
   "source": [
    "vcdb['impact.overall_min_amount'].value_counts(dropna=False)"
   ]
  },
  {
   "cell_type": "markdown",
   "metadata": {},
   "source": [
    "#### Impact Currency Code\n",
    "\n",
    "Most of these columns are false and therefore not of use to us"
   ]
  },
  {
   "cell_type": "code",
   "execution_count": 21,
   "metadata": {},
   "outputs": [
    {
     "data": {
      "text/plain": [
       "NaN    7636\n",
       "USD     153\n",
       "GBP      28\n",
       "EUR       8\n",
       "THB       2\n",
       "CZK       1\n",
       "INR       1\n",
       "CAD       1\n",
       "AUD       1\n",
       "ZAR       1\n",
       "KRW       1\n",
       "Name: impact.iso_currency_code, dtype: int64"
      ]
     },
     "execution_count": 21,
     "metadata": {},
     "output_type": "execute_result"
    }
   ],
   "source": [
    "vcdb = vcdb.pipe(decode_feature, pattern='impact.iso_currency_code.')\n",
    "vcdb['impact.iso_currency_code'].value_counts(dropna=False)"
   ]
  },
  {
   "cell_type": "markdown",
   "metadata": {},
   "source": [
    "### Impact Loss\n"
   ]
  },
  {
   "cell_type": "code",
   "execution_count": 22,
   "metadata": {},
   "outputs": [
    {
     "data": {
      "text/plain": [
       "['impact.loss.amount',\n",
       " 'impact.loss.max_amount',\n",
       " 'impact.loss.min_amount',\n",
       " 'impact.loss.rating.Major',\n",
       " 'impact.loss.rating.Minor',\n",
       " 'impact.loss.rating.Moderate',\n",
       " 'impact.loss.rating.None',\n",
       " 'impact.loss.rating.Unknown',\n",
       " 'impact.loss.variety.Asset and fraud',\n",
       " 'impact.loss.variety.Brand damage',\n",
       " 'impact.loss.variety.Business disruption',\n",
       " 'impact.loss.variety.Competitive advantage',\n",
       " 'impact.loss.variety.Legal and regulatory',\n",
       " 'impact.loss.variety.Operating costs',\n",
       " 'impact.loss.variety.Other',\n",
       " 'impact.loss.variety.Response and recovery']"
      ]
     },
     "execution_count": 22,
     "metadata": {},
     "output_type": "execute_result"
    }
   ],
   "source": [
    "[col for col in vcdb if 'impact.loss.' in col]"
   ]
  },
  {
   "cell_type": "markdown",
   "metadata": {},
   "source": [
    "#### Impact Loss Rating\n",
    "\n",
    "All of these columns appear to be False and therefore quite useless to us"
   ]
  },
  {
   "cell_type": "code",
   "execution_count": 23,
   "metadata": {},
   "outputs": [],
   "source": [
    "vcdb[[col for col in vcdb if 'impact.loss.rating.' in col]]\n",
    "assert not vcdb[[col for col in vcdb if 'impact.loss.rating.' in col]].any().any()\n",
    "vcdb = vcdb.drop(labels=[col for col in vcdb if 'impact.loss.rating.' in col], axis=1)"
   ]
  },
  {
   "cell_type": "markdown",
   "metadata": {},
   "source": [
    "#### Impact Loss Variety\n",
    "\n",
    "All of these columns appear to be False and therefore quite useless to us"
   ]
  },
  {
   "cell_type": "code",
   "execution_count": 24,
   "metadata": {},
   "outputs": [],
   "source": [
    "vcdb[[col for col in vcdb if 'impact.loss.variety.' in col]]\n",
    "assert not vcdb[[col for col in vcdb if 'impact.loss.variety.' in col]].any().any()"
   ]
  },
  {
   "cell_type": "code",
   "execution_count": 25,
   "metadata": {},
   "outputs": [
    {
     "data": {
      "text/plain": [
       "NaN    7833\n",
       "Name: impact.loss.variety, dtype: int64"
      ]
     },
     "execution_count": 25,
     "metadata": {},
     "output_type": "execute_result"
    }
   ],
   "source": [
    "vcdb= vcdb.pipe(decode_feature, pattern='impact.loss.variety.')\n",
    "vcdb['impact.loss.variety'].value_counts(dropna=False)"
   ]
  },
  {
   "cell_type": "code",
   "execution_count": 26,
   "metadata": {},
   "outputs": [],
   "source": [
    "assert vcdb['impact.loss.max_amount'].isnull().all()\n",
    "assert vcdb['impact.loss.min_amount'].isnull().all()\n",
    "assert vcdb['impact.loss.variety'].isnull().all()\n",
    "vcdb = vcdb.drop(labels=['impact.loss.max_amount', 'impact.loss.min_amount', 'impact.loss.variety'], axis=1)"
   ]
  },
  {
   "cell_type": "markdown",
   "metadata": {},
   "source": [
    "### Impact Notes"
   ]
  },
  {
   "cell_type": "code",
   "execution_count": 27,
   "metadata": {},
   "outputs": [
    {
     "data": {
      "text/plain": [
       "False    7700\n",
       "True      133\n",
       "Name: impact.notes, dtype: int64"
      ]
     },
     "execution_count": 27,
     "metadata": {},
     "output_type": "execute_result"
    }
   ],
   "source": [
    "vcdb['impact.notes'].notnull().value_counts()"
   ]
  },
  {
   "cell_type": "code",
   "execution_count": 28,
   "metadata": {},
   "outputs": [
    {
     "data": {
      "text/plain": [
       "5304    The damage affected servers that stored person...\n",
       "4298       \"making transactions worth crores of rupees \";\n",
       "3868     fraud losses totaled $63M over course of scheme;\n",
       "4100                                                Fine;\n",
       "5732    Lost business partnership with StartPage;Delay...\n",
       "Name: impact.notes, dtype: object"
      ]
     },
     "execution_count": 28,
     "metadata": {},
     "output_type": "execute_result"
    }
   ],
   "source": [
    "vcdb.loc[vcdb['impact.notes'].notnull(), 'impact.notes'].sample(5)"
   ]
  },
  {
   "cell_type": "code",
   "execution_count": 29,
   "metadata": {},
   "outputs": [
    {
     "data": {
      "text/plain": [
       "['High', 'Medium', 'Low', 'None']"
      ]
     },
     "execution_count": 29,
     "metadata": {},
     "output_type": "execute_result"
    }
   ],
   "source": [
    "enums['confidence']"
   ]
  },
  {
   "cell_type": "code",
   "execution_count": 30,
   "metadata": {},
   "outputs": [
    {
     "data": {
      "text/plain": [
       "NaN       7158\n",
       "High       425\n",
       "Medium     181\n",
       "Low         68\n",
       "None         1\n",
       "Name: confidence, dtype: int64"
      ]
     },
     "execution_count": 30,
     "metadata": {},
     "output_type": "execute_result"
    }
   ],
   "source": [
    "vcdb = vcdb.pipe(decode_feature, pattern='confidence.')\n",
    "vcdb['confidence'].value_counts(dropna=False)"
   ]
  },
  {
   "cell_type": "markdown",
   "metadata": {},
   "source": [
    "### Incident Timeline\n",
    "The timeline of events leading up to and following an incident varies greatly depending on a multitude of factors. VERIS tracks the following incident milestones, not all of which are applicable to every incident:\n",
    "\n",
    "1. First malicious action: Beginning of the threat actor's malicious actions against the victim. Port scans, initiating a brute-force attack, and even physical recon, are a few examples. This is only relevant to intentional and malicious actions.\n",
    "2. Initial compromise: First point at which a security attribute (C/P, I/A, A/U) of an information asset was compromised.\n",
    "3. Data exfiltration: First point at which non-public data was taken from the victim environment. Only applicable to data compromise events.\n",
    "4. Incident discovery: When the organization first learned the incident had occurred.\n",
    "5. Containment/restoration: Point at which the incident is contained (e.g., the “bleeding is stopped”) or restored (e.g., fully functional)”.\n",
    "\n",
    "While this may be useful to capture some descriptive statistics on different incidents, this will not likely be useful to us in doing predictive analytics."
   ]
  },
  {
   "cell_type": "code",
   "execution_count": 31,
   "metadata": {},
   "outputs": [
    {
     "data": {
      "text/plain": [
       "{'compromise': {'unit': ['Seconds',\n",
       "   'Minutes',\n",
       "   'Hours',\n",
       "   'Days',\n",
       "   'Weeks',\n",
       "   'Months',\n",
       "   'Years',\n",
       "   'Never',\n",
       "   'NA',\n",
       "   'Unknown']},\n",
       " 'exfiltration': {'unit': ['Seconds',\n",
       "   'Minutes',\n",
       "   'Hours',\n",
       "   'Days',\n",
       "   'Weeks',\n",
       "   'Months',\n",
       "   'Years',\n",
       "   'Never',\n",
       "   'NA',\n",
       "   'Unknown']},\n",
       " 'discovery': {'unit': ['Seconds',\n",
       "   'Minutes',\n",
       "   'Hours',\n",
       "   'Days',\n",
       "   'Weeks',\n",
       "   'Months',\n",
       "   'Years',\n",
       "   'Never',\n",
       "   'NA',\n",
       "   'Unknown']},\n",
       " 'containment': {'unit': ['Seconds',\n",
       "   'Minutes',\n",
       "   'Hours',\n",
       "   'Days',\n",
       "   'Weeks',\n",
       "   'Months',\n",
       "   'Years',\n",
       "   'Never',\n",
       "   'NA',\n",
       "   'Unknown']}}"
      ]
     },
     "execution_count": 31,
     "metadata": {},
     "output_type": "execute_result"
    }
   ],
   "source": [
    "enums['timeline']"
   ]
  },
  {
   "cell_type": "code",
   "execution_count": 32,
   "metadata": {},
   "outputs": [],
   "source": [
    "timeline_cols = [col for col in vcdb if col.startswith('timeline.')]\n",
    "vcdb = vcdb.drop(labels=timeline_cols, axis=1)"
   ]
  },
  {
   "cell_type": "code",
   "execution_count": 33,
   "metadata": {},
   "outputs": [
    {
     "data": {
      "text/plain": [
       "['plus.attribute.confidentiality.credit_monitoring_years',\n",
       " 'plus.dbir_year',\n",
       " 'plus.timeline.notification.day',\n",
       " 'plus.timeline.notification.month',\n",
       " 'plus.timeline.notification.year',\n",
       " 'plus.created',\n",
       " 'plus.modified']"
      ]
     },
     "execution_count": 33,
     "metadata": {},
     "output_type": "execute_result"
    }
   ],
   "source": [
    "time_keywords = ['day', 'year', 'month']\n",
    "time_cols = [col for col in vcdb if any([w in col for w in time_keywords])]\n",
    "time_cols += ['plus.created', 'plus.modified']\n",
    "time_cols"
   ]
  },
  {
   "cell_type": "code",
   "execution_count": 34,
   "metadata": {},
   "outputs": [],
   "source": [
    "vcdb = vcdb.drop(labels=time_cols, axis=1)"
   ]
  },
  {
   "cell_type": "markdown",
   "metadata": {},
   "source": [
    "### Victim related features"
   ]
  },
  {
   "cell_type": "code",
   "execution_count": 35,
   "metadata": {},
   "outputs": [
    {
     "data": {
      "text/plain": [
       "dict_keys(['employee_count', 'country', 'revenue'])"
      ]
     },
     "execution_count": 35,
     "metadata": {},
     "output_type": "execute_result"
    }
   ],
   "source": [
    "enums['victim'].keys()"
   ]
  },
  {
   "cell_type": "code",
   "execution_count": 36,
   "metadata": {},
   "outputs": [],
   "source": [
    "keys = {}\n",
    "for k, v in enums['victim'].items():\n",
    "    if type(v) == dict:\n",
    "        keys[k] = v.keys()\n",
    "    elif type(v) == list:\n",
    "        keys[k] = None"
   ]
  },
  {
   "cell_type": "code",
   "execution_count": 37,
   "metadata": {},
   "outputs": [
    {
     "data": {
      "text/plain": [
       "{'employee_count': None,\n",
       " 'country': None,\n",
       " 'revenue': dict_keys(['iso_currency_code'])}"
      ]
     },
     "execution_count": 37,
     "metadata": {},
     "output_type": "execute_result"
    }
   ],
   "source": [
    "keys"
   ]
  },
  {
   "cell_type": "markdown",
   "metadata": {},
   "source": [
    "#### Victim Employee Count"
   ]
  },
  {
   "cell_type": "markdown",
   "metadata": {},
   "source": [
    "Check that these employee categories are mutually exclusive"
   ]
  },
  {
   "cell_type": "code",
   "execution_count": 38,
   "metadata": {},
   "outputs": [
    {
     "data": {
      "text/html": [
       "<div>\n",
       "<style scoped>\n",
       "    .dataframe tbody tr th:only-of-type {\n",
       "        vertical-align: middle;\n",
       "    }\n",
       "\n",
       "    .dataframe tbody tr th {\n",
       "        vertical-align: top;\n",
       "    }\n",
       "\n",
       "    .dataframe thead th {\n",
       "        text-align: right;\n",
       "    }\n",
       "</style>\n",
       "<table border=\"1\" class=\"dataframe\">\n",
       "  <thead>\n",
       "    <tr style=\"text-align: right;\">\n",
       "      <th></th>\n",
       "      <th>victim.employee_count.1 to 10</th>\n",
       "      <th>victim.employee_count.10001 to 25000</th>\n",
       "      <th>victim.employee_count.1001 to 10000</th>\n",
       "      <th>victim.employee_count.101 to 1000</th>\n",
       "      <th>victim.employee_count.11 to 100</th>\n",
       "      <th>victim.employee_count.25001 to 50000</th>\n",
       "      <th>victim.employee_count.50001 to 100000</th>\n",
       "      <th>victim.employee_count.Large</th>\n",
       "      <th>victim.employee_count.Over 100000</th>\n",
       "      <th>victim.employee_count.Small</th>\n",
       "      <th>victim.employee_count.Unknown</th>\n",
       "    </tr>\n",
       "  </thead>\n",
       "  <tbody>\n",
       "    <tr>\n",
       "      <th>0</th>\n",
       "      <td>False</td>\n",
       "      <td>False</td>\n",
       "      <td>False</td>\n",
       "      <td>False</td>\n",
       "      <td>False</td>\n",
       "      <td>False</td>\n",
       "      <td>False</td>\n",
       "      <td>False</td>\n",
       "      <td>True</td>\n",
       "      <td>False</td>\n",
       "      <td>False</td>\n",
       "    </tr>\n",
       "    <tr>\n",
       "      <th>1</th>\n",
       "      <td>False</td>\n",
       "      <td>False</td>\n",
       "      <td>False</td>\n",
       "      <td>True</td>\n",
       "      <td>False</td>\n",
       "      <td>False</td>\n",
       "      <td>False</td>\n",
       "      <td>False</td>\n",
       "      <td>False</td>\n",
       "      <td>False</td>\n",
       "      <td>False</td>\n",
       "    </tr>\n",
       "    <tr>\n",
       "      <th>2</th>\n",
       "      <td>False</td>\n",
       "      <td>False</td>\n",
       "      <td>True</td>\n",
       "      <td>False</td>\n",
       "      <td>False</td>\n",
       "      <td>False</td>\n",
       "      <td>False</td>\n",
       "      <td>False</td>\n",
       "      <td>False</td>\n",
       "      <td>False</td>\n",
       "      <td>False</td>\n",
       "    </tr>\n",
       "    <tr>\n",
       "      <th>3</th>\n",
       "      <td>False</td>\n",
       "      <td>False</td>\n",
       "      <td>False</td>\n",
       "      <td>False</td>\n",
       "      <td>False</td>\n",
       "      <td>False</td>\n",
       "      <td>False</td>\n",
       "      <td>False</td>\n",
       "      <td>False</td>\n",
       "      <td>False</td>\n",
       "      <td>True</td>\n",
       "    </tr>\n",
       "    <tr>\n",
       "      <th>4</th>\n",
       "      <td>False</td>\n",
       "      <td>False</td>\n",
       "      <td>False</td>\n",
       "      <td>False</td>\n",
       "      <td>False</td>\n",
       "      <td>False</td>\n",
       "      <td>False</td>\n",
       "      <td>False</td>\n",
       "      <td>True</td>\n",
       "      <td>False</td>\n",
       "      <td>False</td>\n",
       "    </tr>\n",
       "  </tbody>\n",
       "</table>\n",
       "</div>"
      ],
      "text/plain": [
       "   victim.employee_count.1 to 10  victim.employee_count.10001 to 25000  \\\n",
       "0                          False                                 False   \n",
       "1                          False                                 False   \n",
       "2                          False                                 False   \n",
       "3                          False                                 False   \n",
       "4                          False                                 False   \n",
       "\n",
       "   victim.employee_count.1001 to 10000  victim.employee_count.101 to 1000  \\\n",
       "0                                False                              False   \n",
       "1                                False                               True   \n",
       "2                                 True                              False   \n",
       "3                                False                              False   \n",
       "4                                False                              False   \n",
       "\n",
       "   victim.employee_count.11 to 100  victim.employee_count.25001 to 50000  \\\n",
       "0                            False                                 False   \n",
       "1                            False                                 False   \n",
       "2                            False                                 False   \n",
       "3                            False                                 False   \n",
       "4                            False                                 False   \n",
       "\n",
       "   victim.employee_count.50001 to 100000  victim.employee_count.Large  \\\n",
       "0                                  False                        False   \n",
       "1                                  False                        False   \n",
       "2                                  False                        False   \n",
       "3                                  False                        False   \n",
       "4                                  False                        False   \n",
       "\n",
       "   victim.employee_count.Over 100000  victim.employee_count.Small  \\\n",
       "0                               True                        False   \n",
       "1                              False                        False   \n",
       "2                              False                        False   \n",
       "3                              False                        False   \n",
       "4                               True                        False   \n",
       "\n",
       "   victim.employee_count.Unknown  \n",
       "0                          False  \n",
       "1                          False  \n",
       "2                          False  \n",
       "3                           True  \n",
       "4                          False  "
      ]
     },
     "execution_count": 38,
     "metadata": {},
     "output_type": "execute_result"
    }
   ],
   "source": [
    "victim_employee_count_cols = [col for col in vcdb if 'victim.employee_count.' in col]\n",
    "\n",
    "# This assertion performs the check\n",
    "assert (vcdb[victim_employee_count_cols].sum(axis=1) == 1).all()\n",
    "vcdb[victim_employee_count_cols].head()"
   ]
  },
  {
   "cell_type": "code",
   "execution_count": 39,
   "metadata": {},
   "outputs": [
    {
     "data": {
      "text/plain": [
       "Unknown            2625\n",
       "1001 to 10000      1058\n",
       "Over 100000        1002\n",
       "101 to 1000         835\n",
       "11 to 100           675\n",
       "1 to 10             414\n",
       "10001 to 25000      374\n",
       "Small               340\n",
       "Large               234\n",
       "25001 to 50000      169\n",
       "50001 to 100000     107\n",
       "Name: victim.employee_count, dtype: int64"
      ]
     },
     "execution_count": 39,
     "metadata": {},
     "output_type": "execute_result"
    }
   ],
   "source": [
    "vcdb = vcdb.pipe(decode_feature, pattern='victim.employee_count.')\n",
    "vcdb['victim.employee_count'].value_counts()"
   ]
  },
  {
   "cell_type": "markdown",
   "metadata": {},
   "source": [
    "#### Victim Country"
   ]
  },
  {
   "cell_type": "code",
   "execution_count": 40,
   "metadata": {},
   "outputs": [
    {
     "data": {
      "text/html": [
       "<div>\n",
       "<style scoped>\n",
       "    .dataframe tbody tr th:only-of-type {\n",
       "        vertical-align: middle;\n",
       "    }\n",
       "\n",
       "    .dataframe tbody tr th {\n",
       "        vertical-align: top;\n",
       "    }\n",
       "\n",
       "    .dataframe thead th {\n",
       "        text-align: right;\n",
       "    }\n",
       "</style>\n",
       "<table border=\"1\" class=\"dataframe\">\n",
       "  <thead>\n",
       "    <tr style=\"text-align: right;\">\n",
       "      <th></th>\n",
       "      <th>victim.country.AD</th>\n",
       "      <th>victim.country.AE</th>\n",
       "      <th>victim.country.AF</th>\n",
       "      <th>victim.country.AG</th>\n",
       "      <th>victim.country.AI</th>\n",
       "      <th>victim.country.AL</th>\n",
       "      <th>victim.country.AM</th>\n",
       "      <th>victim.country.AO</th>\n",
       "      <th>victim.country.AQ</th>\n",
       "      <th>victim.country.AR</th>\n",
       "      <th>...</th>\n",
       "      <th>victim.country.VI</th>\n",
       "      <th>victim.country.VN</th>\n",
       "      <th>victim.country.VU</th>\n",
       "      <th>victim.country.WF</th>\n",
       "      <th>victim.country.WS</th>\n",
       "      <th>victim.country.YE</th>\n",
       "      <th>victim.country.YT</th>\n",
       "      <th>victim.country.ZA</th>\n",
       "      <th>victim.country.ZM</th>\n",
       "      <th>victim.country.ZW</th>\n",
       "    </tr>\n",
       "  </thead>\n",
       "  <tbody>\n",
       "    <tr>\n",
       "      <th>0</th>\n",
       "      <td>False</td>\n",
       "      <td>False</td>\n",
       "      <td>False</td>\n",
       "      <td>False</td>\n",
       "      <td>False</td>\n",
       "      <td>False</td>\n",
       "      <td>False</td>\n",
       "      <td>False</td>\n",
       "      <td>False</td>\n",
       "      <td>False</td>\n",
       "      <td>...</td>\n",
       "      <td>False</td>\n",
       "      <td>False</td>\n",
       "      <td>False</td>\n",
       "      <td>False</td>\n",
       "      <td>False</td>\n",
       "      <td>False</td>\n",
       "      <td>False</td>\n",
       "      <td>False</td>\n",
       "      <td>False</td>\n",
       "      <td>False</td>\n",
       "    </tr>\n",
       "    <tr>\n",
       "      <th>1</th>\n",
       "      <td>False</td>\n",
       "      <td>False</td>\n",
       "      <td>False</td>\n",
       "      <td>False</td>\n",
       "      <td>False</td>\n",
       "      <td>False</td>\n",
       "      <td>False</td>\n",
       "      <td>False</td>\n",
       "      <td>False</td>\n",
       "      <td>False</td>\n",
       "      <td>...</td>\n",
       "      <td>False</td>\n",
       "      <td>False</td>\n",
       "      <td>False</td>\n",
       "      <td>False</td>\n",
       "      <td>False</td>\n",
       "      <td>False</td>\n",
       "      <td>False</td>\n",
       "      <td>False</td>\n",
       "      <td>False</td>\n",
       "      <td>False</td>\n",
       "    </tr>\n",
       "    <tr>\n",
       "      <th>2</th>\n",
       "      <td>False</td>\n",
       "      <td>False</td>\n",
       "      <td>False</td>\n",
       "      <td>False</td>\n",
       "      <td>False</td>\n",
       "      <td>False</td>\n",
       "      <td>False</td>\n",
       "      <td>False</td>\n",
       "      <td>False</td>\n",
       "      <td>False</td>\n",
       "      <td>...</td>\n",
       "      <td>False</td>\n",
       "      <td>False</td>\n",
       "      <td>False</td>\n",
       "      <td>False</td>\n",
       "      <td>False</td>\n",
       "      <td>False</td>\n",
       "      <td>False</td>\n",
       "      <td>False</td>\n",
       "      <td>False</td>\n",
       "      <td>False</td>\n",
       "    </tr>\n",
       "    <tr>\n",
       "      <th>3</th>\n",
       "      <td>False</td>\n",
       "      <td>False</td>\n",
       "      <td>False</td>\n",
       "      <td>False</td>\n",
       "      <td>False</td>\n",
       "      <td>False</td>\n",
       "      <td>False</td>\n",
       "      <td>False</td>\n",
       "      <td>False</td>\n",
       "      <td>False</td>\n",
       "      <td>...</td>\n",
       "      <td>False</td>\n",
       "      <td>False</td>\n",
       "      <td>False</td>\n",
       "      <td>False</td>\n",
       "      <td>False</td>\n",
       "      <td>False</td>\n",
       "      <td>False</td>\n",
       "      <td>False</td>\n",
       "      <td>False</td>\n",
       "      <td>False</td>\n",
       "    </tr>\n",
       "    <tr>\n",
       "      <th>4</th>\n",
       "      <td>False</td>\n",
       "      <td>False</td>\n",
       "      <td>False</td>\n",
       "      <td>False</td>\n",
       "      <td>False</td>\n",
       "      <td>False</td>\n",
       "      <td>False</td>\n",
       "      <td>False</td>\n",
       "      <td>False</td>\n",
       "      <td>False</td>\n",
       "      <td>...</td>\n",
       "      <td>False</td>\n",
       "      <td>False</td>\n",
       "      <td>False</td>\n",
       "      <td>False</td>\n",
       "      <td>False</td>\n",
       "      <td>False</td>\n",
       "      <td>False</td>\n",
       "      <td>False</td>\n",
       "      <td>False</td>\n",
       "      <td>False</td>\n",
       "    </tr>\n",
       "  </tbody>\n",
       "</table>\n",
       "<p>5 rows × 251 columns</p>\n",
       "</div>"
      ],
      "text/plain": [
       "   victim.country.AD  victim.country.AE  victim.country.AF  victim.country.AG  \\\n",
       "0              False              False              False              False   \n",
       "1              False              False              False              False   \n",
       "2              False              False              False              False   \n",
       "3              False              False              False              False   \n",
       "4              False              False              False              False   \n",
       "\n",
       "   victim.country.AI  victim.country.AL  victim.country.AM  victim.country.AO  \\\n",
       "0              False              False              False              False   \n",
       "1              False              False              False              False   \n",
       "2              False              False              False              False   \n",
       "3              False              False              False              False   \n",
       "4              False              False              False              False   \n",
       "\n",
       "   victim.country.AQ  victim.country.AR  ...  victim.country.VI  \\\n",
       "0              False              False  ...              False   \n",
       "1              False              False  ...              False   \n",
       "2              False              False  ...              False   \n",
       "3              False              False  ...              False   \n",
       "4              False              False  ...              False   \n",
       "\n",
       "   victim.country.VN  victim.country.VU  victim.country.WF  victim.country.WS  \\\n",
       "0              False              False              False              False   \n",
       "1              False              False              False              False   \n",
       "2              False              False              False              False   \n",
       "3              False              False              False              False   \n",
       "4              False              False              False              False   \n",
       "\n",
       "   victim.country.YE  victim.country.YT  victim.country.ZA  victim.country.ZM  \\\n",
       "0              False              False              False              False   \n",
       "1              False              False              False              False   \n",
       "2              False              False              False              False   \n",
       "3              False              False              False              False   \n",
       "4              False              False              False              False   \n",
       "\n",
       "   victim.country.ZW  \n",
       "0              False  \n",
       "1              False  \n",
       "2              False  \n",
       "3              False  \n",
       "4              False  \n",
       "\n",
       "[5 rows x 251 columns]"
      ]
     },
     "execution_count": 40,
     "metadata": {},
     "output_type": "execute_result"
    }
   ],
   "source": [
    "victim_country_cols = [col for col in vcdb if 'victim.country' in col]\n",
    "\n",
    "# This assertion performs the check\n",
    "assert (vcdb[victim_country_cols].sum(axis=1) == 1).all()\n",
    "vcdb[victim_country_cols].head()"
   ]
  },
  {
   "cell_type": "code",
   "execution_count": 41,
   "metadata": {},
   "outputs": [
    {
     "data": {
      "text/plain": [
       "US         5700\n",
       "GB          492\n",
       "CA          306\n",
       "Unknown     191\n",
       "AU          121\n",
       "           ... \n",
       "NP            1\n",
       "MT            1\n",
       "TZ            1\n",
       "TJ            1\n",
       "ZM            1\n",
       "Name: victim.country, Length: 136, dtype: int64"
      ]
     },
     "execution_count": 41,
     "metadata": {},
     "output_type": "execute_result"
    }
   ],
   "source": [
    "vcdb = vcdb.pipe(decode_feature, pattern='victim.country.')\n",
    "vcdb['victim.country'].value_counts(dropna=False)"
   ]
  },
  {
   "cell_type": "markdown",
   "metadata": {},
   "source": [
    "#### Victim Revenue"
   ]
  },
  {
   "cell_type": "code",
   "execution_count": 42,
   "metadata": {},
   "outputs": [
    {
     "data": {
      "text/plain": [
       "True     7328\n",
       "False     505\n",
       "Name: victim.revenue.amount, dtype: int64"
      ]
     },
     "execution_count": 42,
     "metadata": {},
     "output_type": "execute_result"
    }
   ],
   "source": [
    "vcdb['victim.revenue.amount'].isnull().value_counts()"
   ]
  },
  {
   "cell_type": "code",
   "execution_count": 43,
   "metadata": {},
   "outputs": [
    {
     "name": "stdout",
     "output_type": "stream",
     "text": [
      "513 not null values found\n"
     ]
    },
    {
     "data": {
      "text/html": [
       "<div>\n",
       "<style scoped>\n",
       "    .dataframe tbody tr th:only-of-type {\n",
       "        vertical-align: middle;\n",
       "    }\n",
       "\n",
       "    .dataframe tbody tr th {\n",
       "        vertical-align: top;\n",
       "    }\n",
       "\n",
       "    .dataframe thead th {\n",
       "        text-align: right;\n",
       "    }\n",
       "</style>\n",
       "<table border=\"1\" class=\"dataframe\">\n",
       "  <thead>\n",
       "    <tr style=\"text-align: right;\">\n",
       "      <th></th>\n",
       "      <th>victim.revenue.iso_currency_code.AED</th>\n",
       "      <th>victim.revenue.iso_currency_code.AFN</th>\n",
       "      <th>victim.revenue.iso_currency_code.ALL</th>\n",
       "      <th>victim.revenue.iso_currency_code.AMD</th>\n",
       "      <th>victim.revenue.iso_currency_code.ANG</th>\n",
       "      <th>victim.revenue.iso_currency_code.AOA</th>\n",
       "      <th>victim.revenue.iso_currency_code.ARS</th>\n",
       "      <th>victim.revenue.iso_currency_code.AUD</th>\n",
       "      <th>victim.revenue.iso_currency_code.AWG</th>\n",
       "      <th>victim.revenue.iso_currency_code.AZN</th>\n",
       "      <th>...</th>\n",
       "      <th>victim.revenue.iso_currency_code.WST</th>\n",
       "      <th>victim.revenue.iso_currency_code.XAF</th>\n",
       "      <th>victim.revenue.iso_currency_code.XCD</th>\n",
       "      <th>victim.revenue.iso_currency_code.XDR</th>\n",
       "      <th>victim.revenue.iso_currency_code.XOF</th>\n",
       "      <th>victim.revenue.iso_currency_code.XPF</th>\n",
       "      <th>victim.revenue.iso_currency_code.YER</th>\n",
       "      <th>victim.revenue.iso_currency_code.ZAR</th>\n",
       "      <th>victim.revenue.iso_currency_code.ZMK</th>\n",
       "      <th>victim.revenue.iso_currency_code.ZWD</th>\n",
       "    </tr>\n",
       "  </thead>\n",
       "  <tbody>\n",
       "    <tr>\n",
       "      <th>0</th>\n",
       "      <td>False</td>\n",
       "      <td>False</td>\n",
       "      <td>False</td>\n",
       "      <td>False</td>\n",
       "      <td>False</td>\n",
       "      <td>False</td>\n",
       "      <td>False</td>\n",
       "      <td>False</td>\n",
       "      <td>False</td>\n",
       "      <td>False</td>\n",
       "      <td>...</td>\n",
       "      <td>False</td>\n",
       "      <td>False</td>\n",
       "      <td>False</td>\n",
       "      <td>False</td>\n",
       "      <td>False</td>\n",
       "      <td>False</td>\n",
       "      <td>False</td>\n",
       "      <td>False</td>\n",
       "      <td>False</td>\n",
       "      <td>False</td>\n",
       "    </tr>\n",
       "    <tr>\n",
       "      <th>1</th>\n",
       "      <td>False</td>\n",
       "      <td>False</td>\n",
       "      <td>False</td>\n",
       "      <td>False</td>\n",
       "      <td>False</td>\n",
       "      <td>False</td>\n",
       "      <td>False</td>\n",
       "      <td>False</td>\n",
       "      <td>False</td>\n",
       "      <td>False</td>\n",
       "      <td>...</td>\n",
       "      <td>False</td>\n",
       "      <td>False</td>\n",
       "      <td>False</td>\n",
       "      <td>False</td>\n",
       "      <td>False</td>\n",
       "      <td>False</td>\n",
       "      <td>False</td>\n",
       "      <td>False</td>\n",
       "      <td>False</td>\n",
       "      <td>False</td>\n",
       "    </tr>\n",
       "    <tr>\n",
       "      <th>2</th>\n",
       "      <td>False</td>\n",
       "      <td>False</td>\n",
       "      <td>False</td>\n",
       "      <td>False</td>\n",
       "      <td>False</td>\n",
       "      <td>False</td>\n",
       "      <td>False</td>\n",
       "      <td>False</td>\n",
       "      <td>False</td>\n",
       "      <td>False</td>\n",
       "      <td>...</td>\n",
       "      <td>False</td>\n",
       "      <td>False</td>\n",
       "      <td>False</td>\n",
       "      <td>False</td>\n",
       "      <td>False</td>\n",
       "      <td>False</td>\n",
       "      <td>False</td>\n",
       "      <td>False</td>\n",
       "      <td>False</td>\n",
       "      <td>False</td>\n",
       "    </tr>\n",
       "    <tr>\n",
       "      <th>3</th>\n",
       "      <td>False</td>\n",
       "      <td>False</td>\n",
       "      <td>False</td>\n",
       "      <td>False</td>\n",
       "      <td>False</td>\n",
       "      <td>False</td>\n",
       "      <td>False</td>\n",
       "      <td>False</td>\n",
       "      <td>False</td>\n",
       "      <td>False</td>\n",
       "      <td>...</td>\n",
       "      <td>False</td>\n",
       "      <td>False</td>\n",
       "      <td>False</td>\n",
       "      <td>False</td>\n",
       "      <td>False</td>\n",
       "      <td>False</td>\n",
       "      <td>False</td>\n",
       "      <td>False</td>\n",
       "      <td>False</td>\n",
       "      <td>False</td>\n",
       "    </tr>\n",
       "    <tr>\n",
       "      <th>4</th>\n",
       "      <td>False</td>\n",
       "      <td>False</td>\n",
       "      <td>False</td>\n",
       "      <td>False</td>\n",
       "      <td>False</td>\n",
       "      <td>False</td>\n",
       "      <td>False</td>\n",
       "      <td>False</td>\n",
       "      <td>False</td>\n",
       "      <td>False</td>\n",
       "      <td>...</td>\n",
       "      <td>False</td>\n",
       "      <td>False</td>\n",
       "      <td>False</td>\n",
       "      <td>False</td>\n",
       "      <td>False</td>\n",
       "      <td>False</td>\n",
       "      <td>False</td>\n",
       "      <td>False</td>\n",
       "      <td>False</td>\n",
       "      <td>False</td>\n",
       "    </tr>\n",
       "  </tbody>\n",
       "</table>\n",
       "<p>5 rows × 164 columns</p>\n",
       "</div>"
      ],
      "text/plain": [
       "   victim.revenue.iso_currency_code.AED  victim.revenue.iso_currency_code.AFN  \\\n",
       "0                                 False                                 False   \n",
       "1                                 False                                 False   \n",
       "2                                 False                                 False   \n",
       "3                                 False                                 False   \n",
       "4                                 False                                 False   \n",
       "\n",
       "   victim.revenue.iso_currency_code.ALL  victim.revenue.iso_currency_code.AMD  \\\n",
       "0                                 False                                 False   \n",
       "1                                 False                                 False   \n",
       "2                                 False                                 False   \n",
       "3                                 False                                 False   \n",
       "4                                 False                                 False   \n",
       "\n",
       "   victim.revenue.iso_currency_code.ANG  victim.revenue.iso_currency_code.AOA  \\\n",
       "0                                 False                                 False   \n",
       "1                                 False                                 False   \n",
       "2                                 False                                 False   \n",
       "3                                 False                                 False   \n",
       "4                                 False                                 False   \n",
       "\n",
       "   victim.revenue.iso_currency_code.ARS  victim.revenue.iso_currency_code.AUD  \\\n",
       "0                                 False                                 False   \n",
       "1                                 False                                 False   \n",
       "2                                 False                                 False   \n",
       "3                                 False                                 False   \n",
       "4                                 False                                 False   \n",
       "\n",
       "   victim.revenue.iso_currency_code.AWG  victim.revenue.iso_currency_code.AZN  \\\n",
       "0                                 False                                 False   \n",
       "1                                 False                                 False   \n",
       "2                                 False                                 False   \n",
       "3                                 False                                 False   \n",
       "4                                 False                                 False   \n",
       "\n",
       "   ...  victim.revenue.iso_currency_code.WST  \\\n",
       "0  ...                                 False   \n",
       "1  ...                                 False   \n",
       "2  ...                                 False   \n",
       "3  ...                                 False   \n",
       "4  ...                                 False   \n",
       "\n",
       "   victim.revenue.iso_currency_code.XAF  victim.revenue.iso_currency_code.XCD  \\\n",
       "0                                 False                                 False   \n",
       "1                                 False                                 False   \n",
       "2                                 False                                 False   \n",
       "3                                 False                                 False   \n",
       "4                                 False                                 False   \n",
       "\n",
       "   victim.revenue.iso_currency_code.XDR  victim.revenue.iso_currency_code.XOF  \\\n",
       "0                                 False                                 False   \n",
       "1                                 False                                 False   \n",
       "2                                 False                                 False   \n",
       "3                                 False                                 False   \n",
       "4                                 False                                 False   \n",
       "\n",
       "   victim.revenue.iso_currency_code.XPF  victim.revenue.iso_currency_code.YER  \\\n",
       "0                                 False                                 False   \n",
       "1                                 False                                 False   \n",
       "2                                 False                                 False   \n",
       "3                                 False                                 False   \n",
       "4                                 False                                 False   \n",
       "\n",
       "   victim.revenue.iso_currency_code.ZAR  victim.revenue.iso_currency_code.ZMK  \\\n",
       "0                                 False                                 False   \n",
       "1                                 False                                 False   \n",
       "2                                 False                                 False   \n",
       "3                                 False                                 False   \n",
       "4                                 False                                 False   \n",
       "\n",
       "   victim.revenue.iso_currency_code.ZWD  \n",
       "0                                 False  \n",
       "1                                 False  \n",
       "2                                 False  \n",
       "3                                 False  \n",
       "4                                 False  \n",
       "\n",
       "[5 rows x 164 columns]"
      ]
     },
     "execution_count": 43,
     "metadata": {},
     "output_type": "execute_result"
    }
   ],
   "source": [
    "victim_revenue_currency_cols = [col for col in vcdb if 'victim.revenue.iso_currency_code.' in col]\n",
    "\n",
    "# We find that most of the victim revenue currencies are null\n",
    "print('%s not null values found'%(vcdb[victim_revenue_currency_cols].sum(axis=1) == 1).sum())\n",
    "\n",
    "vcdb[victim_revenue_currency_cols].head()"
   ]
  },
  {
   "cell_type": "code",
   "execution_count": 44,
   "metadata": {},
   "outputs": [
    {
     "data": {
      "text/plain": [
       "NaN    7320\n",
       "USD     510\n",
       "GBP       3\n",
       "Name: victim.revenue.iso_currency_code, dtype: int64"
      ]
     },
     "execution_count": 44,
     "metadata": {},
     "output_type": "execute_result"
    }
   ],
   "source": [
    "vcdb = vcdb.pipe(decode_feature, pattern='victim.revenue.iso_currency_code.')\n",
    "vcdb['victim.revenue.iso_currency_code'].value_counts(dropna=False)"
   ]
  },
  {
   "cell_type": "markdown",
   "metadata": {},
   "source": [
    "### Victim Orgsize"
   ]
  },
  {
   "cell_type": "code",
   "execution_count": 45,
   "metadata": {},
   "outputs": [
    {
     "data": {
      "text/plain": [
       "1    5208\n",
       "0    2625\n",
       "dtype: int64"
      ]
     },
     "execution_count": 45,
     "metadata": {},
     "output_type": "execute_result"
    }
   ],
   "source": [
    "vcdb[[col for col in vcdb if col.startswith('victim.orgsize.')]].sum(axis=1).value_counts()"
   ]
  },
  {
   "cell_type": "code",
   "execution_count": 46,
   "metadata": {},
   "outputs": [
    {
     "data": {
      "text/plain": [
       "Large    2944\n",
       "NaN      2625\n",
       "Small    2264\n",
       "Name: victim.orgsize, dtype: int64"
      ]
     },
     "execution_count": 46,
     "metadata": {},
     "output_type": "execute_result"
    }
   ],
   "source": [
    "vcdb = vcdb.pipe(decode_feature, pattern='victim.orgsize.')\n",
    "vcdb['victim.orgsize'].value_counts(dropna=False)"
   ]
  },
  {
   "cell_type": "markdown",
   "metadata": {},
   "source": [
    "### Victim Industry"
   ]
  },
  {
   "cell_type": "code",
   "execution_count": 47,
   "metadata": {},
   "outputs": [
    {
     "data": {
      "text/plain": [
       "0       923140\n",
       "1       621111\n",
       "2       622110\n",
       "3        51919\n",
       "4       923140\n",
       "         ...  \n",
       "7828    622110\n",
       "7829    524210\n",
       "7830    541990\n",
       "7831       622\n",
       "7832    923140\n",
       "Name: victim.industry, Length: 7833, dtype: object"
      ]
     },
     "execution_count": 47,
     "metadata": {},
     "output_type": "execute_result"
    }
   ],
   "source": [
    "vcdb['victim.industry']"
   ]
  },
  {
   "cell_type": "markdown",
   "metadata": {},
   "source": [
    "### Victim Industry2"
   ]
  },
  {
   "cell_type": "code",
   "execution_count": 59,
   "metadata": {},
   "outputs": [
    {
     "data": {
      "text/plain": [
       "array(['Public ', 'Healthcare ', 'Information ', 'Utilities ',\n",
       "       'Other Services ', 'Finance ', 'Educational ', 'Retail ',\n",
       "       'Manufacturing ', 'Transportation ', 'Professional ',\n",
       "       'Accomodation ', 'Administrative ', 'Unknown', 'Trade ',\n",
       "       'Entertainment ', 'Real Estate ', 'Management ', 'Construction ',\n",
       "       'Mining ', 'Agriculture '], dtype=object)"
      ]
     },
     "execution_count": 59,
     "metadata": {},
     "output_type": "execute_result"
    }
   ],
   "source": [
    "vcdb['victim.industry.name'].unique()"
   ]
  },
  {
   "cell_type": "code",
   "execution_count": 48,
   "metadata": {},
   "outputs": [
    {
     "data": {
      "text/plain": [
       "True"
      ]
     },
     "execution_count": 48,
     "metadata": {},
     "output_type": "execute_result"
    }
   ],
   "source": [
    "(vcdb['victim.industry2'].astype(int) == (\n",
    "    vcdb[[col for col in vcdb if col.startswith('victim.industry2.')]]\n",
    "        .apply(decode, axis=1)\n",
    "        .str.split('.')\n",
    "        .str[-1]\n",
    "        .astype(int))).all()"
   ]
  },
  {
   "cell_type": "code",
   "execution_count": 49,
   "metadata": {},
   "outputs": [],
   "source": [
    "vcdb = vcdb.drop(labels=[col for col in vcdb if col.startswith('victim.industry2.')], axis=1)"
   ]
  },
  {
   "cell_type": "markdown",
   "metadata": {},
   "source": [
    "## Check Results"
   ]
  },
  {
   "cell_type": "code",
   "execution_count": 60,
   "metadata": {},
   "outputs": [
    {
     "data": {
      "text/plain": [
       "['victim.industry',\n",
       " 'victim.locations_affected',\n",
       " 'victim.notes',\n",
       " 'victim.region',\n",
       " 'victim.revenue.amount',\n",
       " 'victim.secondary.amount',\n",
       " 'victim.secondary.notes',\n",
       " 'victim.secondary.victim_id',\n",
       " 'victim.state',\n",
       " 'victim.victim_id',\n",
       " 'victim.industry2',\n",
       " 'victim.industry3',\n",
       " 'victim.industry.name',\n",
       " 'victim.employee_count',\n",
       " 'victim.country',\n",
       " 'victim.revenue.iso_currency_code',\n",
       " 'victim.orgsize']"
      ]
     },
     "execution_count": 60,
     "metadata": {},
     "output_type": "execute_result"
    }
   ],
   "source": [
    "[col for col in vcdb if col.startswith('victim.')]"
   ]
  },
  {
   "cell_type": "markdown",
   "metadata": {},
   "source": [
    "## Action related features"
   ]
  },
  {
   "cell_type": "markdown",
   "metadata": {},
   "source": [
    "For these action related features we may wish to keep them one-hot encoded since an incident can be caused by multiple actions for predictions at incident level.\n",
    "\n",
    "For predictions at action level down the road we can generate more training samples by melting incidents with more than one action."
   ]
  },
  {
   "cell_type": "code",
   "execution_count": 51,
   "metadata": {},
   "outputs": [
    {
     "data": {
      "text/plain": [
       "dict_keys(['hacking', 'malware', 'social', 'error', 'misuse', 'physical', 'environmental', 'unknown'])"
      ]
     },
     "execution_count": 51,
     "metadata": {},
     "output_type": "execute_result"
    }
   ],
   "source": [
    "enums['action'].keys()"
   ]
  },
  {
   "cell_type": "markdown",
   "metadata": {},
   "source": [
    "The features and their respective one-hot encoded values are of similar depth in the schema, meaning we can write a simple for loop in order to turn these into categorical variables"
   ]
  },
  {
   "cell_type": "code",
   "execution_count": 52,
   "metadata": {},
   "outputs": [
    {
     "data": {
      "text/plain": [
       "{'hacking': dict_keys(['variety', 'vector', 'result']),\n",
       " 'malware': dict_keys(['variety', 'vector', 'result']),\n",
       " 'social': dict_keys(['variety', 'vector', 'target', 'result']),\n",
       " 'error': dict_keys(['variety', 'vector']),\n",
       " 'misuse': dict_keys(['variety', 'vector', 'result']),\n",
       " 'physical': dict_keys(['variety', 'vector', 'result']),\n",
       " 'environmental': dict_keys(['variety']),\n",
       " 'unknown': dict_keys(['result'])}"
      ]
     },
     "execution_count": 52,
     "metadata": {},
     "output_type": "execute_result"
    }
   ],
   "source": [
    "{k: v.keys() for k, v in enums['action'].items()}"
   ]
  },
  {
   "cell_type": "code",
   "execution_count": 53,
   "metadata": {},
   "outputs": [
    {
     "name": "stdout",
     "output_type": "stream",
     "text": [
      "action.hacking.variety \n",
      "-------------------------\n",
      "0    5755\n",
      "1    1938\n",
      "3      94\n",
      "2      46\n",
      "dtype: int64 \n",
      "\n",
      "action.hacking.vector \n",
      "-------------------------\n",
      "0    5755\n",
      "1    2056\n",
      "2      21\n",
      "3       1\n",
      "dtype: int64 \n",
      "\n",
      "action.hacking.result \n",
      "-------------------------\n",
      "0    7753\n",
      "1      48\n",
      "2      31\n",
      "3       1\n",
      "dtype: int64 \n",
      "\n",
      "action.malware.variety \n",
      "-------------------------\n",
      "0    7200\n",
      "1     375\n",
      "9      88\n",
      "7      74\n",
      "2      64\n",
      "3      16\n",
      "4      14\n",
      "5       2\n",
      "dtype: int64 \n",
      "\n",
      "action.malware.vector \n",
      "-------------------------\n",
      "0    7200\n",
      "1     621\n",
      "2      11\n",
      "3       1\n",
      "dtype: int64 \n",
      "\n",
      "action.malware.result \n",
      "-------------------------\n",
      "0    7796\n",
      "1      29\n",
      "2       8\n",
      "dtype: int64 \n",
      "\n",
      "action.social.variety \n",
      "-------------------------\n",
      "0    7318\n",
      "1     494\n",
      "2      20\n",
      "3       1\n",
      "dtype: int64 \n",
      "\n",
      "action.social.vector \n",
      "-------------------------\n",
      "0    7318\n",
      "1     491\n",
      "2      23\n",
      "3       1\n",
      "dtype: int64 \n",
      "\n",
      "action.social.target \n",
      "-------------------------\n",
      "0    7318\n",
      "1     499\n",
      "2      16\n",
      "dtype: int64 \n",
      "\n",
      "action.social.result \n",
      "-------------------------\n",
      "0    7801\n",
      "1      25\n",
      "2       7\n",
      "dtype: int64 \n",
      "\n",
      "action.error.variety \n",
      "-------------------------\n",
      "0    5567\n",
      "1    2233\n",
      "2      31\n",
      "3       2\n",
      "dtype: int64 \n",
      "\n",
      "action.error.vector \n",
      "-------------------------\n",
      "0    5567\n",
      "1    2259\n",
      "2       6\n",
      "3       1\n",
      "dtype: int64 \n",
      "\n",
      "action.misuse.variety \n",
      "-------------------------\n",
      "0    6229\n",
      "1    1401\n",
      "2     158\n",
      "3      39\n",
      "4       6\n",
      "dtype: int64 \n",
      "\n",
      "action.misuse.vector \n",
      "-------------------------\n",
      "0    6229\n",
      "1    1541\n",
      "2      63\n",
      "dtype: int64 \n",
      "\n",
      "action.misuse.result \n",
      "-------------------------\n",
      "0    7750\n",
      "1      79\n",
      "2       4\n",
      "dtype: int64 \n",
      "\n",
      "action.physical.variety \n",
      "-------------------------\n",
      "0    6316\n",
      "1    1165\n",
      "2     314\n",
      "3      38\n",
      "dtype: int64 \n",
      "\n",
      "action.physical.vector \n",
      "-------------------------\n",
      "0    6316\n",
      "1    1508\n",
      "2       7\n",
      "3       1\n",
      "4       1\n",
      "dtype: int64 \n",
      "\n",
      "action.physical.result \n",
      "-------------------------\n",
      "0    7777\n",
      "1      46\n",
      "2      10\n",
      "dtype: int64 \n",
      "\n",
      "action.environmental.variety \n",
      "-------------------------\n",
      "0    7825\n",
      "1       8\n",
      "dtype: int64 \n",
      "\n",
      "action.unknown.result \n",
      "-------------------------\n",
      "0    7827\n",
      "2       3\n",
      "1       3\n",
      "dtype: int64 \n",
      "\n"
     ]
    }
   ],
   "source": [
    "for category in enums['action'].keys():\n",
    "    for feature in enums['action'][category].keys():\n",
    "        prefix = 'action.%s.%s'%(category, feature)\n",
    "        feature_cols = [col for col in vcdb if prefix in col]\n",
    "        print(prefix, '\\n-------------------------')\n",
    "        print(vcdb[feature_cols].sum(axis=1).value_counts(), '\\n')"
   ]
  },
  {
   "cell_type": "markdown",
   "metadata": {},
   "source": [
    "### Some tests with hacking variety"
   ]
  },
  {
   "cell_type": "code",
   "execution_count": 54,
   "metadata": {},
   "outputs": [
    {
     "data": {
      "text/plain": [
       "False    7693\n",
       "True      140\n",
       "dtype: int64"
      ]
     },
     "execution_count": 54,
     "metadata": {},
     "output_type": "execute_result"
    }
   ],
   "source": [
    "(vcdb[[col for col in vcdb if 'action.hacking.variety.' in col]].sum(axis=1) > 1).value_counts()"
   ]
  },
  {
   "cell_type": "code",
   "execution_count": 55,
   "metadata": {},
   "outputs": [
    {
     "data": {
      "text/html": [
       "<div>\n",
       "<style scoped>\n",
       "    .dataframe tbody tr th:only-of-type {\n",
       "        vertical-align: middle;\n",
       "    }\n",
       "\n",
       "    .dataframe tbody tr th {\n",
       "        vertical-align: top;\n",
       "    }\n",
       "\n",
       "    .dataframe thead th {\n",
       "        text-align: right;\n",
       "    }\n",
       "</style>\n",
       "<table border=\"1\" class=\"dataframe\">\n",
       "  <thead>\n",
       "    <tr style=\"text-align: right;\">\n",
       "      <th></th>\n",
       "      <th>action.hacking.vector.3rd party desktop</th>\n",
       "      <th>action.hacking.vector.Backdoor or C2</th>\n",
       "      <th>action.hacking.vector.Command shell</th>\n",
       "      <th>action.hacking.vector.Desktop sharing</th>\n",
       "      <th>action.hacking.vector.Desktop sharing software</th>\n",
       "      <th>action.hacking.vector.Other</th>\n",
       "      <th>action.hacking.vector.Partner</th>\n",
       "      <th>action.hacking.vector.Physical access</th>\n",
       "      <th>action.hacking.vector.Unknown</th>\n",
       "      <th>action.hacking.vector.VPN</th>\n",
       "      <th>action.hacking.vector.Web application</th>\n",
       "    </tr>\n",
       "  </thead>\n",
       "  <tbody>\n",
       "    <tr>\n",
       "      <th>442</th>\n",
       "      <td>False</td>\n",
       "      <td>False</td>\n",
       "      <td>False</td>\n",
       "      <td>True</td>\n",
       "      <td>True</td>\n",
       "      <td>False</td>\n",
       "      <td>False</td>\n",
       "      <td>False</td>\n",
       "      <td>False</td>\n",
       "      <td>False</td>\n",
       "      <td>False</td>\n",
       "    </tr>\n",
       "    <tr>\n",
       "      <th>565</th>\n",
       "      <td>False</td>\n",
       "      <td>False</td>\n",
       "      <td>False</td>\n",
       "      <td>False</td>\n",
       "      <td>False</td>\n",
       "      <td>False</td>\n",
       "      <td>False</td>\n",
       "      <td>False</td>\n",
       "      <td>False</td>\n",
       "      <td>True</td>\n",
       "      <td>True</td>\n",
       "    </tr>\n",
       "    <tr>\n",
       "      <th>930</th>\n",
       "      <td>False</td>\n",
       "      <td>False</td>\n",
       "      <td>False</td>\n",
       "      <td>True</td>\n",
       "      <td>True</td>\n",
       "      <td>False</td>\n",
       "      <td>False</td>\n",
       "      <td>False</td>\n",
       "      <td>False</td>\n",
       "      <td>False</td>\n",
       "      <td>False</td>\n",
       "    </tr>\n",
       "    <tr>\n",
       "      <th>968</th>\n",
       "      <td>False</td>\n",
       "      <td>False</td>\n",
       "      <td>False</td>\n",
       "      <td>True</td>\n",
       "      <td>True</td>\n",
       "      <td>False</td>\n",
       "      <td>False</td>\n",
       "      <td>False</td>\n",
       "      <td>False</td>\n",
       "      <td>False</td>\n",
       "      <td>False</td>\n",
       "    </tr>\n",
       "    <tr>\n",
       "      <th>1980</th>\n",
       "      <td>False</td>\n",
       "      <td>True</td>\n",
       "      <td>True</td>\n",
       "      <td>False</td>\n",
       "      <td>False</td>\n",
       "      <td>False</td>\n",
       "      <td>False</td>\n",
       "      <td>False</td>\n",
       "      <td>False</td>\n",
       "      <td>False</td>\n",
       "      <td>False</td>\n",
       "    </tr>\n",
       "    <tr>\n",
       "      <th>2038</th>\n",
       "      <td>False</td>\n",
       "      <td>False</td>\n",
       "      <td>False</td>\n",
       "      <td>False</td>\n",
       "      <td>False</td>\n",
       "      <td>False</td>\n",
       "      <td>False</td>\n",
       "      <td>False</td>\n",
       "      <td>True</td>\n",
       "      <td>False</td>\n",
       "      <td>True</td>\n",
       "    </tr>\n",
       "    <tr>\n",
       "      <th>2221</th>\n",
       "      <td>True</td>\n",
       "      <td>False</td>\n",
       "      <td>False</td>\n",
       "      <td>False</td>\n",
       "      <td>True</td>\n",
       "      <td>False</td>\n",
       "      <td>False</td>\n",
       "      <td>False</td>\n",
       "      <td>False</td>\n",
       "      <td>False</td>\n",
       "      <td>False</td>\n",
       "    </tr>\n",
       "    <tr>\n",
       "      <th>2361</th>\n",
       "      <td>False</td>\n",
       "      <td>True</td>\n",
       "      <td>False</td>\n",
       "      <td>False</td>\n",
       "      <td>False</td>\n",
       "      <td>False</td>\n",
       "      <td>False</td>\n",
       "      <td>False</td>\n",
       "      <td>False</td>\n",
       "      <td>False</td>\n",
       "      <td>True</td>\n",
       "    </tr>\n",
       "    <tr>\n",
       "      <th>3276</th>\n",
       "      <td>True</td>\n",
       "      <td>False</td>\n",
       "      <td>False</td>\n",
       "      <td>False</td>\n",
       "      <td>True</td>\n",
       "      <td>False</td>\n",
       "      <td>False</td>\n",
       "      <td>False</td>\n",
       "      <td>False</td>\n",
       "      <td>False</td>\n",
       "      <td>False</td>\n",
       "    </tr>\n",
       "    <tr>\n",
       "      <th>3553</th>\n",
       "      <td>False</td>\n",
       "      <td>False</td>\n",
       "      <td>False</td>\n",
       "      <td>False</td>\n",
       "      <td>False</td>\n",
       "      <td>False</td>\n",
       "      <td>False</td>\n",
       "      <td>False</td>\n",
       "      <td>True</td>\n",
       "      <td>False</td>\n",
       "      <td>True</td>\n",
       "    </tr>\n",
       "    <tr>\n",
       "      <th>3812</th>\n",
       "      <td>False</td>\n",
       "      <td>False</td>\n",
       "      <td>False</td>\n",
       "      <td>True</td>\n",
       "      <td>True</td>\n",
       "      <td>False</td>\n",
       "      <td>False</td>\n",
       "      <td>False</td>\n",
       "      <td>False</td>\n",
       "      <td>False</td>\n",
       "      <td>False</td>\n",
       "    </tr>\n",
       "    <tr>\n",
       "      <th>4167</th>\n",
       "      <td>False</td>\n",
       "      <td>False</td>\n",
       "      <td>False</td>\n",
       "      <td>True</td>\n",
       "      <td>True</td>\n",
       "      <td>False</td>\n",
       "      <td>False</td>\n",
       "      <td>False</td>\n",
       "      <td>False</td>\n",
       "      <td>True</td>\n",
       "      <td>False</td>\n",
       "    </tr>\n",
       "    <tr>\n",
       "      <th>5426</th>\n",
       "      <td>False</td>\n",
       "      <td>False</td>\n",
       "      <td>False</td>\n",
       "      <td>True</td>\n",
       "      <td>True</td>\n",
       "      <td>False</td>\n",
       "      <td>False</td>\n",
       "      <td>False</td>\n",
       "      <td>False</td>\n",
       "      <td>False</td>\n",
       "      <td>False</td>\n",
       "    </tr>\n",
       "    <tr>\n",
       "      <th>6044</th>\n",
       "      <td>False</td>\n",
       "      <td>False</td>\n",
       "      <td>False</td>\n",
       "      <td>True</td>\n",
       "      <td>True</td>\n",
       "      <td>False</td>\n",
       "      <td>False</td>\n",
       "      <td>False</td>\n",
       "      <td>False</td>\n",
       "      <td>False</td>\n",
       "      <td>False</td>\n",
       "    </tr>\n",
       "    <tr>\n",
       "      <th>6399</th>\n",
       "      <td>False</td>\n",
       "      <td>True</td>\n",
       "      <td>False</td>\n",
       "      <td>False</td>\n",
       "      <td>False</td>\n",
       "      <td>False</td>\n",
       "      <td>False</td>\n",
       "      <td>False</td>\n",
       "      <td>False</td>\n",
       "      <td>False</td>\n",
       "      <td>True</td>\n",
       "    </tr>\n",
       "    <tr>\n",
       "      <th>6443</th>\n",
       "      <td>False</td>\n",
       "      <td>False</td>\n",
       "      <td>False</td>\n",
       "      <td>False</td>\n",
       "      <td>False</td>\n",
       "      <td>False</td>\n",
       "      <td>False</td>\n",
       "      <td>False</td>\n",
       "      <td>True</td>\n",
       "      <td>False</td>\n",
       "      <td>True</td>\n",
       "    </tr>\n",
       "    <tr>\n",
       "      <th>6460</th>\n",
       "      <td>False</td>\n",
       "      <td>False</td>\n",
       "      <td>False</td>\n",
       "      <td>True</td>\n",
       "      <td>True</td>\n",
       "      <td>False</td>\n",
       "      <td>False</td>\n",
       "      <td>False</td>\n",
       "      <td>False</td>\n",
       "      <td>False</td>\n",
       "      <td>False</td>\n",
       "    </tr>\n",
       "    <tr>\n",
       "      <th>6857</th>\n",
       "      <td>False</td>\n",
       "      <td>True</td>\n",
       "      <td>True</td>\n",
       "      <td>False</td>\n",
       "      <td>False</td>\n",
       "      <td>False</td>\n",
       "      <td>False</td>\n",
       "      <td>False</td>\n",
       "      <td>False</td>\n",
       "      <td>False</td>\n",
       "      <td>False</td>\n",
       "    </tr>\n",
       "    <tr>\n",
       "      <th>6984</th>\n",
       "      <td>False</td>\n",
       "      <td>False</td>\n",
       "      <td>False</td>\n",
       "      <td>True</td>\n",
       "      <td>True</td>\n",
       "      <td>False</td>\n",
       "      <td>False</td>\n",
       "      <td>False</td>\n",
       "      <td>False</td>\n",
       "      <td>False</td>\n",
       "      <td>False</td>\n",
       "    </tr>\n",
       "    <tr>\n",
       "      <th>6990</th>\n",
       "      <td>False</td>\n",
       "      <td>False</td>\n",
       "      <td>False</td>\n",
       "      <td>True</td>\n",
       "      <td>True</td>\n",
       "      <td>False</td>\n",
       "      <td>False</td>\n",
       "      <td>False</td>\n",
       "      <td>False</td>\n",
       "      <td>False</td>\n",
       "      <td>False</td>\n",
       "    </tr>\n",
       "    <tr>\n",
       "      <th>7385</th>\n",
       "      <td>False</td>\n",
       "      <td>True</td>\n",
       "      <td>True</td>\n",
       "      <td>False</td>\n",
       "      <td>False</td>\n",
       "      <td>False</td>\n",
       "      <td>False</td>\n",
       "      <td>False</td>\n",
       "      <td>False</td>\n",
       "      <td>False</td>\n",
       "      <td>False</td>\n",
       "    </tr>\n",
       "    <tr>\n",
       "      <th>7682</th>\n",
       "      <td>False</td>\n",
       "      <td>True</td>\n",
       "      <td>False</td>\n",
       "      <td>False</td>\n",
       "      <td>False</td>\n",
       "      <td>False</td>\n",
       "      <td>False</td>\n",
       "      <td>False</td>\n",
       "      <td>True</td>\n",
       "      <td>False</td>\n",
       "      <td>False</td>\n",
       "    </tr>\n",
       "  </tbody>\n",
       "</table>\n",
       "</div>"
      ],
      "text/plain": [
       "      action.hacking.vector.3rd party desktop  \\\n",
       "442                                     False   \n",
       "565                                     False   \n",
       "930                                     False   \n",
       "968                                     False   \n",
       "1980                                    False   \n",
       "2038                                    False   \n",
       "2221                                     True   \n",
       "2361                                    False   \n",
       "3276                                     True   \n",
       "3553                                    False   \n",
       "3812                                    False   \n",
       "4167                                    False   \n",
       "5426                                    False   \n",
       "6044                                    False   \n",
       "6399                                    False   \n",
       "6443                                    False   \n",
       "6460                                    False   \n",
       "6857                                    False   \n",
       "6984                                    False   \n",
       "6990                                    False   \n",
       "7385                                    False   \n",
       "7682                                    False   \n",
       "\n",
       "      action.hacking.vector.Backdoor or C2  \\\n",
       "442                                  False   \n",
       "565                                  False   \n",
       "930                                  False   \n",
       "968                                  False   \n",
       "1980                                  True   \n",
       "2038                                 False   \n",
       "2221                                 False   \n",
       "2361                                  True   \n",
       "3276                                 False   \n",
       "3553                                 False   \n",
       "3812                                 False   \n",
       "4167                                 False   \n",
       "5426                                 False   \n",
       "6044                                 False   \n",
       "6399                                  True   \n",
       "6443                                 False   \n",
       "6460                                 False   \n",
       "6857                                  True   \n",
       "6984                                 False   \n",
       "6990                                 False   \n",
       "7385                                  True   \n",
       "7682                                  True   \n",
       "\n",
       "      action.hacking.vector.Command shell  \\\n",
       "442                                 False   \n",
       "565                                 False   \n",
       "930                                 False   \n",
       "968                                 False   \n",
       "1980                                 True   \n",
       "2038                                False   \n",
       "2221                                False   \n",
       "2361                                False   \n",
       "3276                                False   \n",
       "3553                                False   \n",
       "3812                                False   \n",
       "4167                                False   \n",
       "5426                                False   \n",
       "6044                                False   \n",
       "6399                                False   \n",
       "6443                                False   \n",
       "6460                                False   \n",
       "6857                                 True   \n",
       "6984                                False   \n",
       "6990                                False   \n",
       "7385                                 True   \n",
       "7682                                False   \n",
       "\n",
       "      action.hacking.vector.Desktop sharing  \\\n",
       "442                                    True   \n",
       "565                                   False   \n",
       "930                                    True   \n",
       "968                                    True   \n",
       "1980                                  False   \n",
       "2038                                  False   \n",
       "2221                                  False   \n",
       "2361                                  False   \n",
       "3276                                  False   \n",
       "3553                                  False   \n",
       "3812                                   True   \n",
       "4167                                   True   \n",
       "5426                                   True   \n",
       "6044                                   True   \n",
       "6399                                  False   \n",
       "6443                                  False   \n",
       "6460                                   True   \n",
       "6857                                  False   \n",
       "6984                                   True   \n",
       "6990                                   True   \n",
       "7385                                  False   \n",
       "7682                                  False   \n",
       "\n",
       "      action.hacking.vector.Desktop sharing software  \\\n",
       "442                                             True   \n",
       "565                                            False   \n",
       "930                                             True   \n",
       "968                                             True   \n",
       "1980                                           False   \n",
       "2038                                           False   \n",
       "2221                                            True   \n",
       "2361                                           False   \n",
       "3276                                            True   \n",
       "3553                                           False   \n",
       "3812                                            True   \n",
       "4167                                            True   \n",
       "5426                                            True   \n",
       "6044                                            True   \n",
       "6399                                           False   \n",
       "6443                                           False   \n",
       "6460                                            True   \n",
       "6857                                           False   \n",
       "6984                                            True   \n",
       "6990                                            True   \n",
       "7385                                           False   \n",
       "7682                                           False   \n",
       "\n",
       "      action.hacking.vector.Other  action.hacking.vector.Partner  \\\n",
       "442                         False                          False   \n",
       "565                         False                          False   \n",
       "930                         False                          False   \n",
       "968                         False                          False   \n",
       "1980                        False                          False   \n",
       "2038                        False                          False   \n",
       "2221                        False                          False   \n",
       "2361                        False                          False   \n",
       "3276                        False                          False   \n",
       "3553                        False                          False   \n",
       "3812                        False                          False   \n",
       "4167                        False                          False   \n",
       "5426                        False                          False   \n",
       "6044                        False                          False   \n",
       "6399                        False                          False   \n",
       "6443                        False                          False   \n",
       "6460                        False                          False   \n",
       "6857                        False                          False   \n",
       "6984                        False                          False   \n",
       "6990                        False                          False   \n",
       "7385                        False                          False   \n",
       "7682                        False                          False   \n",
       "\n",
       "      action.hacking.vector.Physical access  action.hacking.vector.Unknown  \\\n",
       "442                                   False                          False   \n",
       "565                                   False                          False   \n",
       "930                                   False                          False   \n",
       "968                                   False                          False   \n",
       "1980                                  False                          False   \n",
       "2038                                  False                           True   \n",
       "2221                                  False                          False   \n",
       "2361                                  False                          False   \n",
       "3276                                  False                          False   \n",
       "3553                                  False                           True   \n",
       "3812                                  False                          False   \n",
       "4167                                  False                          False   \n",
       "5426                                  False                          False   \n",
       "6044                                  False                          False   \n",
       "6399                                  False                          False   \n",
       "6443                                  False                           True   \n",
       "6460                                  False                          False   \n",
       "6857                                  False                          False   \n",
       "6984                                  False                          False   \n",
       "6990                                  False                          False   \n",
       "7385                                  False                          False   \n",
       "7682                                  False                           True   \n",
       "\n",
       "      action.hacking.vector.VPN  action.hacking.vector.Web application  \n",
       "442                       False                                  False  \n",
       "565                        True                                   True  \n",
       "930                       False                                  False  \n",
       "968                       False                                  False  \n",
       "1980                      False                                  False  \n",
       "2038                      False                                   True  \n",
       "2221                      False                                  False  \n",
       "2361                      False                                   True  \n",
       "3276                      False                                  False  \n",
       "3553                      False                                   True  \n",
       "3812                      False                                  False  \n",
       "4167                       True                                  False  \n",
       "5426                      False                                  False  \n",
       "6044                      False                                  False  \n",
       "6399                      False                                   True  \n",
       "6443                      False                                   True  \n",
       "6460                      False                                  False  \n",
       "6857                      False                                  False  \n",
       "6984                      False                                  False  \n",
       "6990                      False                                  False  \n",
       "7385                      False                                  False  \n",
       "7682                      False                                  False  "
      ]
     },
     "execution_count": 55,
     "metadata": {},
     "output_type": "execute_result"
    }
   ],
   "source": [
    "vcdb.loc[vcdb[[col for col in vcdb if 'action.hacking.vector.' in col]].sum(axis=1) > 1, [col for col in vcdb if 'action.hacking.vector.' in col]]"
   ]
  },
  {
   "cell_type": "code",
   "execution_count": 56,
   "metadata": {},
   "outputs": [
    {
     "data": {
      "text/html": [
       "<div>\n",
       "<style scoped>\n",
       "    .dataframe tbody tr th:only-of-type {\n",
       "        vertical-align: middle;\n",
       "    }\n",
       "\n",
       "    .dataframe tbody tr th {\n",
       "        vertical-align: top;\n",
       "    }\n",
       "\n",
       "    .dataframe thead th {\n",
       "        text-align: right;\n",
       "    }\n",
       "</style>\n",
       "<table border=\"1\" class=\"dataframe\">\n",
       "  <thead>\n",
       "    <tr style=\"text-align: right;\">\n",
       "      <th></th>\n",
       "      <th>action.hacking.variety.Abuse of functionality</th>\n",
       "      <th>action.hacking.variety.Brute force</th>\n",
       "      <th>action.hacking.variety.Buffer overflow</th>\n",
       "      <th>action.hacking.variety.Cache poisoning</th>\n",
       "      <th>action.hacking.variety.Cryptanalysis</th>\n",
       "      <th>action.hacking.variety.CSRF</th>\n",
       "      <th>action.hacking.variety.DoS</th>\n",
       "      <th>action.hacking.variety.Footprinting</th>\n",
       "      <th>action.hacking.variety.Forced browsing</th>\n",
       "      <th>action.hacking.variety.Format string attack</th>\n",
       "      <th>...</th>\n",
       "      <th>action.hacking.variety.Use of backdoor or C2</th>\n",
       "      <th>action.hacking.variety.Use of stolen creds</th>\n",
       "      <th>action.hacking.variety.Virtual machine escape</th>\n",
       "      <th>action.hacking.variety.XML attribute blowup</th>\n",
       "      <th>action.hacking.variety.XML entity expansion</th>\n",
       "      <th>action.hacking.variety.XML external entities</th>\n",
       "      <th>action.hacking.variety.XML injection</th>\n",
       "      <th>action.hacking.variety.XPath injection</th>\n",
       "      <th>action.hacking.variety.XQuery injection</th>\n",
       "      <th>action.hacking.variety.XSS</th>\n",
       "    </tr>\n",
       "  </thead>\n",
       "  <tbody>\n",
       "    <tr>\n",
       "      <th>154</th>\n",
       "      <td>False</td>\n",
       "      <td>True</td>\n",
       "      <td>False</td>\n",
       "      <td>False</td>\n",
       "      <td>False</td>\n",
       "      <td>False</td>\n",
       "      <td>False</td>\n",
       "      <td>False</td>\n",
       "      <td>False</td>\n",
       "      <td>False</td>\n",
       "      <td>...</td>\n",
       "      <td>True</td>\n",
       "      <td>True</td>\n",
       "      <td>False</td>\n",
       "      <td>False</td>\n",
       "      <td>False</td>\n",
       "      <td>False</td>\n",
       "      <td>False</td>\n",
       "      <td>False</td>\n",
       "      <td>False</td>\n",
       "      <td>False</td>\n",
       "    </tr>\n",
       "    <tr>\n",
       "      <th>191</th>\n",
       "      <td>False</td>\n",
       "      <td>False</td>\n",
       "      <td>False</td>\n",
       "      <td>False</td>\n",
       "      <td>False</td>\n",
       "      <td>False</td>\n",
       "      <td>False</td>\n",
       "      <td>False</td>\n",
       "      <td>False</td>\n",
       "      <td>False</td>\n",
       "      <td>...</td>\n",
       "      <td>True</td>\n",
       "      <td>False</td>\n",
       "      <td>False</td>\n",
       "      <td>False</td>\n",
       "      <td>False</td>\n",
       "      <td>False</td>\n",
       "      <td>False</td>\n",
       "      <td>False</td>\n",
       "      <td>False</td>\n",
       "      <td>False</td>\n",
       "    </tr>\n",
       "    <tr>\n",
       "      <th>249</th>\n",
       "      <td>False</td>\n",
       "      <td>False</td>\n",
       "      <td>False</td>\n",
       "      <td>False</td>\n",
       "      <td>True</td>\n",
       "      <td>False</td>\n",
       "      <td>False</td>\n",
       "      <td>False</td>\n",
       "      <td>False</td>\n",
       "      <td>False</td>\n",
       "      <td>...</td>\n",
       "      <td>False</td>\n",
       "      <td>True</td>\n",
       "      <td>False</td>\n",
       "      <td>False</td>\n",
       "      <td>False</td>\n",
       "      <td>False</td>\n",
       "      <td>False</td>\n",
       "      <td>False</td>\n",
       "      <td>False</td>\n",
       "      <td>False</td>\n",
       "    </tr>\n",
       "    <tr>\n",
       "      <th>376</th>\n",
       "      <td>False</td>\n",
       "      <td>False</td>\n",
       "      <td>False</td>\n",
       "      <td>False</td>\n",
       "      <td>False</td>\n",
       "      <td>False</td>\n",
       "      <td>False</td>\n",
       "      <td>False</td>\n",
       "      <td>False</td>\n",
       "      <td>False</td>\n",
       "      <td>...</td>\n",
       "      <td>False</td>\n",
       "      <td>False</td>\n",
       "      <td>False</td>\n",
       "      <td>False</td>\n",
       "      <td>False</td>\n",
       "      <td>False</td>\n",
       "      <td>False</td>\n",
       "      <td>False</td>\n",
       "      <td>False</td>\n",
       "      <td>False</td>\n",
       "    </tr>\n",
       "    <tr>\n",
       "      <th>422</th>\n",
       "      <td>False</td>\n",
       "      <td>False</td>\n",
       "      <td>False</td>\n",
       "      <td>False</td>\n",
       "      <td>False</td>\n",
       "      <td>False</td>\n",
       "      <td>True</td>\n",
       "      <td>False</td>\n",
       "      <td>False</td>\n",
       "      <td>False</td>\n",
       "      <td>...</td>\n",
       "      <td>False</td>\n",
       "      <td>False</td>\n",
       "      <td>False</td>\n",
       "      <td>False</td>\n",
       "      <td>False</td>\n",
       "      <td>False</td>\n",
       "      <td>False</td>\n",
       "      <td>False</td>\n",
       "      <td>False</td>\n",
       "      <td>False</td>\n",
       "    </tr>\n",
       "    <tr>\n",
       "      <th>...</th>\n",
       "      <td>...</td>\n",
       "      <td>...</td>\n",
       "      <td>...</td>\n",
       "      <td>...</td>\n",
       "      <td>...</td>\n",
       "      <td>...</td>\n",
       "      <td>...</td>\n",
       "      <td>...</td>\n",
       "      <td>...</td>\n",
       "      <td>...</td>\n",
       "      <td>...</td>\n",
       "      <td>...</td>\n",
       "      <td>...</td>\n",
       "      <td>...</td>\n",
       "      <td>...</td>\n",
       "      <td>...</td>\n",
       "      <td>...</td>\n",
       "      <td>...</td>\n",
       "      <td>...</td>\n",
       "      <td>...</td>\n",
       "      <td>...</td>\n",
       "    </tr>\n",
       "    <tr>\n",
       "      <th>7493</th>\n",
       "      <td>False</td>\n",
       "      <td>True</td>\n",
       "      <td>False</td>\n",
       "      <td>False</td>\n",
       "      <td>False</td>\n",
       "      <td>False</td>\n",
       "      <td>False</td>\n",
       "      <td>False</td>\n",
       "      <td>False</td>\n",
       "      <td>False</td>\n",
       "      <td>...</td>\n",
       "      <td>True</td>\n",
       "      <td>True</td>\n",
       "      <td>False</td>\n",
       "      <td>False</td>\n",
       "      <td>False</td>\n",
       "      <td>False</td>\n",
       "      <td>False</td>\n",
       "      <td>False</td>\n",
       "      <td>False</td>\n",
       "      <td>False</td>\n",
       "    </tr>\n",
       "    <tr>\n",
       "      <th>7537</th>\n",
       "      <td>False</td>\n",
       "      <td>False</td>\n",
       "      <td>False</td>\n",
       "      <td>False</td>\n",
       "      <td>False</td>\n",
       "      <td>False</td>\n",
       "      <td>False</td>\n",
       "      <td>False</td>\n",
       "      <td>False</td>\n",
       "      <td>False</td>\n",
       "      <td>...</td>\n",
       "      <td>True</td>\n",
       "      <td>True</td>\n",
       "      <td>False</td>\n",
       "      <td>False</td>\n",
       "      <td>False</td>\n",
       "      <td>False</td>\n",
       "      <td>False</td>\n",
       "      <td>False</td>\n",
       "      <td>False</td>\n",
       "      <td>True</td>\n",
       "    </tr>\n",
       "    <tr>\n",
       "      <th>7682</th>\n",
       "      <td>False</td>\n",
       "      <td>False</td>\n",
       "      <td>False</td>\n",
       "      <td>False</td>\n",
       "      <td>False</td>\n",
       "      <td>False</td>\n",
       "      <td>False</td>\n",
       "      <td>True</td>\n",
       "      <td>False</td>\n",
       "      <td>False</td>\n",
       "      <td>...</td>\n",
       "      <td>True</td>\n",
       "      <td>False</td>\n",
       "      <td>False</td>\n",
       "      <td>False</td>\n",
       "      <td>False</td>\n",
       "      <td>False</td>\n",
       "      <td>False</td>\n",
       "      <td>False</td>\n",
       "      <td>False</td>\n",
       "      <td>False</td>\n",
       "    </tr>\n",
       "    <tr>\n",
       "      <th>7750</th>\n",
       "      <td>False</td>\n",
       "      <td>True</td>\n",
       "      <td>False</td>\n",
       "      <td>False</td>\n",
       "      <td>False</td>\n",
       "      <td>False</td>\n",
       "      <td>False</td>\n",
       "      <td>False</td>\n",
       "      <td>False</td>\n",
       "      <td>False</td>\n",
       "      <td>...</td>\n",
       "      <td>True</td>\n",
       "      <td>True</td>\n",
       "      <td>False</td>\n",
       "      <td>False</td>\n",
       "      <td>False</td>\n",
       "      <td>False</td>\n",
       "      <td>False</td>\n",
       "      <td>False</td>\n",
       "      <td>False</td>\n",
       "      <td>False</td>\n",
       "    </tr>\n",
       "    <tr>\n",
       "      <th>7780</th>\n",
       "      <td>False</td>\n",
       "      <td>True</td>\n",
       "      <td>False</td>\n",
       "      <td>False</td>\n",
       "      <td>False</td>\n",
       "      <td>False</td>\n",
       "      <td>False</td>\n",
       "      <td>False</td>\n",
       "      <td>False</td>\n",
       "      <td>False</td>\n",
       "      <td>...</td>\n",
       "      <td>True</td>\n",
       "      <td>True</td>\n",
       "      <td>False</td>\n",
       "      <td>False</td>\n",
       "      <td>False</td>\n",
       "      <td>False</td>\n",
       "      <td>False</td>\n",
       "      <td>False</td>\n",
       "      <td>False</td>\n",
       "      <td>False</td>\n",
       "    </tr>\n",
       "  </tbody>\n",
       "</table>\n",
       "<p>140 rows × 47 columns</p>\n",
       "</div>"
      ],
      "text/plain": [
       "      action.hacking.variety.Abuse of functionality  \\\n",
       "154                                           False   \n",
       "191                                           False   \n",
       "249                                           False   \n",
       "376                                           False   \n",
       "422                                           False   \n",
       "...                                             ...   \n",
       "7493                                          False   \n",
       "7537                                          False   \n",
       "7682                                          False   \n",
       "7750                                          False   \n",
       "7780                                          False   \n",
       "\n",
       "      action.hacking.variety.Brute force  \\\n",
       "154                                 True   \n",
       "191                                False   \n",
       "249                                False   \n",
       "376                                False   \n",
       "422                                False   \n",
       "...                                  ...   \n",
       "7493                                True   \n",
       "7537                               False   \n",
       "7682                               False   \n",
       "7750                                True   \n",
       "7780                                True   \n",
       "\n",
       "      action.hacking.variety.Buffer overflow  \\\n",
       "154                                    False   \n",
       "191                                    False   \n",
       "249                                    False   \n",
       "376                                    False   \n",
       "422                                    False   \n",
       "...                                      ...   \n",
       "7493                                   False   \n",
       "7537                                   False   \n",
       "7682                                   False   \n",
       "7750                                   False   \n",
       "7780                                   False   \n",
       "\n",
       "      action.hacking.variety.Cache poisoning  \\\n",
       "154                                    False   \n",
       "191                                    False   \n",
       "249                                    False   \n",
       "376                                    False   \n",
       "422                                    False   \n",
       "...                                      ...   \n",
       "7493                                   False   \n",
       "7537                                   False   \n",
       "7682                                   False   \n",
       "7750                                   False   \n",
       "7780                                   False   \n",
       "\n",
       "      action.hacking.variety.Cryptanalysis  action.hacking.variety.CSRF  \\\n",
       "154                                  False                        False   \n",
       "191                                  False                        False   \n",
       "249                                   True                        False   \n",
       "376                                  False                        False   \n",
       "422                                  False                        False   \n",
       "...                                    ...                          ...   \n",
       "7493                                 False                        False   \n",
       "7537                                 False                        False   \n",
       "7682                                 False                        False   \n",
       "7750                                 False                        False   \n",
       "7780                                 False                        False   \n",
       "\n",
       "      action.hacking.variety.DoS  action.hacking.variety.Footprinting  \\\n",
       "154                        False                                False   \n",
       "191                        False                                False   \n",
       "249                        False                                False   \n",
       "376                        False                                False   \n",
       "422                         True                                False   \n",
       "...                          ...                                  ...   \n",
       "7493                       False                                False   \n",
       "7537                       False                                False   \n",
       "7682                       False                                 True   \n",
       "7750                       False                                False   \n",
       "7780                       False                                False   \n",
       "\n",
       "      action.hacking.variety.Forced browsing  \\\n",
       "154                                    False   \n",
       "191                                    False   \n",
       "249                                    False   \n",
       "376                                    False   \n",
       "422                                    False   \n",
       "...                                      ...   \n",
       "7493                                   False   \n",
       "7537                                   False   \n",
       "7682                                   False   \n",
       "7750                                   False   \n",
       "7780                                   False   \n",
       "\n",
       "      action.hacking.variety.Format string attack  ...  \\\n",
       "154                                         False  ...   \n",
       "191                                         False  ...   \n",
       "249                                         False  ...   \n",
       "376                                         False  ...   \n",
       "422                                         False  ...   \n",
       "...                                           ...  ...   \n",
       "7493                                        False  ...   \n",
       "7537                                        False  ...   \n",
       "7682                                        False  ...   \n",
       "7750                                        False  ...   \n",
       "7780                                        False  ...   \n",
       "\n",
       "      action.hacking.variety.Use of backdoor or C2  \\\n",
       "154                                           True   \n",
       "191                                           True   \n",
       "249                                          False   \n",
       "376                                          False   \n",
       "422                                          False   \n",
       "...                                            ...   \n",
       "7493                                          True   \n",
       "7537                                          True   \n",
       "7682                                          True   \n",
       "7750                                          True   \n",
       "7780                                          True   \n",
       "\n",
       "      action.hacking.variety.Use of stolen creds  \\\n",
       "154                                         True   \n",
       "191                                        False   \n",
       "249                                         True   \n",
       "376                                        False   \n",
       "422                                        False   \n",
       "...                                          ...   \n",
       "7493                                        True   \n",
       "7537                                        True   \n",
       "7682                                       False   \n",
       "7750                                        True   \n",
       "7780                                        True   \n",
       "\n",
       "      action.hacking.variety.Virtual machine escape  \\\n",
       "154                                           False   \n",
       "191                                           False   \n",
       "249                                           False   \n",
       "376                                           False   \n",
       "422                                           False   \n",
       "...                                             ...   \n",
       "7493                                          False   \n",
       "7537                                          False   \n",
       "7682                                          False   \n",
       "7750                                          False   \n",
       "7780                                          False   \n",
       "\n",
       "      action.hacking.variety.XML attribute blowup  \\\n",
       "154                                         False   \n",
       "191                                         False   \n",
       "249                                         False   \n",
       "376                                         False   \n",
       "422                                         False   \n",
       "...                                           ...   \n",
       "7493                                        False   \n",
       "7537                                        False   \n",
       "7682                                        False   \n",
       "7750                                        False   \n",
       "7780                                        False   \n",
       "\n",
       "      action.hacking.variety.XML entity expansion  \\\n",
       "154                                         False   \n",
       "191                                         False   \n",
       "249                                         False   \n",
       "376                                         False   \n",
       "422                                         False   \n",
       "...                                           ...   \n",
       "7493                                        False   \n",
       "7537                                        False   \n",
       "7682                                        False   \n",
       "7750                                        False   \n",
       "7780                                        False   \n",
       "\n",
       "      action.hacking.variety.XML external entities  \\\n",
       "154                                          False   \n",
       "191                                          False   \n",
       "249                                          False   \n",
       "376                                          False   \n",
       "422                                          False   \n",
       "...                                            ...   \n",
       "7493                                         False   \n",
       "7537                                         False   \n",
       "7682                                         False   \n",
       "7750                                         False   \n",
       "7780                                         False   \n",
       "\n",
       "      action.hacking.variety.XML injection  \\\n",
       "154                                  False   \n",
       "191                                  False   \n",
       "249                                  False   \n",
       "376                                  False   \n",
       "422                                  False   \n",
       "...                                    ...   \n",
       "7493                                 False   \n",
       "7537                                 False   \n",
       "7682                                 False   \n",
       "7750                                 False   \n",
       "7780                                 False   \n",
       "\n",
       "      action.hacking.variety.XPath injection  \\\n",
       "154                                    False   \n",
       "191                                    False   \n",
       "249                                    False   \n",
       "376                                    False   \n",
       "422                                    False   \n",
       "...                                      ...   \n",
       "7493                                   False   \n",
       "7537                                   False   \n",
       "7682                                   False   \n",
       "7750                                   False   \n",
       "7780                                   False   \n",
       "\n",
       "      action.hacking.variety.XQuery injection  action.hacking.variety.XSS  \n",
       "154                                     False                       False  \n",
       "191                                     False                       False  \n",
       "249                                     False                       False  \n",
       "376                                     False                       False  \n",
       "422                                     False                       False  \n",
       "...                                       ...                         ...  \n",
       "7493                                    False                       False  \n",
       "7537                                    False                        True  \n",
       "7682                                    False                       False  \n",
       "7750                                    False                       False  \n",
       "7780                                    False                       False  \n",
       "\n",
       "[140 rows x 47 columns]"
      ]
     },
     "execution_count": 56,
     "metadata": {},
     "output_type": "execute_result"
    }
   ],
   "source": [
    "vcdb.loc[vcdb[[col for col in vcdb if 'action.hacking.variety.' in col]].sum(axis=1) > 1, [col for col in vcdb if 'action.hacking.variety.' in col]]"
   ]
  },
  {
   "cell_type": "code",
   "execution_count": 55,
   "metadata": {},
   "outputs": [],
   "source": [
    "# Loop through every action type\n",
    "encoded_action_features = []\n",
    "ohe_action_features = []\n",
    "\n",
    "\n",
    "process_action = False\n",
    "\n",
    "if process_action:\n",
    "    for action_type, category in tqdm.tqdm(enums['action'].items()):\n",
    "\n",
    "        # Loop through every categorical feature we wish to create within each action type.\n",
    "        for feature, values in category.items():\n",
    "            # Extract the new column name and the one-hot encoded columns we wish to transform to categoricals.\n",
    "            feature_name = 'action.%s.%s'%(action_type, feature) \n",
    "            #print(feature_name)\n",
    "\n",
    "            feature_cols = [col for col in vcdb if 'action.%s.%s.'%(action_type, feature) in col]\n",
    "\n",
    "            # Transform to categorical if only one hit\n",
    "            if (vcdb[feature_cols].sum(axis=1) > 1).any():\n",
    "                ohe_action_features.append(feature_name)\n",
    "            else:\n",
    "                encoded_action_features.append(feature_name)\n",
    "                # Create new columns\n",
    "                vcdb[feature_name] = (\n",
    "                    vcdb[feature_cols]\n",
    "                        .apply(decode, axis=1)\n",
    "                        .str.split('.')\n",
    "                        .str[-1]\n",
    "                )\n",
    "\n",
    "                vcdb = vcdb.drop(labels=feature_cols, axis=1)\n",
    "                assert len([col for col in vcdb if 'action.%s.%s.'%(action_type, feature) in col]) == 0"
   ]
  },
  {
   "cell_type": "code",
   "execution_count": 56,
   "metadata": {},
   "outputs": [
    {
     "data": {
      "text/plain": [
       "[]"
      ]
     },
     "execution_count": 56,
     "metadata": {},
     "output_type": "execute_result"
    }
   ],
   "source": [
    "encoded_action_features"
   ]
  },
  {
   "cell_type": "code",
   "execution_count": 57,
   "metadata": {},
   "outputs": [
    {
     "data": {
      "text/plain": [
       "[]"
      ]
     },
     "execution_count": 57,
     "metadata": {},
     "output_type": "execute_result"
    }
   ],
   "source": [
    "ohe_action_features"
   ]
  },
  {
   "cell_type": "code",
   "execution_count": 58,
   "metadata": {},
   "outputs": [],
   "source": [
    "for feature in ohe_action_features:\n",
    "    print(feature+':', (vcdb[[col for col in vcdb if feature+'.' in col]].sum(axis=1) > 1).sum())"
   ]
  },
  {
   "cell_type": "markdown",
   "metadata": {},
   "source": [
    "## Actor Related Columns"
   ]
  },
  {
   "cell_type": "markdown",
   "metadata": {},
   "source": [
    "Either we use this as a feature or as a target variable, or we simply drop it."
   ]
  },
  {
   "cell_type": "code",
   "execution_count": 59,
   "metadata": {},
   "outputs": [
    {
     "data": {
      "text/plain": [
       "dict_keys(['external', 'internal', 'partner'])"
      ]
     },
     "execution_count": 59,
     "metadata": {},
     "output_type": "execute_result"
    }
   ],
   "source": [
    "enums['actor'].keys()"
   ]
  },
  {
   "cell_type": "code",
   "execution_count": 60,
   "metadata": {},
   "outputs": [
    {
     "data": {
      "text/plain": [
       "{'external': dict_keys(['variety', 'motive', 'country']),\n",
       " 'internal': dict_keys(['variety', 'motive', 'job_change']),\n",
       " 'partner': dict_keys(['motive', 'country'])}"
      ]
     },
     "execution_count": 60,
     "metadata": {},
     "output_type": "execute_result"
    }
   ],
   "source": [
    "{k: v.keys() for k, v in enums['actor'].items()}"
   ]
  },
  {
   "cell_type": "markdown",
   "metadata": {},
   "source": [
    "Actor columns don't seem to be particularly useful to us in predicting Impact/Likelihood, although perhaps we can use these as target variables for predicting the actors.\n",
    "\n",
    "We would achieve this by melting columns where the are multiple actors.\n",
    "\n",
    "We leave one-hot encoded when using as a feature, and melt for using as a target variable"
   ]
  },
  {
   "cell_type": "code",
   "execution_count": 61,
   "metadata": {},
   "outputs": [
    {
     "name": "stdout",
     "output_type": "stream",
     "text": [
      "actor.external.variety \n",
      "-------------------------\n",
      "0    3846\n",
      "1    3626\n",
      "2     356\n",
      "3       5\n",
      "dtype: int64 \n",
      "\n",
      "actor.external.motive \n",
      "-------------------------\n",
      "0    3846\n",
      "1    3830\n",
      "2     152\n",
      "3       5\n",
      "dtype: int64 \n",
      "\n",
      "actor.external.country \n",
      "-------------------------\n",
      "0    3846\n",
      "1    3807\n",
      "2     161\n",
      "3      17\n",
      "5       1\n",
      "4       1\n",
      "dtype: int64 \n",
      "\n",
      "actor.internal.variety \n",
      "-------------------------\n",
      "0    4287\n",
      "1    3221\n",
      "2     321\n",
      "3       4\n",
      "dtype: int64 \n",
      "\n",
      "actor.internal.motive \n",
      "-------------------------\n",
      "0    4287\n",
      "1    3228\n",
      "2     315\n",
      "3       3\n",
      "dtype: int64 \n",
      "\n",
      "actor.internal.job_change \n",
      "-------------------------\n",
      "0    7547\n",
      "1     286\n",
      "dtype: int64 \n",
      "\n",
      "actor.partner.motive \n",
      "-------------------------\n",
      "0    7484\n",
      "1     273\n",
      "2      75\n",
      "3       1\n",
      "dtype: int64 \n",
      "\n",
      "actor.partner.country \n",
      "-------------------------\n",
      "0    7484\n",
      "1     305\n",
      "2      44\n",
      "dtype: int64 \n",
      "\n"
     ]
    }
   ],
   "source": [
    "for category in enums['actor'].keys():\n",
    "    for feature in enums['actor'][category].keys():\n",
    "        prefix = 'actor.%s.%s'%(category, feature)\n",
    "        feature_cols = [col for col in vcdb if prefix in col]\n",
    "        print(prefix, '\\n-------------------------')\n",
    "        print(vcdb[feature_cols].sum(axis=1).value_counts(), '\\n')"
   ]
  },
  {
   "cell_type": "code",
   "execution_count": 62,
   "metadata": {},
   "outputs": [],
   "source": [
    "vcdb = vcdb.drop(labels=[col for col in vcdb if col.startswith('actor.')], axis=1)"
   ]
  },
  {
   "cell_type": "markdown",
   "metadata": {},
   "source": [
    "# Discovery Method\n",
    "\n",
    "Bad for features, but useful perhaps as target variables"
   ]
  },
  {
   "cell_type": "code",
   "execution_count": 63,
   "metadata": {},
   "outputs": [
    {
     "data": {
      "text/plain": [
       "['discovery_method.Ext - actor disclosure',\n",
       " 'discovery_method.Ext - audit',\n",
       " 'discovery_method.Ext - customer',\n",
       " 'discovery_method.Ext - emergency response team',\n",
       " 'discovery_method.Ext - found documents',\n",
       " 'discovery_method.Ext - fraud detection',\n",
       " 'discovery_method.Ext - incident response',\n",
       " 'discovery_method.Ext - law enforcement',\n",
       " 'discovery_method.Ext - monitoring service',\n",
       " 'discovery_method.Ext - other',\n",
       " 'discovery_method.Ext - suspicious traffic',\n",
       " 'discovery_method.Ext - unknown',\n",
       " 'discovery_method.Ext - unrelated 3rd party',\n",
       " 'discovery_method.Int - antivirus',\n",
       " 'discovery_method.Int - break in discovered',\n",
       " 'discovery_method.Int - data loss prevention',\n",
       " 'discovery_method.Int - financial audit',\n",
       " 'discovery_method.Int - fraud detection',\n",
       " 'discovery_method.Int - HIDS',\n",
       " 'discovery_method.Int - incident response',\n",
       " 'discovery_method.Int - infrastructure monitoring',\n",
       " 'discovery_method.Int - IT review',\n",
       " 'discovery_method.Int - log review',\n",
       " 'discovery_method.Int - NIDS',\n",
       " 'discovery_method.Int - other',\n",
       " 'discovery_method.Int - reported by employee',\n",
       " 'discovery_method.Int - security alarm',\n",
       " 'discovery_method.Int - unknown',\n",
       " 'discovery_method.Other',\n",
       " 'discovery_method.Prt - antivirus',\n",
       " 'discovery_method.Prt - audit',\n",
       " 'discovery_method.Prt - incident response',\n",
       " 'discovery_method.Prt - monitoring service',\n",
       " 'discovery_method.Prt - other',\n",
       " 'discovery_method.Prt - unknown',\n",
       " 'discovery_method.Unknown']"
      ]
     },
     "execution_count": 63,
     "metadata": {},
     "output_type": "execute_result"
    }
   ],
   "source": [
    "discovery_cols = [col for col in vcdb if 'discovery_method' in col]\n",
    "discovery_cols"
   ]
  },
  {
   "cell_type": "code",
   "execution_count": 64,
   "metadata": {},
   "outputs": [],
   "source": [
    "vcdb = vcdb.drop(labels=discovery_cols, axis=1)"
   ]
  },
  {
   "cell_type": "markdown",
   "metadata": {},
   "source": [
    "## Attribute Related Columns\n",
    "\n",
    "This section describes which security attributes (of the previously-identified assets) were compromised during the incident. To accomplish this, VERIS uses a paired version of the six primary security attributes of confidentiality/possession, integrity/authenticity, availability/utility. An extension of the “C-I-A Triad,” they are commonly called the “Parkerian Hexad,” after their originator, Donn Parker. Multiple attributes can be affected for any one asset and each attribute contains different metrics.\n",
    "\n",
    "These are not useful as features for predictions, but may be useful as target variables."
   ]
  },
  {
   "cell_type": "code",
   "execution_count": 65,
   "metadata": {},
   "outputs": [
    {
     "data": {
      "text/plain": [
       "['attribute.availability.duration.unit.Days',\n",
       " 'attribute.availability.duration.unit.Hours',\n",
       " 'attribute.availability.duration.unit.Minutes',\n",
       " 'attribute.availability.duration.unit.Months',\n",
       " 'attribute.availability.duration.unit.NA',\n",
       " 'attribute.availability.duration.unit.Never',\n",
       " 'attribute.availability.duration.unit.Seconds',\n",
       " 'attribute.availability.duration.unit.Unknown',\n",
       " 'attribute.availability.duration.unit.Weeks',\n",
       " 'attribute.availability.duration.unit.Years',\n",
       " 'attribute.availability.duration.value',\n",
       " 'attribute.availability.notes',\n",
       " 'attribute.availability.variety.Acceleration',\n",
       " 'attribute.availability.variety.Degradation',\n",
       " 'attribute.availability.variety.Destruction',\n",
       " 'attribute.availability.variety.Interruption',\n",
       " 'attribute.availability.variety.Loss',\n",
       " 'attribute.availability.variety.Obscuration',\n",
       " 'attribute.availability.variety.Other',\n",
       " 'attribute.availability.variety.Unknown',\n",
       " 'attribute.confidentiality.data_disclosure.No',\n",
       " 'attribute.confidentiality.data_disclosure.Potentially',\n",
       " 'attribute.confidentiality.data_disclosure.Unknown',\n",
       " 'attribute.confidentiality.data_disclosure.Yes',\n",
       " 'attribute.confidentiality.data_total',\n",
       " 'attribute.confidentiality.data_victim.Customer',\n",
       " 'attribute.confidentiality.data_victim.Employee',\n",
       " 'attribute.confidentiality.data_victim.Other',\n",
       " 'attribute.confidentiality.data_victim.Partner',\n",
       " 'attribute.confidentiality.data_victim.Patient',\n",
       " 'attribute.confidentiality.data_victim.Student',\n",
       " 'attribute.confidentiality.data_victim.Unknown',\n",
       " 'attribute.confidentiality.data.amount.Bank',\n",
       " 'attribute.confidentiality.data.amount.Classified',\n",
       " 'attribute.confidentiality.data.amount.Copyrighted',\n",
       " 'attribute.confidentiality.data.amount.Credentials',\n",
       " 'attribute.confidentiality.data.amount.Digital certificate',\n",
       " 'attribute.confidentiality.data.amount.Internal',\n",
       " 'attribute.confidentiality.data.amount.Medical',\n",
       " 'attribute.confidentiality.data.amount.Other',\n",
       " 'attribute.confidentiality.data.amount.Payment',\n",
       " 'attribute.confidentiality.data.amount.Personal',\n",
       " 'attribute.confidentiality.data.amount.Secrets',\n",
       " 'attribute.confidentiality.data.amount.Source code',\n",
       " 'attribute.confidentiality.data.amount.System',\n",
       " 'attribute.confidentiality.data.amount.Unknown',\n",
       " 'attribute.confidentiality.data.amount.Virtual currency',\n",
       " 'attribute.confidentiality.data.variety.Bank',\n",
       " 'attribute.confidentiality.data.variety.Classified',\n",
       " 'attribute.confidentiality.data.variety.Copyrighted',\n",
       " 'attribute.confidentiality.data.variety.Credentials',\n",
       " 'attribute.confidentiality.data.variety.Digital certificate',\n",
       " 'attribute.confidentiality.data.variety.Internal',\n",
       " 'attribute.confidentiality.data.variety.Medical',\n",
       " 'attribute.confidentiality.data.variety.Other',\n",
       " 'attribute.confidentiality.data.variety.Payment',\n",
       " 'attribute.confidentiality.data.variety.Personal',\n",
       " 'attribute.confidentiality.data.variety.Secrets',\n",
       " 'attribute.confidentiality.data.variety.Source code',\n",
       " 'attribute.confidentiality.data.variety.System',\n",
       " 'attribute.confidentiality.data.variety.Unknown',\n",
       " 'attribute.confidentiality.data.variety.Virtual currency',\n",
       " 'attribute.confidentiality.notes',\n",
       " 'attribute.confidentiality.state.Other',\n",
       " 'attribute.confidentiality.state.Printed',\n",
       " 'attribute.confidentiality.state.Processed',\n",
       " 'attribute.confidentiality.state.Stored',\n",
       " 'attribute.confidentiality.state.Stored encrypted',\n",
       " 'attribute.confidentiality.state.Stored unencrypted',\n",
       " 'attribute.confidentiality.state.Transmitted',\n",
       " 'attribute.confidentiality.state.Transmitted encrypted',\n",
       " 'attribute.confidentiality.state.Transmitted unencrypted',\n",
       " 'attribute.confidentiality.state.Unknown',\n",
       " 'attribute.integrity.notes',\n",
       " 'attribute.integrity.variety.Alter behavior',\n",
       " 'attribute.integrity.variety.Created account',\n",
       " 'attribute.integrity.variety.Defacement',\n",
       " 'attribute.integrity.variety.Fraudulent transaction',\n",
       " 'attribute.integrity.variety.Hardware tampering',\n",
       " 'attribute.integrity.variety.Log tampering',\n",
       " 'attribute.integrity.variety.Misrepresentation',\n",
       " 'attribute.integrity.variety.Modify configuration',\n",
       " 'attribute.integrity.variety.Modify data',\n",
       " 'attribute.integrity.variety.Modify privileges',\n",
       " 'attribute.integrity.variety.Other',\n",
       " 'attribute.integrity.variety.Repurpose',\n",
       " 'attribute.integrity.variety.Software installation',\n",
       " 'attribute.integrity.variety.Unknown',\n",
       " 'attribute.Confidentiality',\n",
       " 'attribute.Integrity',\n",
       " 'attribute.Availability']"
      ]
     },
     "execution_count": 65,
     "metadata": {},
     "output_type": "execute_result"
    }
   ],
   "source": [
    "attribute_cols = [col for col in vcdb if col.startswith('attribute.')]\n",
    "attribute_cols"
   ]
  },
  {
   "cell_type": "markdown",
   "metadata": {},
   "source": [
    "#### Attribute Availability"
   ]
  },
  {
   "cell_type": "code",
   "execution_count": 66,
   "metadata": {},
   "outputs": [
    {
     "data": {
      "text/plain": [
       "0    7601\n",
       "1     232\n",
       "dtype: int64"
      ]
     },
     "execution_count": 66,
     "metadata": {},
     "output_type": "execute_result"
    }
   ],
   "source": [
    "vcdb[[col for col in vcdb if col.startswith('attribute.availability.duration.unit.')]].sum(axis=1).value_counts()"
   ]
  },
  {
   "cell_type": "code",
   "execution_count": 67,
   "metadata": {},
   "outputs": [
    {
     "data": {
      "text/plain": [
       "NaN        7601\n",
       "Never        68\n",
       "Days         47\n",
       "Hours        42\n",
       "Unknown      36\n",
       "Weeks        14\n",
       "Months       11\n",
       "Minutes      11\n",
       "Years         3\n",
       "Name: attribute.availability.duration.unit, dtype: int64"
      ]
     },
     "execution_count": 67,
     "metadata": {},
     "output_type": "execute_result"
    }
   ],
   "source": [
    "vcdb = vcdb.pipe(decode_feature, pattern='attribute.availability.duration.unit.')\n",
    "vcdb['attribute.availability.duration.unit'].value_counts(dropna=False)"
   ]
  },
  {
   "cell_type": "code",
   "execution_count": 68,
   "metadata": {},
   "outputs": [
    {
     "data": {
      "text/plain": [
       "98       1.0\n",
       "133      2.0\n",
       "237      4.0\n",
       "259      8.0\n",
       "374      7.0\n",
       "        ... \n",
       "7108    10.0\n",
       "7148     3.0\n",
       "7339    24.0\n",
       "7537     1.0\n",
       "7723     3.0\n",
       "Name: attribute.availability.duration.value, Length: 106, dtype: float64"
      ]
     },
     "execution_count": 68,
     "metadata": {},
     "output_type": "execute_result"
    }
   ],
   "source": [
    "vcdb.loc[vcdb['attribute.availability.duration.value'].notnull(),'attribute.availability.duration.value']"
   ]
  },
  {
   "cell_type": "code",
   "execution_count": 69,
   "metadata": {},
   "outputs": [
    {
     "data": {
      "text/plain": [
       "0    5486\n",
       "1    2284\n",
       "2      61\n",
       "3       2\n",
       "dtype: int64"
      ]
     },
     "execution_count": 69,
     "metadata": {},
     "output_type": "execute_result"
    }
   ],
   "source": [
    "vcdb[[col for col in vcdb if col.startswith('attribute.availability.variety.')]].sum(axis=1).value_counts()"
   ]
  },
  {
   "cell_type": "markdown",
   "metadata": {},
   "source": [
    "#### Attribute Confidentiality"
   ]
  },
  {
   "cell_type": "code",
   "execution_count": 70,
   "metadata": {},
   "outputs": [
    {
     "data": {
      "text/plain": [
       "['attribute.confidentiality.data_disclosure.No',\n",
       " 'attribute.confidentiality.data_disclosure.Potentially',\n",
       " 'attribute.confidentiality.data_disclosure.Unknown',\n",
       " 'attribute.confidentiality.data_disclosure.Yes',\n",
       " 'attribute.confidentiality.data_total',\n",
       " 'attribute.confidentiality.data_victim.Customer',\n",
       " 'attribute.confidentiality.data_victim.Employee',\n",
       " 'attribute.confidentiality.data_victim.Other',\n",
       " 'attribute.confidentiality.data_victim.Partner',\n",
       " 'attribute.confidentiality.data_victim.Patient',\n",
       " 'attribute.confidentiality.data_victim.Student',\n",
       " 'attribute.confidentiality.data_victim.Unknown',\n",
       " 'attribute.confidentiality.data.amount.Bank',\n",
       " 'attribute.confidentiality.data.amount.Classified',\n",
       " 'attribute.confidentiality.data.amount.Copyrighted',\n",
       " 'attribute.confidentiality.data.amount.Credentials',\n",
       " 'attribute.confidentiality.data.amount.Digital certificate',\n",
       " 'attribute.confidentiality.data.amount.Internal',\n",
       " 'attribute.confidentiality.data.amount.Medical',\n",
       " 'attribute.confidentiality.data.amount.Other',\n",
       " 'attribute.confidentiality.data.amount.Payment',\n",
       " 'attribute.confidentiality.data.amount.Personal',\n",
       " 'attribute.confidentiality.data.amount.Secrets',\n",
       " 'attribute.confidentiality.data.amount.Source code',\n",
       " 'attribute.confidentiality.data.amount.System',\n",
       " 'attribute.confidentiality.data.amount.Unknown',\n",
       " 'attribute.confidentiality.data.amount.Virtual currency',\n",
       " 'attribute.confidentiality.data.variety.Bank',\n",
       " 'attribute.confidentiality.data.variety.Classified',\n",
       " 'attribute.confidentiality.data.variety.Copyrighted',\n",
       " 'attribute.confidentiality.data.variety.Credentials',\n",
       " 'attribute.confidentiality.data.variety.Digital certificate',\n",
       " 'attribute.confidentiality.data.variety.Internal',\n",
       " 'attribute.confidentiality.data.variety.Medical',\n",
       " 'attribute.confidentiality.data.variety.Other',\n",
       " 'attribute.confidentiality.data.variety.Payment',\n",
       " 'attribute.confidentiality.data.variety.Personal',\n",
       " 'attribute.confidentiality.data.variety.Secrets',\n",
       " 'attribute.confidentiality.data.variety.Source code',\n",
       " 'attribute.confidentiality.data.variety.System',\n",
       " 'attribute.confidentiality.data.variety.Unknown',\n",
       " 'attribute.confidentiality.data.variety.Virtual currency',\n",
       " 'attribute.confidentiality.notes',\n",
       " 'attribute.confidentiality.state.Other',\n",
       " 'attribute.confidentiality.state.Printed',\n",
       " 'attribute.confidentiality.state.Processed',\n",
       " 'attribute.confidentiality.state.Stored',\n",
       " 'attribute.confidentiality.state.Stored encrypted',\n",
       " 'attribute.confidentiality.state.Stored unencrypted',\n",
       " 'attribute.confidentiality.state.Transmitted',\n",
       " 'attribute.confidentiality.state.Transmitted encrypted',\n",
       " 'attribute.confidentiality.state.Transmitted unencrypted',\n",
       " 'attribute.confidentiality.state.Unknown']"
      ]
     },
     "execution_count": 70,
     "metadata": {},
     "output_type": "execute_result"
    }
   ],
   "source": [
    "[col for col in vcdb if col.startswith('attribute.confidentiality.')]"
   ]
  },
  {
   "cell_type": "code",
   "execution_count": 71,
   "metadata": {},
   "outputs": [
    {
     "data": {
      "text/plain": [
       "Yes            5076\n",
       "Potentially    1884\n",
       "NaN             584\n",
       "Unknown         213\n",
       "No               76\n",
       "Name: attribute.confidentiality.data_disclosure, dtype: int64"
      ]
     },
     "execution_count": 71,
     "metadata": {},
     "output_type": "execute_result"
    }
   ],
   "source": [
    "vcdb = vcdb.pipe(decode_feature, pattern='attribute.confidentiality.data_disclosure.')\n",
    "vcdb['attribute.confidentiality.data_disclosure'].value_counts(dropna=False)"
   ]
  },
  {
   "cell_type": "code",
   "execution_count": 72,
   "metadata": {},
   "outputs": [
    {
     "data": {
      "text/plain": [
       "1    4931\n",
       "0    2829\n",
       "2      70\n",
       "3       3\n",
       "dtype: int64"
      ]
     },
     "execution_count": 72,
     "metadata": {},
     "output_type": "execute_result"
    }
   ],
   "source": [
    "vcdb[[col for col in vcdb if col.startswith('attribute.confidentiality.data_victim.')]].sum(axis=1).value_counts()"
   ]
  },
  {
   "cell_type": "code",
   "execution_count": 73,
   "metadata": {},
   "outputs": [
    {
     "data": {
      "text/plain": [
       "False    4624\n",
       "True     3209\n",
       "dtype: int64"
      ]
     },
     "execution_count": 73,
     "metadata": {},
     "output_type": "execute_result"
    }
   ],
   "source": [
    "vcdb[[col for col in vcdb if col.startswith('attribute.confidentiality.data.amount.')]].notnull().any(axis=1).value_counts()"
   ]
  },
  {
   "cell_type": "code",
   "execution_count": 74,
   "metadata": {},
   "outputs": [
    {
     "data": {
      "text/plain": [
       "1    6016\n",
       "2     859\n",
       "0     681\n",
       "3      99\n",
       "5      91\n",
       "4      85\n",
       "7       1\n",
       "6       1\n",
       "dtype: int64"
      ]
     },
     "execution_count": 74,
     "metadata": {},
     "output_type": "execute_result"
    }
   ],
   "source": [
    "vcdb[[col for col in vcdb if col.startswith('attribute.confidentiality.data.variety.')]].sum(axis=1).value_counts()"
   ]
  },
  {
   "cell_type": "markdown",
   "metadata": {},
   "source": [
    "#### Attribute Integrity"
   ]
  },
  {
   "cell_type": "code",
   "execution_count": 75,
   "metadata": {},
   "outputs": [
    {
     "data": {
      "text/plain": [
       "['attribute.integrity.notes',\n",
       " 'attribute.integrity.variety.Alter behavior',\n",
       " 'attribute.integrity.variety.Created account',\n",
       " 'attribute.integrity.variety.Defacement',\n",
       " 'attribute.integrity.variety.Fraudulent transaction',\n",
       " 'attribute.integrity.variety.Hardware tampering',\n",
       " 'attribute.integrity.variety.Log tampering',\n",
       " 'attribute.integrity.variety.Misrepresentation',\n",
       " 'attribute.integrity.variety.Modify configuration',\n",
       " 'attribute.integrity.variety.Modify data',\n",
       " 'attribute.integrity.variety.Modify privileges',\n",
       " 'attribute.integrity.variety.Other',\n",
       " 'attribute.integrity.variety.Repurpose',\n",
       " 'attribute.integrity.variety.Software installation',\n",
       " 'attribute.integrity.variety.Unknown']"
      ]
     },
     "execution_count": 75,
     "metadata": {},
     "output_type": "execute_result"
    }
   ],
   "source": [
    "[col for col in vcdb if col.startswith('attribute.integrity.')]"
   ]
  },
  {
   "cell_type": "code",
   "execution_count": 76,
   "metadata": {},
   "outputs": [
    {
     "data": {
      "text/plain": [
       "0    5998\n",
       "1    1251\n",
       "2     357\n",
       "3     219\n",
       "4       7\n",
       "5       1\n",
       "dtype: int64"
      ]
     },
     "execution_count": 76,
     "metadata": {},
     "output_type": "execute_result"
    }
   ],
   "source": [
    "vcdb[[col for col in vcdb if col.startswith('attribute.integrity.variety.')]].sum(axis=1).value_counts()"
   ]
  },
  {
   "cell_type": "markdown",
   "metadata": {},
   "source": [
    "## Targeted Related Columns"
   ]
  },
  {
   "cell_type": "markdown",
   "metadata": {},
   "source": [
    "This feature might be good as a target variable, but its not very useful to use as a feature."
   ]
  },
  {
   "cell_type": "code",
   "execution_count": 77,
   "metadata": {},
   "outputs": [
    {
     "data": {
      "text/plain": [
       "NaN              7206\n",
       "Targeted          178\n",
       "Opportunistic     176\n",
       "NA                173\n",
       "Unknown           100\n",
       "Name: targeted, dtype: int64"
      ]
     },
     "execution_count": 77,
     "metadata": {},
     "output_type": "execute_result"
    }
   ],
   "source": [
    "vcdb = vcdb.pipe(decode_feature, pattern='targeted.')\n",
    "vcdb['targeted'].value_counts(dropna=False)"
   ]
  },
  {
   "cell_type": "markdown",
   "metadata": {},
   "source": [
    "### Corrective Action"
   ]
  },
  {
   "cell_type": "code",
   "execution_count": 78,
   "metadata": {},
   "outputs": [
    {
     "data": {
      "text/plain": [
       "True"
      ]
     },
     "execution_count": 78,
     "metadata": {},
     "output_type": "execute_result"
    }
   ],
   "source": [
    "vcdb['corrective_action'].isnull().all()"
   ]
  },
  {
   "cell_type": "code",
   "execution_count": 79,
   "metadata": {},
   "outputs": [
    {
     "data": {
      "text/plain": [
       "0    7828\n",
       "1       5\n",
       "dtype: int64"
      ]
     },
     "execution_count": 79,
     "metadata": {},
     "output_type": "execute_result"
    }
   ],
   "source": [
    "cost_corrective_act_cols = [col for col in vcdb if 'cost_corrective_action.' in col]\n",
    "\n",
    "vcdb[cost_corrective_act_cols].sum(axis=1).value_counts()"
   ]
  },
  {
   "cell_type": "code",
   "execution_count": 80,
   "metadata": {},
   "outputs": [
    {
     "data": {
      "text/plain": [
       "NaN                     7828\n",
       "Unknown                    2\n",
       "Something in-between       2\n",
       "Simple and cheap           1\n",
       "Name: cost_corrective_action, dtype: int64"
      ]
     },
     "execution_count": 80,
     "metadata": {},
     "output_type": "execute_result"
    }
   ],
   "source": [
    "vcdb = vcdb.pipe(decode_feature, pattern='cost_corrective_action.')\n",
    "vcdb['cost_corrective_action'].value_counts(dropna=False)"
   ]
  },
  {
   "cell_type": "markdown",
   "metadata": {},
   "source": [
    "## Asset Related Columns"
   ]
  },
  {
   "cell_type": "markdown",
   "metadata": {},
   "source": [
    "Either we use this as a feature or as a target variable, or we simply drop it."
   ]
  },
  {
   "cell_type": "code",
   "execution_count": 81,
   "metadata": {},
   "outputs": [
    {
     "data": {
      "text/plain": [
       "dict_keys(['assets', 'ownership', 'cloud', 'hosting', 'management', 'role', 'country'])"
      ]
     },
     "execution_count": 81,
     "metadata": {},
     "output_type": "execute_result"
    }
   ],
   "source": [
    "enums['asset'].keys()"
   ]
  },
  {
   "cell_type": "code",
   "execution_count": 82,
   "metadata": {},
   "outputs": [
    {
     "data": {
      "text/plain": [
       "{'asset.accessibility',\n",
       " 'asset.assets.amount',\n",
       " 'asset.assets.variety',\n",
       " 'asset.cloud',\n",
       " 'asset.country',\n",
       " 'asset.governance',\n",
       " 'asset.hosting',\n",
       " 'asset.management',\n",
       " 'asset.ownership',\n",
       " 'asset.variety'}"
      ]
     },
     "execution_count": 82,
     "metadata": {},
     "output_type": "execute_result"
    }
   ],
   "source": [
    "set([col[:col.rindex('.')] for col in vcdb if col.startswith('asset.') if col.count('.') > 1])"
   ]
  },
  {
   "cell_type": "markdown",
   "metadata": {},
   "source": [
    "### asset.cloud"
   ]
  },
  {
   "cell_type": "code",
   "execution_count": 83,
   "metadata": {},
   "outputs": [
    {
     "data": {
      "text/plain": [
       "['asset.cloud.Customer attack',\n",
       " 'asset.cloud.Hosting error',\n",
       " 'asset.cloud.Hosting governance',\n",
       " 'asset.cloud.Hypervisor',\n",
       " 'asset.cloud.NA',\n",
       " 'asset.cloud.No',\n",
       " 'asset.cloud.Other',\n",
       " 'asset.cloud.Partner application',\n",
       " 'asset.cloud.Unknown',\n",
       " 'asset.cloud.User breakout']"
      ]
     },
     "execution_count": 83,
     "metadata": {},
     "output_type": "execute_result"
    }
   ],
   "source": [
    "asset_cloud_cols = [col for col in vcdb if col.startswith('asset.cloud.')]\n",
    "asset_cloud_cols"
   ]
  },
  {
   "cell_type": "code",
   "execution_count": 84,
   "metadata": {},
   "outputs": [
    {
     "data": {
      "text/plain": [
       "0    7733\n",
       "1     100\n",
       "dtype: int64"
      ]
     },
     "execution_count": 84,
     "metadata": {},
     "output_type": "execute_result"
    }
   ],
   "source": [
    "vcdb[asset_cloud_cols].sum(axis=1).value_counts()"
   ]
  },
  {
   "cell_type": "code",
   "execution_count": 85,
   "metadata": {},
   "outputs": [
    {
     "data": {
      "text/plain": [
       "NaN                    7733\n",
       "Unknown                  69\n",
       "NA                       12\n",
       "Hosting error             7\n",
       "Other                     5\n",
       "Hosting governance        3\n",
       "Customer attack           2\n",
       "Partner application       2\n",
       "Name: asset.cloud, dtype: int64"
      ]
     },
     "execution_count": 85,
     "metadata": {},
     "output_type": "execute_result"
    }
   ],
   "source": [
    "vcdb = vcdb.pipe(decode_feature, pattern='asset.cloud.')\n",
    "vcdb['asset.cloud'].value_counts(dropna=False)"
   ]
  },
  {
   "cell_type": "markdown",
   "metadata": {},
   "source": [
    "###  asset.accessibility\n",
    "\n",
    "ASSET.ACCESSIBILITY\n",
    "External: Publicly accessible\n",
    "\n",
    "Internal: Internally accessible\n",
    "\n",
    "Isolated: Internally isolated or restricted environment\n",
    "\n",
    "Unknown: Unknown\n",
    "\n",
    "NA: Not applicable\n",
    "\n",
    "\n",
    "http://veriscommunity.net/enums.html#section-asset"
   ]
  },
  {
   "cell_type": "code",
   "execution_count": 86,
   "metadata": {},
   "outputs": [
    {
     "data": {
      "text/plain": [
       "0    7821\n",
       "1      12\n",
       "dtype: int64"
      ]
     },
     "execution_count": 86,
     "metadata": {},
     "output_type": "execute_result"
    }
   ],
   "source": [
    "asset_accessibility_cols = [col for col in vcdb if 'asset.accessibility.' in col]\n",
    "vcdb[asset_accessibility_cols].sum(axis=1).value_counts()"
   ]
  },
  {
   "cell_type": "code",
   "execution_count": 87,
   "metadata": {},
   "outputs": [
    {
     "data": {
      "text/plain": [
       "NaN         7821\n",
       "External      11\n",
       "Unknown        1\n",
       "Name: asset.accessibility, dtype: int64"
      ]
     },
     "execution_count": 87,
     "metadata": {},
     "output_type": "execute_result"
    }
   ],
   "source": [
    "vcdb = vcdb.pipe(decode_feature, pattern='asset.accessibility.')\n",
    "vcdb['asset.accessibility'].value_counts(dropna=False)"
   ]
  },
  {
   "cell_type": "markdown",
   "metadata": {},
   "source": [
    "###  asset.assets\n",
    "http://veriscommunity.net/enums.html#section-asset"
   ]
  },
  {
   "cell_type": "markdown",
   "metadata": {},
   "source": [
    "### Asset Variety\n",
    "These are multi-select and so we leave them one-hot encoded."
   ]
  },
  {
   "cell_type": "code",
   "execution_count": 88,
   "metadata": {},
   "outputs": [
    {
     "data": {
      "text/html": [
       "<div>\n",
       "<style scoped>\n",
       "    .dataframe tbody tr th:only-of-type {\n",
       "        vertical-align: middle;\n",
       "    }\n",
       "\n",
       "    .dataframe tbody tr th {\n",
       "        vertical-align: top;\n",
       "    }\n",
       "\n",
       "    .dataframe thead th {\n",
       "        text-align: right;\n",
       "    }\n",
       "</style>\n",
       "<table border=\"1\" class=\"dataframe\">\n",
       "  <thead>\n",
       "    <tr style=\"text-align: right;\">\n",
       "      <th></th>\n",
       "      <th>asset.assets.variety.E - Other</th>\n",
       "      <th>asset.assets.variety.E - Telematics</th>\n",
       "      <th>asset.assets.variety.E - Telemetry</th>\n",
       "      <th>asset.assets.variety.E - Unknown</th>\n",
       "      <th>asset.assets.variety.M - Disk drive</th>\n",
       "      <th>asset.assets.variety.M - Disk media</th>\n",
       "      <th>asset.assets.variety.M - Documents</th>\n",
       "      <th>asset.assets.variety.M - Fax</th>\n",
       "      <th>asset.assets.variety.M - Flash drive</th>\n",
       "      <th>asset.assets.variety.M - Other</th>\n",
       "      <th>...</th>\n",
       "      <th>asset.assets.variety.U - Media</th>\n",
       "      <th>asset.assets.variety.U - Mobile phone</th>\n",
       "      <th>asset.assets.variety.U - Other</th>\n",
       "      <th>asset.assets.variety.U - Peripheral</th>\n",
       "      <th>asset.assets.variety.U - POS terminal</th>\n",
       "      <th>asset.assets.variety.U - Tablet</th>\n",
       "      <th>asset.assets.variety.U - Telephone</th>\n",
       "      <th>asset.assets.variety.U - Unknown</th>\n",
       "      <th>asset.assets.variety.U - VoIP phone</th>\n",
       "      <th>asset.assets.variety.Unknown</th>\n",
       "    </tr>\n",
       "  </thead>\n",
       "  <tbody>\n",
       "    <tr>\n",
       "      <th>16</th>\n",
       "      <td>False</td>\n",
       "      <td>False</td>\n",
       "      <td>False</td>\n",
       "      <td>False</td>\n",
       "      <td>False</td>\n",
       "      <td>False</td>\n",
       "      <td>False</td>\n",
       "      <td>False</td>\n",
       "      <td>False</td>\n",
       "      <td>False</td>\n",
       "      <td>...</td>\n",
       "      <td>False</td>\n",
       "      <td>False</td>\n",
       "      <td>False</td>\n",
       "      <td>False</td>\n",
       "      <td>False</td>\n",
       "      <td>False</td>\n",
       "      <td>False</td>\n",
       "      <td>False</td>\n",
       "      <td>False</td>\n",
       "      <td>False</td>\n",
       "    </tr>\n",
       "    <tr>\n",
       "      <th>18</th>\n",
       "      <td>False</td>\n",
       "      <td>False</td>\n",
       "      <td>False</td>\n",
       "      <td>False</td>\n",
       "      <td>False</td>\n",
       "      <td>False</td>\n",
       "      <td>False</td>\n",
       "      <td>False</td>\n",
       "      <td>False</td>\n",
       "      <td>False</td>\n",
       "      <td>...</td>\n",
       "      <td>False</td>\n",
       "      <td>False</td>\n",
       "      <td>False</td>\n",
       "      <td>False</td>\n",
       "      <td>False</td>\n",
       "      <td>False</td>\n",
       "      <td>False</td>\n",
       "      <td>False</td>\n",
       "      <td>False</td>\n",
       "      <td>False</td>\n",
       "    </tr>\n",
       "    <tr>\n",
       "      <th>22</th>\n",
       "      <td>False</td>\n",
       "      <td>False</td>\n",
       "      <td>False</td>\n",
       "      <td>False</td>\n",
       "      <td>False</td>\n",
       "      <td>False</td>\n",
       "      <td>False</td>\n",
       "      <td>False</td>\n",
       "      <td>False</td>\n",
       "      <td>False</td>\n",
       "      <td>...</td>\n",
       "      <td>False</td>\n",
       "      <td>False</td>\n",
       "      <td>False</td>\n",
       "      <td>False</td>\n",
       "      <td>False</td>\n",
       "      <td>False</td>\n",
       "      <td>False</td>\n",
       "      <td>False</td>\n",
       "      <td>False</td>\n",
       "      <td>False</td>\n",
       "    </tr>\n",
       "    <tr>\n",
       "      <th>36</th>\n",
       "      <td>False</td>\n",
       "      <td>False</td>\n",
       "      <td>False</td>\n",
       "      <td>False</td>\n",
       "      <td>False</td>\n",
       "      <td>False</td>\n",
       "      <td>False</td>\n",
       "      <td>False</td>\n",
       "      <td>False</td>\n",
       "      <td>False</td>\n",
       "      <td>...</td>\n",
       "      <td>False</td>\n",
       "      <td>False</td>\n",
       "      <td>False</td>\n",
       "      <td>False</td>\n",
       "      <td>False</td>\n",
       "      <td>False</td>\n",
       "      <td>False</td>\n",
       "      <td>False</td>\n",
       "      <td>False</td>\n",
       "      <td>False</td>\n",
       "    </tr>\n",
       "    <tr>\n",
       "      <th>48</th>\n",
       "      <td>False</td>\n",
       "      <td>False</td>\n",
       "      <td>False</td>\n",
       "      <td>False</td>\n",
       "      <td>False</td>\n",
       "      <td>False</td>\n",
       "      <td>False</td>\n",
       "      <td>False</td>\n",
       "      <td>False</td>\n",
       "      <td>False</td>\n",
       "      <td>...</td>\n",
       "      <td>False</td>\n",
       "      <td>False</td>\n",
       "      <td>False</td>\n",
       "      <td>False</td>\n",
       "      <td>False</td>\n",
       "      <td>False</td>\n",
       "      <td>False</td>\n",
       "      <td>False</td>\n",
       "      <td>False</td>\n",
       "      <td>False</td>\n",
       "    </tr>\n",
       "    <tr>\n",
       "      <th>...</th>\n",
       "      <td>...</td>\n",
       "      <td>...</td>\n",
       "      <td>...</td>\n",
       "      <td>...</td>\n",
       "      <td>...</td>\n",
       "      <td>...</td>\n",
       "      <td>...</td>\n",
       "      <td>...</td>\n",
       "      <td>...</td>\n",
       "      <td>...</td>\n",
       "      <td>...</td>\n",
       "      <td>...</td>\n",
       "      <td>...</td>\n",
       "      <td>...</td>\n",
       "      <td>...</td>\n",
       "      <td>...</td>\n",
       "      <td>...</td>\n",
       "      <td>...</td>\n",
       "      <td>...</td>\n",
       "      <td>...</td>\n",
       "      <td>...</td>\n",
       "    </tr>\n",
       "    <tr>\n",
       "      <th>7781</th>\n",
       "      <td>False</td>\n",
       "      <td>False</td>\n",
       "      <td>False</td>\n",
       "      <td>False</td>\n",
       "      <td>False</td>\n",
       "      <td>False</td>\n",
       "      <td>False</td>\n",
       "      <td>False</td>\n",
       "      <td>False</td>\n",
       "      <td>False</td>\n",
       "      <td>...</td>\n",
       "      <td>False</td>\n",
       "      <td>False</td>\n",
       "      <td>False</td>\n",
       "      <td>False</td>\n",
       "      <td>False</td>\n",
       "      <td>False</td>\n",
       "      <td>False</td>\n",
       "      <td>False</td>\n",
       "      <td>False</td>\n",
       "      <td>False</td>\n",
       "    </tr>\n",
       "    <tr>\n",
       "      <th>7783</th>\n",
       "      <td>False</td>\n",
       "      <td>False</td>\n",
       "      <td>False</td>\n",
       "      <td>False</td>\n",
       "      <td>False</td>\n",
       "      <td>False</td>\n",
       "      <td>False</td>\n",
       "      <td>False</td>\n",
       "      <td>False</td>\n",
       "      <td>False</td>\n",
       "      <td>...</td>\n",
       "      <td>False</td>\n",
       "      <td>False</td>\n",
       "      <td>False</td>\n",
       "      <td>False</td>\n",
       "      <td>False</td>\n",
       "      <td>False</td>\n",
       "      <td>False</td>\n",
       "      <td>False</td>\n",
       "      <td>False</td>\n",
       "      <td>False</td>\n",
       "    </tr>\n",
       "    <tr>\n",
       "      <th>7793</th>\n",
       "      <td>False</td>\n",
       "      <td>False</td>\n",
       "      <td>False</td>\n",
       "      <td>False</td>\n",
       "      <td>False</td>\n",
       "      <td>False</td>\n",
       "      <td>True</td>\n",
       "      <td>False</td>\n",
       "      <td>False</td>\n",
       "      <td>False</td>\n",
       "      <td>...</td>\n",
       "      <td>False</td>\n",
       "      <td>False</td>\n",
       "      <td>False</td>\n",
       "      <td>False</td>\n",
       "      <td>False</td>\n",
       "      <td>False</td>\n",
       "      <td>False</td>\n",
       "      <td>False</td>\n",
       "      <td>False</td>\n",
       "      <td>False</td>\n",
       "    </tr>\n",
       "    <tr>\n",
       "      <th>7794</th>\n",
       "      <td>False</td>\n",
       "      <td>False</td>\n",
       "      <td>False</td>\n",
       "      <td>False</td>\n",
       "      <td>False</td>\n",
       "      <td>False</td>\n",
       "      <td>True</td>\n",
       "      <td>False</td>\n",
       "      <td>False</td>\n",
       "      <td>False</td>\n",
       "      <td>...</td>\n",
       "      <td>False</td>\n",
       "      <td>False</td>\n",
       "      <td>False</td>\n",
       "      <td>False</td>\n",
       "      <td>False</td>\n",
       "      <td>False</td>\n",
       "      <td>False</td>\n",
       "      <td>False</td>\n",
       "      <td>False</td>\n",
       "      <td>True</td>\n",
       "    </tr>\n",
       "    <tr>\n",
       "      <th>7822</th>\n",
       "      <td>False</td>\n",
       "      <td>False</td>\n",
       "      <td>False</td>\n",
       "      <td>False</td>\n",
       "      <td>False</td>\n",
       "      <td>False</td>\n",
       "      <td>False</td>\n",
       "      <td>False</td>\n",
       "      <td>False</td>\n",
       "      <td>False</td>\n",
       "      <td>...</td>\n",
       "      <td>False</td>\n",
       "      <td>False</td>\n",
       "      <td>False</td>\n",
       "      <td>False</td>\n",
       "      <td>False</td>\n",
       "      <td>False</td>\n",
       "      <td>False</td>\n",
       "      <td>False</td>\n",
       "      <td>False</td>\n",
       "      <td>False</td>\n",
       "    </tr>\n",
       "  </tbody>\n",
       "</table>\n",
       "<p>920 rows × 95 columns</p>\n",
       "</div>"
      ],
      "text/plain": [
       "      asset.assets.variety.E - Other  asset.assets.variety.E - Telematics  \\\n",
       "16                             False                                False   \n",
       "18                             False                                False   \n",
       "22                             False                                False   \n",
       "36                             False                                False   \n",
       "48                             False                                False   \n",
       "...                              ...                                  ...   \n",
       "7781                           False                                False   \n",
       "7783                           False                                False   \n",
       "7793                           False                                False   \n",
       "7794                           False                                False   \n",
       "7822                           False                                False   \n",
       "\n",
       "      asset.assets.variety.E - Telemetry  asset.assets.variety.E - Unknown  \\\n",
       "16                                 False                             False   \n",
       "18                                 False                             False   \n",
       "22                                 False                             False   \n",
       "36                                 False                             False   \n",
       "48                                 False                             False   \n",
       "...                                  ...                               ...   \n",
       "7781                               False                             False   \n",
       "7783                               False                             False   \n",
       "7793                               False                             False   \n",
       "7794                               False                             False   \n",
       "7822                               False                             False   \n",
       "\n",
       "      asset.assets.variety.M - Disk drive  \\\n",
       "16                                  False   \n",
       "18                                  False   \n",
       "22                                  False   \n",
       "36                                  False   \n",
       "48                                  False   \n",
       "...                                   ...   \n",
       "7781                                False   \n",
       "7783                                False   \n",
       "7793                                False   \n",
       "7794                                False   \n",
       "7822                                False   \n",
       "\n",
       "      asset.assets.variety.M - Disk media  asset.assets.variety.M - Documents  \\\n",
       "16                                  False                               False   \n",
       "18                                  False                               False   \n",
       "22                                  False                               False   \n",
       "36                                  False                               False   \n",
       "48                                  False                               False   \n",
       "...                                   ...                                 ...   \n",
       "7781                                False                               False   \n",
       "7783                                False                               False   \n",
       "7793                                False                                True   \n",
       "7794                                False                                True   \n",
       "7822                                False                               False   \n",
       "\n",
       "      asset.assets.variety.M - Fax  asset.assets.variety.M - Flash drive  \\\n",
       "16                           False                                 False   \n",
       "18                           False                                 False   \n",
       "22                           False                                 False   \n",
       "36                           False                                 False   \n",
       "48                           False                                 False   \n",
       "...                            ...                                   ...   \n",
       "7781                         False                                 False   \n",
       "7783                         False                                 False   \n",
       "7793                         False                                 False   \n",
       "7794                         False                                 False   \n",
       "7822                         False                                 False   \n",
       "\n",
       "      asset.assets.variety.M - Other  ...  asset.assets.variety.U - Media  \\\n",
       "16                             False  ...                           False   \n",
       "18                             False  ...                           False   \n",
       "22                             False  ...                           False   \n",
       "36                             False  ...                           False   \n",
       "48                             False  ...                           False   \n",
       "...                              ...  ...                             ...   \n",
       "7781                           False  ...                           False   \n",
       "7783                           False  ...                           False   \n",
       "7793                           False  ...                           False   \n",
       "7794                           False  ...                           False   \n",
       "7822                           False  ...                           False   \n",
       "\n",
       "      asset.assets.variety.U - Mobile phone  asset.assets.variety.U - Other  \\\n",
       "16                                    False                           False   \n",
       "18                                    False                           False   \n",
       "22                                    False                           False   \n",
       "36                                    False                           False   \n",
       "48                                    False                           False   \n",
       "...                                     ...                             ...   \n",
       "7781                                  False                           False   \n",
       "7783                                  False                           False   \n",
       "7793                                  False                           False   \n",
       "7794                                  False                           False   \n",
       "7822                                  False                           False   \n",
       "\n",
       "      asset.assets.variety.U - Peripheral  \\\n",
       "16                                  False   \n",
       "18                                  False   \n",
       "22                                  False   \n",
       "36                                  False   \n",
       "48                                  False   \n",
       "...                                   ...   \n",
       "7781                                False   \n",
       "7783                                False   \n",
       "7793                                False   \n",
       "7794                                False   \n",
       "7822                                False   \n",
       "\n",
       "      asset.assets.variety.U - POS terminal  asset.assets.variety.U - Tablet  \\\n",
       "16                                    False                            False   \n",
       "18                                    False                            False   \n",
       "22                                    False                            False   \n",
       "36                                    False                            False   \n",
       "48                                    False                            False   \n",
       "...                                     ...                              ...   \n",
       "7781                                  False                            False   \n",
       "7783                                  False                            False   \n",
       "7793                                  False                            False   \n",
       "7794                                  False                            False   \n",
       "7822                                  False                            False   \n",
       "\n",
       "      asset.assets.variety.U - Telephone  asset.assets.variety.U - Unknown  \\\n",
       "16                                 False                             False   \n",
       "18                                 False                             False   \n",
       "22                                 False                             False   \n",
       "36                                 False                             False   \n",
       "48                                 False                             False   \n",
       "...                                  ...                               ...   \n",
       "7781                               False                             False   \n",
       "7783                               False                             False   \n",
       "7793                               False                             False   \n",
       "7794                               False                             False   \n",
       "7822                               False                             False   \n",
       "\n",
       "      asset.assets.variety.U - VoIP phone  asset.assets.variety.Unknown  \n",
       "16                                  False                         False  \n",
       "18                                  False                         False  \n",
       "22                                  False                         False  \n",
       "36                                  False                         False  \n",
       "48                                  False                         False  \n",
       "...                                   ...                           ...  \n",
       "7781                                False                         False  \n",
       "7783                                False                         False  \n",
       "7793                                False                         False  \n",
       "7794                                False                          True  \n",
       "7822                                False                         False  \n",
       "\n",
       "[920 rows x 95 columns]"
      ]
     },
     "execution_count": 88,
     "metadata": {},
     "output_type": "execute_result"
    }
   ],
   "source": [
    "asset_variety_cols = [col for col in vcdb if 'asset.assets.variety.' in col]\n",
    "vcdb.loc[vcdb[asset_variety_cols].sum(axis=1) > 1, asset_variety_cols]"
   ]
  },
  {
   "cell_type": "code",
   "execution_count": 89,
   "metadata": {},
   "outputs": [
    {
     "data": {
      "text/plain": [
       "1     6913\n",
       "2      633\n",
       "3      158\n",
       "5       98\n",
       "4       29\n",
       "7        1\n",
       "10       1\n",
       "dtype: int64"
      ]
     },
     "execution_count": 89,
     "metadata": {},
     "output_type": "execute_result"
    }
   ],
   "source": [
    "vcdb[asset_variety_cols].sum(axis=1).value_counts()"
   ]
  },
  {
   "cell_type": "markdown",
   "metadata": {},
   "source": [
    "### Asset Amounts\n",
    "These are multi-select and so we leave them one-hot encoded."
   ]
  },
  {
   "cell_type": "code",
   "execution_count": 90,
   "metadata": {},
   "outputs": [
    {
     "data": {
      "text/html": [
       "<div>\n",
       "<style scoped>\n",
       "    .dataframe tbody tr th:only-of-type {\n",
       "        vertical-align: middle;\n",
       "    }\n",
       "\n",
       "    .dataframe tbody tr th {\n",
       "        vertical-align: top;\n",
       "    }\n",
       "\n",
       "    .dataframe thead th {\n",
       "        text-align: right;\n",
       "    }\n",
       "</style>\n",
       "<table border=\"1\" class=\"dataframe\">\n",
       "  <thead>\n",
       "    <tr style=\"text-align: right;\">\n",
       "      <th></th>\n",
       "      <th>asset.assets.amount.E - Other</th>\n",
       "      <th>asset.assets.amount.E - Telematics</th>\n",
       "      <th>asset.assets.amount.E - Telemetry</th>\n",
       "      <th>asset.assets.amount.E - Unknown</th>\n",
       "      <th>asset.assets.amount.M - Disk drive</th>\n",
       "      <th>asset.assets.amount.M - Disk media</th>\n",
       "      <th>asset.assets.amount.M - Documents</th>\n",
       "      <th>asset.assets.amount.M - Fax</th>\n",
       "      <th>asset.assets.amount.M - Flash drive</th>\n",
       "      <th>asset.assets.amount.M - Other</th>\n",
       "      <th>...</th>\n",
       "      <th>asset.assets.amount.U - Media</th>\n",
       "      <th>asset.assets.amount.U - Mobile phone</th>\n",
       "      <th>asset.assets.amount.U - Other</th>\n",
       "      <th>asset.assets.amount.U - Peripheral</th>\n",
       "      <th>asset.assets.amount.U - POS terminal</th>\n",
       "      <th>asset.assets.amount.U - Tablet</th>\n",
       "      <th>asset.assets.amount.U - Telephone</th>\n",
       "      <th>asset.assets.amount.U - Unknown</th>\n",
       "      <th>asset.assets.amount.U - VoIP phone</th>\n",
       "      <th>asset.assets.amount.Unknown</th>\n",
       "    </tr>\n",
       "  </thead>\n",
       "  <tbody>\n",
       "    <tr>\n",
       "      <th>197</th>\n",
       "      <td>NaN</td>\n",
       "      <td>NaN</td>\n",
       "      <td>NaN</td>\n",
       "      <td>NaN</td>\n",
       "      <td>NaN</td>\n",
       "      <td>NaN</td>\n",
       "      <td>NaN</td>\n",
       "      <td>NaN</td>\n",
       "      <td>3.0</td>\n",
       "      <td>NaN</td>\n",
       "      <td>...</td>\n",
       "      <td>NaN</td>\n",
       "      <td>NaN</td>\n",
       "      <td>NaN</td>\n",
       "      <td>NaN</td>\n",
       "      <td>NaN</td>\n",
       "      <td>NaN</td>\n",
       "      <td>NaN</td>\n",
       "      <td>NaN</td>\n",
       "      <td>NaN</td>\n",
       "      <td>NaN</td>\n",
       "    </tr>\n",
       "    <tr>\n",
       "      <th>281</th>\n",
       "      <td>NaN</td>\n",
       "      <td>NaN</td>\n",
       "      <td>NaN</td>\n",
       "      <td>NaN</td>\n",
       "      <td>NaN</td>\n",
       "      <td>NaN</td>\n",
       "      <td>1100.0</td>\n",
       "      <td>NaN</td>\n",
       "      <td>NaN</td>\n",
       "      <td>NaN</td>\n",
       "      <td>...</td>\n",
       "      <td>NaN</td>\n",
       "      <td>NaN</td>\n",
       "      <td>NaN</td>\n",
       "      <td>NaN</td>\n",
       "      <td>NaN</td>\n",
       "      <td>NaN</td>\n",
       "      <td>NaN</td>\n",
       "      <td>NaN</td>\n",
       "      <td>NaN</td>\n",
       "      <td>NaN</td>\n",
       "    </tr>\n",
       "    <tr>\n",
       "      <th>471</th>\n",
       "      <td>NaN</td>\n",
       "      <td>NaN</td>\n",
       "      <td>NaN</td>\n",
       "      <td>NaN</td>\n",
       "      <td>NaN</td>\n",
       "      <td>NaN</td>\n",
       "      <td>703.0</td>\n",
       "      <td>NaN</td>\n",
       "      <td>NaN</td>\n",
       "      <td>NaN</td>\n",
       "      <td>...</td>\n",
       "      <td>NaN</td>\n",
       "      <td>NaN</td>\n",
       "      <td>NaN</td>\n",
       "      <td>NaN</td>\n",
       "      <td>NaN</td>\n",
       "      <td>NaN</td>\n",
       "      <td>NaN</td>\n",
       "      <td>NaN</td>\n",
       "      <td>NaN</td>\n",
       "      <td>NaN</td>\n",
       "    </tr>\n",
       "    <tr>\n",
       "      <th>481</th>\n",
       "      <td>NaN</td>\n",
       "      <td>NaN</td>\n",
       "      <td>NaN</td>\n",
       "      <td>NaN</td>\n",
       "      <td>1.0</td>\n",
       "      <td>NaN</td>\n",
       "      <td>NaN</td>\n",
       "      <td>NaN</td>\n",
       "      <td>NaN</td>\n",
       "      <td>NaN</td>\n",
       "      <td>...</td>\n",
       "      <td>NaN</td>\n",
       "      <td>NaN</td>\n",
       "      <td>NaN</td>\n",
       "      <td>NaN</td>\n",
       "      <td>NaN</td>\n",
       "      <td>NaN</td>\n",
       "      <td>NaN</td>\n",
       "      <td>NaN</td>\n",
       "      <td>NaN</td>\n",
       "      <td>NaN</td>\n",
       "    </tr>\n",
       "    <tr>\n",
       "      <th>544</th>\n",
       "      <td>NaN</td>\n",
       "      <td>NaN</td>\n",
       "      <td>NaN</td>\n",
       "      <td>NaN</td>\n",
       "      <td>NaN</td>\n",
       "      <td>NaN</td>\n",
       "      <td>1020.0</td>\n",
       "      <td>NaN</td>\n",
       "      <td>NaN</td>\n",
       "      <td>NaN</td>\n",
       "      <td>...</td>\n",
       "      <td>NaN</td>\n",
       "      <td>NaN</td>\n",
       "      <td>NaN</td>\n",
       "      <td>NaN</td>\n",
       "      <td>NaN</td>\n",
       "      <td>NaN</td>\n",
       "      <td>NaN</td>\n",
       "      <td>NaN</td>\n",
       "      <td>NaN</td>\n",
       "      <td>NaN</td>\n",
       "    </tr>\n",
       "    <tr>\n",
       "      <th>...</th>\n",
       "      <td>...</td>\n",
       "      <td>...</td>\n",
       "      <td>...</td>\n",
       "      <td>...</td>\n",
       "      <td>...</td>\n",
       "      <td>...</td>\n",
       "      <td>...</td>\n",
       "      <td>...</td>\n",
       "      <td>...</td>\n",
       "      <td>...</td>\n",
       "      <td>...</td>\n",
       "      <td>...</td>\n",
       "      <td>...</td>\n",
       "      <td>...</td>\n",
       "      <td>...</td>\n",
       "      <td>...</td>\n",
       "      <td>...</td>\n",
       "      <td>...</td>\n",
       "      <td>...</td>\n",
       "      <td>...</td>\n",
       "      <td>...</td>\n",
       "    </tr>\n",
       "    <tr>\n",
       "      <th>7479</th>\n",
       "      <td>NaN</td>\n",
       "      <td>NaN</td>\n",
       "      <td>NaN</td>\n",
       "      <td>NaN</td>\n",
       "      <td>NaN</td>\n",
       "      <td>NaN</td>\n",
       "      <td>10500.0</td>\n",
       "      <td>NaN</td>\n",
       "      <td>NaN</td>\n",
       "      <td>NaN</td>\n",
       "      <td>...</td>\n",
       "      <td>NaN</td>\n",
       "      <td>NaN</td>\n",
       "      <td>NaN</td>\n",
       "      <td>NaN</td>\n",
       "      <td>NaN</td>\n",
       "      <td>NaN</td>\n",
       "      <td>NaN</td>\n",
       "      <td>NaN</td>\n",
       "      <td>NaN</td>\n",
       "      <td>NaN</td>\n",
       "    </tr>\n",
       "    <tr>\n",
       "      <th>7582</th>\n",
       "      <td>NaN</td>\n",
       "      <td>NaN</td>\n",
       "      <td>NaN</td>\n",
       "      <td>NaN</td>\n",
       "      <td>NaN</td>\n",
       "      <td>NaN</td>\n",
       "      <td>NaN</td>\n",
       "      <td>NaN</td>\n",
       "      <td>NaN</td>\n",
       "      <td>NaN</td>\n",
       "      <td>...</td>\n",
       "      <td>NaN</td>\n",
       "      <td>NaN</td>\n",
       "      <td>NaN</td>\n",
       "      <td>NaN</td>\n",
       "      <td>NaN</td>\n",
       "      <td>NaN</td>\n",
       "      <td>NaN</td>\n",
       "      <td>NaN</td>\n",
       "      <td>NaN</td>\n",
       "      <td>NaN</td>\n",
       "    </tr>\n",
       "    <tr>\n",
       "      <th>7620</th>\n",
       "      <td>NaN</td>\n",
       "      <td>NaN</td>\n",
       "      <td>NaN</td>\n",
       "      <td>NaN</td>\n",
       "      <td>NaN</td>\n",
       "      <td>NaN</td>\n",
       "      <td>NaN</td>\n",
       "      <td>NaN</td>\n",
       "      <td>NaN</td>\n",
       "      <td>NaN</td>\n",
       "      <td>...</td>\n",
       "      <td>NaN</td>\n",
       "      <td>NaN</td>\n",
       "      <td>NaN</td>\n",
       "      <td>NaN</td>\n",
       "      <td>NaN</td>\n",
       "      <td>NaN</td>\n",
       "      <td>NaN</td>\n",
       "      <td>NaN</td>\n",
       "      <td>NaN</td>\n",
       "      <td>NaN</td>\n",
       "    </tr>\n",
       "    <tr>\n",
       "      <th>7622</th>\n",
       "      <td>NaN</td>\n",
       "      <td>NaN</td>\n",
       "      <td>NaN</td>\n",
       "      <td>NaN</td>\n",
       "      <td>NaN</td>\n",
       "      <td>NaN</td>\n",
       "      <td>NaN</td>\n",
       "      <td>NaN</td>\n",
       "      <td>NaN</td>\n",
       "      <td>NaN</td>\n",
       "      <td>...</td>\n",
       "      <td>NaN</td>\n",
       "      <td>NaN</td>\n",
       "      <td>NaN</td>\n",
       "      <td>NaN</td>\n",
       "      <td>NaN</td>\n",
       "      <td>NaN</td>\n",
       "      <td>NaN</td>\n",
       "      <td>NaN</td>\n",
       "      <td>NaN</td>\n",
       "      <td>NaN</td>\n",
       "    </tr>\n",
       "    <tr>\n",
       "      <th>7789</th>\n",
       "      <td>NaN</td>\n",
       "      <td>NaN</td>\n",
       "      <td>NaN</td>\n",
       "      <td>NaN</td>\n",
       "      <td>NaN</td>\n",
       "      <td>NaN</td>\n",
       "      <td>195.0</td>\n",
       "      <td>NaN</td>\n",
       "      <td>NaN</td>\n",
       "      <td>NaN</td>\n",
       "      <td>...</td>\n",
       "      <td>NaN</td>\n",
       "      <td>NaN</td>\n",
       "      <td>NaN</td>\n",
       "      <td>NaN</td>\n",
       "      <td>NaN</td>\n",
       "      <td>NaN</td>\n",
       "      <td>NaN</td>\n",
       "      <td>NaN</td>\n",
       "      <td>NaN</td>\n",
       "      <td>NaN</td>\n",
       "    </tr>\n",
       "  </tbody>\n",
       "</table>\n",
       "<p>89 rows × 95 columns</p>\n",
       "</div>"
      ],
      "text/plain": [
       "      asset.assets.amount.E - Other  asset.assets.amount.E - Telematics  \\\n",
       "197                             NaN                                 NaN   \n",
       "281                             NaN                                 NaN   \n",
       "471                             NaN                                 NaN   \n",
       "481                             NaN                                 NaN   \n",
       "544                             NaN                                 NaN   \n",
       "...                             ...                                 ...   \n",
       "7479                            NaN                                 NaN   \n",
       "7582                            NaN                                 NaN   \n",
       "7620                            NaN                                 NaN   \n",
       "7622                            NaN                                 NaN   \n",
       "7789                            NaN                                 NaN   \n",
       "\n",
       "      asset.assets.amount.E - Telemetry  asset.assets.amount.E - Unknown  \\\n",
       "197                                 NaN                              NaN   \n",
       "281                                 NaN                              NaN   \n",
       "471                                 NaN                              NaN   \n",
       "481                                 NaN                              NaN   \n",
       "544                                 NaN                              NaN   \n",
       "...                                 ...                              ...   \n",
       "7479                                NaN                              NaN   \n",
       "7582                                NaN                              NaN   \n",
       "7620                                NaN                              NaN   \n",
       "7622                                NaN                              NaN   \n",
       "7789                                NaN                              NaN   \n",
       "\n",
       "      asset.assets.amount.M - Disk drive  asset.assets.amount.M - Disk media  \\\n",
       "197                                  NaN                                 NaN   \n",
       "281                                  NaN                                 NaN   \n",
       "471                                  NaN                                 NaN   \n",
       "481                                  1.0                                 NaN   \n",
       "544                                  NaN                                 NaN   \n",
       "...                                  ...                                 ...   \n",
       "7479                                 NaN                                 NaN   \n",
       "7582                                 NaN                                 NaN   \n",
       "7620                                 NaN                                 NaN   \n",
       "7622                                 NaN                                 NaN   \n",
       "7789                                 NaN                                 NaN   \n",
       "\n",
       "      asset.assets.amount.M - Documents  asset.assets.amount.M - Fax  \\\n",
       "197                                 NaN                          NaN   \n",
       "281                              1100.0                          NaN   \n",
       "471                               703.0                          NaN   \n",
       "481                                 NaN                          NaN   \n",
       "544                              1020.0                          NaN   \n",
       "...                                 ...                          ...   \n",
       "7479                            10500.0                          NaN   \n",
       "7582                                NaN                          NaN   \n",
       "7620                                NaN                          NaN   \n",
       "7622                                NaN                          NaN   \n",
       "7789                              195.0                          NaN   \n",
       "\n",
       "      asset.assets.amount.M - Flash drive  asset.assets.amount.M - Other  ...  \\\n",
       "197                                   3.0                            NaN  ...   \n",
       "281                                   NaN                            NaN  ...   \n",
       "471                                   NaN                            NaN  ...   \n",
       "481                                   NaN                            NaN  ...   \n",
       "544                                   NaN                            NaN  ...   \n",
       "...                                   ...                            ...  ...   \n",
       "7479                                  NaN                            NaN  ...   \n",
       "7582                                  NaN                            NaN  ...   \n",
       "7620                                  NaN                            NaN  ...   \n",
       "7622                                  NaN                            NaN  ...   \n",
       "7789                                  NaN                            NaN  ...   \n",
       "\n",
       "      asset.assets.amount.U - Media  asset.assets.amount.U - Mobile phone  \\\n",
       "197                             NaN                                   NaN   \n",
       "281                             NaN                                   NaN   \n",
       "471                             NaN                                   NaN   \n",
       "481                             NaN                                   NaN   \n",
       "544                             NaN                                   NaN   \n",
       "...                             ...                                   ...   \n",
       "7479                            NaN                                   NaN   \n",
       "7582                            NaN                                   NaN   \n",
       "7620                            NaN                                   NaN   \n",
       "7622                            NaN                                   NaN   \n",
       "7789                            NaN                                   NaN   \n",
       "\n",
       "      asset.assets.amount.U - Other  asset.assets.amount.U - Peripheral  \\\n",
       "197                             NaN                                 NaN   \n",
       "281                             NaN                                 NaN   \n",
       "471                             NaN                                 NaN   \n",
       "481                             NaN                                 NaN   \n",
       "544                             NaN                                 NaN   \n",
       "...                             ...                                 ...   \n",
       "7479                            NaN                                 NaN   \n",
       "7582                            NaN                                 NaN   \n",
       "7620                            NaN                                 NaN   \n",
       "7622                            NaN                                 NaN   \n",
       "7789                            NaN                                 NaN   \n",
       "\n",
       "      asset.assets.amount.U - POS terminal  asset.assets.amount.U - Tablet  \\\n",
       "197                                    NaN                             NaN   \n",
       "281                                    NaN                             NaN   \n",
       "471                                    NaN                             NaN   \n",
       "481                                    NaN                             NaN   \n",
       "544                                    NaN                             NaN   \n",
       "...                                    ...                             ...   \n",
       "7479                                   NaN                             NaN   \n",
       "7582                                   NaN                             NaN   \n",
       "7620                                   NaN                             NaN   \n",
       "7622                                   NaN                             NaN   \n",
       "7789                                   NaN                             NaN   \n",
       "\n",
       "      asset.assets.amount.U - Telephone  asset.assets.amount.U - Unknown  \\\n",
       "197                                 NaN                              NaN   \n",
       "281                                 NaN                              NaN   \n",
       "471                                 NaN                              NaN   \n",
       "481                                 NaN                              NaN   \n",
       "544                                 NaN                              NaN   \n",
       "...                                 ...                              ...   \n",
       "7479                                NaN                              NaN   \n",
       "7582                                NaN                              NaN   \n",
       "7620                                NaN                              NaN   \n",
       "7622                                NaN                              NaN   \n",
       "7789                                NaN                              NaN   \n",
       "\n",
       "      asset.assets.amount.U - VoIP phone  asset.assets.amount.Unknown  \n",
       "197                                  NaN                          NaN  \n",
       "281                                  NaN                          NaN  \n",
       "471                                  NaN                          NaN  \n",
       "481                                  NaN                          NaN  \n",
       "544                                  NaN                          NaN  \n",
       "...                                  ...                          ...  \n",
       "7479                                 NaN                          NaN  \n",
       "7582                                 NaN                          NaN  \n",
       "7620                                 NaN                          NaN  \n",
       "7622                                 NaN                          NaN  \n",
       "7789                                 NaN                          NaN  \n",
       "\n",
       "[89 rows x 95 columns]"
      ]
     },
     "execution_count": 90,
     "metadata": {},
     "output_type": "execute_result"
    }
   ],
   "source": [
    "asset_amt_cols =[col for col in vcdb if 'asset.assets.amount.' in col]\n",
    "vcdb.loc[vcdb[asset_amt_cols].notnull().any(axis=1) & \n",
    "         (vcdb[asset_amt_cols]>1).any(axis=1), \n",
    "         asset_amt_cols]"
   ]
  },
  {
   "cell_type": "markdown",
   "metadata": {},
   "source": [
    "### Asset Country"
   ]
  },
  {
   "cell_type": "code",
   "execution_count": 91,
   "metadata": {},
   "outputs": [
    {
     "data": {
      "text/plain": [
       "0    7735\n",
       "1      98\n",
       "dtype: int64"
      ]
     },
     "execution_count": 91,
     "metadata": {},
     "output_type": "execute_result"
    }
   ],
   "source": [
    "vcdb[[col for col in vcdb if col.startswith('asset.country.')]].sum(axis=1).value_counts()"
   ]
  },
  {
   "cell_type": "code",
   "execution_count": 92,
   "metadata": {},
   "outputs": [
    {
     "data": {
      "text/plain": [
       "NaN        7735\n",
       "US           66\n",
       "GB            8\n",
       "CA            8\n",
       "Unknown       6\n",
       "AU            3\n",
       "MT            1\n",
       "HK            1\n",
       "JP            1\n",
       "AF            1\n",
       "GR            1\n",
       "CN            1\n",
       "ES            1\n",
       "Name: asset.country, dtype: int64"
      ]
     },
     "execution_count": 92,
     "metadata": {},
     "output_type": "execute_result"
    }
   ],
   "source": [
    "vcdb = vcdb.pipe(decode_feature, pattern='asset.country.')\n",
    "vcdb['asset.country'].value_counts(dropna=False)"
   ]
  },
  {
   "cell_type": "markdown",
   "metadata": {},
   "source": [
    "### Asset Governance\n",
    "These appear to be multi-select and so we leave as one-hot encoded"
   ]
  },
  {
   "cell_type": "code",
   "execution_count": 93,
   "metadata": {},
   "outputs": [
    {
     "data": {
      "text/plain": [
       "['asset.governance.3rd party hosted',\n",
       " 'asset.governance.3rd party managed',\n",
       " 'asset.governance.3rd party owned',\n",
       " 'asset.governance.Internally isolated',\n",
       " 'asset.governance.Other',\n",
       " 'asset.governance.Personally owned',\n",
       " 'asset.governance.Unknown',\n",
       " 'asset.governance.Victim governed']"
      ]
     },
     "execution_count": 93,
     "metadata": {},
     "output_type": "execute_result"
    }
   ],
   "source": [
    "[col for col in vcdb if col.startswith('asset.governance.')]"
   ]
  },
  {
   "cell_type": "code",
   "execution_count": 94,
   "metadata": {},
   "outputs": [
    {
     "data": {
      "text/plain": [
       "0    6899\n",
       "1     752\n",
       "2     122\n",
       "3      60\n",
       "dtype: int64"
      ]
     },
     "execution_count": 94,
     "metadata": {},
     "output_type": "execute_result"
    }
   ],
   "source": [
    "vcdb[[col for col in vcdb if col.startswith('asset.governance.')]].sum(axis=1).value_counts()"
   ]
  },
  {
   "cell_type": "markdown",
   "metadata": {},
   "source": [
    "### Asset Hosting"
   ]
  },
  {
   "cell_type": "code",
   "execution_count": 95,
   "metadata": {},
   "outputs": [
    {
     "data": {
      "text/plain": [
       "['asset.hosting.External',\n",
       " 'asset.hosting.External dedicated',\n",
       " 'asset.hosting.External shared',\n",
       " 'asset.hosting.Internal',\n",
       " 'asset.hosting.NA',\n",
       " 'asset.hosting.Other',\n",
       " 'asset.hosting.Unknown']"
      ]
     },
     "execution_count": 95,
     "metadata": {},
     "output_type": "execute_result"
    }
   ],
   "source": [
    "[col for col in vcdb if col.startswith('asset.hosting.')]"
   ]
  },
  {
   "cell_type": "code",
   "execution_count": 96,
   "metadata": {},
   "outputs": [
    {
     "data": {
      "text/plain": [
       "0    7833\n",
       "dtype: int64"
      ]
     },
     "execution_count": 96,
     "metadata": {},
     "output_type": "execute_result"
    }
   ],
   "source": [
    "vcdb[[col for col in vcdb if col.startswith('asset.hosting.')]].sum(axis=1).value_counts()"
   ]
  },
  {
   "cell_type": "code",
   "execution_count": 97,
   "metadata": {},
   "outputs": [
    {
     "data": {
      "text/plain": [
       "NaN    7833\n",
       "Name: asset.hosting, dtype: int64"
      ]
     },
     "execution_count": 97,
     "metadata": {},
     "output_type": "execute_result"
    }
   ],
   "source": [
    "vcdb = vcdb.pipe(decode_feature, pattern='asset.hosting.')\n",
    "vcdb['asset.hosting'].value_counts(dropna=False)"
   ]
  },
  {
   "cell_type": "markdown",
   "metadata": {},
   "source": [
    "### Asset Hosting"
   ]
  },
  {
   "cell_type": "code",
   "execution_count": 98,
   "metadata": {},
   "outputs": [
    {
     "data": {
      "text/plain": [
       "['asset.management.External',\n",
       " 'asset.management.Internal',\n",
       " 'asset.management.NA',\n",
       " 'asset.management.Other',\n",
       " 'asset.management.Unknown']"
      ]
     },
     "execution_count": 98,
     "metadata": {},
     "output_type": "execute_result"
    }
   ],
   "source": [
    "[col for col in vcdb if col.startswith('asset.management.')]"
   ]
  },
  {
   "cell_type": "code",
   "execution_count": 99,
   "metadata": {},
   "outputs": [
    {
     "data": {
      "text/plain": [
       "0    7833\n",
       "dtype: int64"
      ]
     },
     "execution_count": 99,
     "metadata": {},
     "output_type": "execute_result"
    }
   ],
   "source": [
    "vcdb[[col for col in vcdb if col.startswith('asset.management.')]].sum(axis=1).value_counts()"
   ]
  },
  {
   "cell_type": "code",
   "execution_count": 100,
   "metadata": {},
   "outputs": [
    {
     "data": {
      "text/plain": [
       "NaN    7833\n",
       "Name: asset.management, dtype: int64"
      ]
     },
     "execution_count": 100,
     "metadata": {},
     "output_type": "execute_result"
    }
   ],
   "source": [
    "vcdb= vcdb.pipe(decode_feature, pattern='asset.management.')\n",
    "vcdb['asset.management'].value_counts(dropna=False)"
   ]
  },
  {
   "cell_type": "markdown",
   "metadata": {},
   "source": [
    "### Asset Variety\n",
    "Is multiselect so we leave as is"
   ]
  },
  {
   "cell_type": "code",
   "execution_count": 101,
   "metadata": {},
   "outputs": [
    {
     "data": {
      "text/plain": [
       "1    7139\n",
       "2     468\n",
       "3     123\n",
       "4      93\n",
       "0       6\n",
       "5       4\n",
       "dtype: int64"
      ]
     },
     "execution_count": 101,
     "metadata": {},
     "output_type": "execute_result"
    }
   ],
   "source": [
    "vcdb[[col for col in vcdb if col.startswith('asset.variety.')]].sum(axis=1).value_counts()"
   ]
  },
  {
   "cell_type": "code",
   "execution_count": 102,
   "metadata": {},
   "outputs": [
    {
     "data": {
      "text/html": [
       "<div>\n",
       "<style scoped>\n",
       "    .dataframe tbody tr th:only-of-type {\n",
       "        vertical-align: middle;\n",
       "    }\n",
       "\n",
       "    .dataframe tbody tr th {\n",
       "        vertical-align: top;\n",
       "    }\n",
       "\n",
       "    .dataframe thead th {\n",
       "        text-align: right;\n",
       "    }\n",
       "</style>\n",
       "<table border=\"1\" class=\"dataframe\">\n",
       "  <thead>\n",
       "    <tr style=\"text-align: right;\">\n",
       "      <th></th>\n",
       "      <th>asset.variety.Server</th>\n",
       "      <th>asset.variety.Network</th>\n",
       "      <th>asset.variety.User Dev</th>\n",
       "      <th>asset.variety.Media</th>\n",
       "      <th>asset.variety.Person</th>\n",
       "      <th>asset.variety.Kiosk/Term</th>\n",
       "      <th>asset.variety.Unknown</th>\n",
       "      <th>asset.variety.Embedded</th>\n",
       "    </tr>\n",
       "  </thead>\n",
       "  <tbody>\n",
       "    <tr>\n",
       "      <th>0</th>\n",
       "      <td>True</td>\n",
       "      <td>False</td>\n",
       "      <td>False</td>\n",
       "      <td>False</td>\n",
       "      <td>False</td>\n",
       "      <td>False</td>\n",
       "      <td>False</td>\n",
       "      <td>False</td>\n",
       "    </tr>\n",
       "    <tr>\n",
       "      <th>1</th>\n",
       "      <td>False</td>\n",
       "      <td>False</td>\n",
       "      <td>True</td>\n",
       "      <td>False</td>\n",
       "      <td>False</td>\n",
       "      <td>False</td>\n",
       "      <td>False</td>\n",
       "      <td>False</td>\n",
       "    </tr>\n",
       "    <tr>\n",
       "      <th>2</th>\n",
       "      <td>False</td>\n",
       "      <td>False</td>\n",
       "      <td>False</td>\n",
       "      <td>True</td>\n",
       "      <td>False</td>\n",
       "      <td>False</td>\n",
       "      <td>False</td>\n",
       "      <td>False</td>\n",
       "    </tr>\n",
       "    <tr>\n",
       "      <th>3</th>\n",
       "      <td>True</td>\n",
       "      <td>False</td>\n",
       "      <td>False</td>\n",
       "      <td>False</td>\n",
       "      <td>False</td>\n",
       "      <td>False</td>\n",
       "      <td>False</td>\n",
       "      <td>False</td>\n",
       "    </tr>\n",
       "    <tr>\n",
       "      <th>4</th>\n",
       "      <td>False</td>\n",
       "      <td>False</td>\n",
       "      <td>False</td>\n",
       "      <td>True</td>\n",
       "      <td>False</td>\n",
       "      <td>False</td>\n",
       "      <td>False</td>\n",
       "      <td>False</td>\n",
       "    </tr>\n",
       "    <tr>\n",
       "      <th>...</th>\n",
       "      <td>...</td>\n",
       "      <td>...</td>\n",
       "      <td>...</td>\n",
       "      <td>...</td>\n",
       "      <td>...</td>\n",
       "      <td>...</td>\n",
       "      <td>...</td>\n",
       "      <td>...</td>\n",
       "    </tr>\n",
       "    <tr>\n",
       "      <th>7828</th>\n",
       "      <td>True</td>\n",
       "      <td>False</td>\n",
       "      <td>False</td>\n",
       "      <td>False</td>\n",
       "      <td>False</td>\n",
       "      <td>False</td>\n",
       "      <td>False</td>\n",
       "      <td>False</td>\n",
       "    </tr>\n",
       "    <tr>\n",
       "      <th>7829</th>\n",
       "      <td>False</td>\n",
       "      <td>False</td>\n",
       "      <td>True</td>\n",
       "      <td>False</td>\n",
       "      <td>False</td>\n",
       "      <td>False</td>\n",
       "      <td>False</td>\n",
       "      <td>False</td>\n",
       "    </tr>\n",
       "    <tr>\n",
       "      <th>7830</th>\n",
       "      <td>False</td>\n",
       "      <td>False</td>\n",
       "      <td>False</td>\n",
       "      <td>True</td>\n",
       "      <td>False</td>\n",
       "      <td>False</td>\n",
       "      <td>False</td>\n",
       "      <td>False</td>\n",
       "    </tr>\n",
       "    <tr>\n",
       "      <th>7831</th>\n",
       "      <td>False</td>\n",
       "      <td>False</td>\n",
       "      <td>True</td>\n",
       "      <td>False</td>\n",
       "      <td>False</td>\n",
       "      <td>False</td>\n",
       "      <td>False</td>\n",
       "      <td>False</td>\n",
       "    </tr>\n",
       "    <tr>\n",
       "      <th>7832</th>\n",
       "      <td>False</td>\n",
       "      <td>False</td>\n",
       "      <td>False</td>\n",
       "      <td>True</td>\n",
       "      <td>False</td>\n",
       "      <td>False</td>\n",
       "      <td>False</td>\n",
       "      <td>False</td>\n",
       "    </tr>\n",
       "  </tbody>\n",
       "</table>\n",
       "<p>7833 rows × 8 columns</p>\n",
       "</div>"
      ],
      "text/plain": [
       "      asset.variety.Server  asset.variety.Network  asset.variety.User Dev  \\\n",
       "0                     True                  False                   False   \n",
       "1                    False                  False                    True   \n",
       "2                    False                  False                   False   \n",
       "3                     True                  False                   False   \n",
       "4                    False                  False                   False   \n",
       "...                    ...                    ...                     ...   \n",
       "7828                  True                  False                   False   \n",
       "7829                 False                  False                    True   \n",
       "7830                 False                  False                   False   \n",
       "7831                 False                  False                    True   \n",
       "7832                 False                  False                   False   \n",
       "\n",
       "      asset.variety.Media  asset.variety.Person  asset.variety.Kiosk/Term  \\\n",
       "0                   False                 False                     False   \n",
       "1                   False                 False                     False   \n",
       "2                    True                 False                     False   \n",
       "3                   False                 False                     False   \n",
       "4                    True                 False                     False   \n",
       "...                   ...                   ...                       ...   \n",
       "7828                False                 False                     False   \n",
       "7829                False                 False                     False   \n",
       "7830                 True                 False                     False   \n",
       "7831                False                 False                     False   \n",
       "7832                 True                 False                     False   \n",
       "\n",
       "      asset.variety.Unknown  asset.variety.Embedded  \n",
       "0                     False                   False  \n",
       "1                     False                   False  \n",
       "2                     False                   False  \n",
       "3                     False                   False  \n",
       "4                     False                   False  \n",
       "...                     ...                     ...  \n",
       "7828                  False                   False  \n",
       "7829                  False                   False  \n",
       "7830                  False                   False  \n",
       "7831                  False                   False  \n",
       "7832                  False                   False  \n",
       "\n",
       "[7833 rows x 8 columns]"
      ]
     },
     "execution_count": 102,
     "metadata": {},
     "output_type": "execute_result"
    }
   ],
   "source": [
    "vcdb[[col for col in vcdb if col.startswith('asset.variety.')]]"
   ]
  },
  {
   "cell_type": "code",
   "execution_count": 103,
   "metadata": {},
   "outputs": [],
   "source": [
    "pd.Series(vcdb.columns).to_clipboard()"
   ]
  },
  {
   "cell_type": "markdown",
   "metadata": {},
   "source": [
    "# Pattern features\n",
    "There potentially some good useful information here.\n",
    "These pattern features aren't very useful for predictions, but may be good for "
   ]
  },
  {
   "cell_type": "code",
   "execution_count": 104,
   "metadata": {},
   "outputs": [
    {
     "data": {
      "text/plain": [
       "Miscellaneous Errors      1812\n",
       "Privilege Misuse          1597\n",
       "Lost and Stolen Assets    1460\n",
       "Everything Else           1026\n",
       "Web Applications           896\n",
       "Payment Card Skimmers      278\n",
       "Crimeware                  267\n",
       "Cyber-Espionage            247\n",
       "Denial of Service          162\n",
       "Point of Sale               88\n",
       "Name: pattern, dtype: int64"
      ]
     },
     "execution_count": 104,
     "metadata": {},
     "output_type": "execute_result"
    }
   ],
   "source": [
    "vcdb['pattern'].value_counts(dropna=False)"
   ]
  },
  {
   "cell_type": "markdown",
   "metadata": {},
   "source": [
    "The other pattern features appear to be multiselect"
   ]
  },
  {
   "cell_type": "code",
   "execution_count": 105,
   "metadata": {},
   "outputs": [
    {
     "data": {
      "text/plain": [
       "['pattern.Point of Sale',\n",
       " 'pattern.Web Applications',\n",
       " 'pattern.Privilege Misuse',\n",
       " 'pattern.Lost and Stolen Assets',\n",
       " 'pattern.Miscellaneous Errors',\n",
       " 'pattern.Crimeware',\n",
       " 'pattern.Payment Card Skimmers',\n",
       " 'pattern.Denial of Service',\n",
       " 'pattern.Cyber-Espionage',\n",
       " 'pattern.Everything Else']"
      ]
     },
     "execution_count": 105,
     "metadata": {},
     "output_type": "execute_result"
    }
   ],
   "source": [
    "[col for col in vcdb if col.startswith('pattern.')]"
   ]
  },
  {
   "cell_type": "markdown",
   "metadata": {},
   "source": [
    "We leave as one hot encoded because some have both"
   ]
  },
  {
   "cell_type": "code",
   "execution_count": 106,
   "metadata": {},
   "outputs": [
    {
     "data": {
      "text/plain": [
       "1    7732\n",
       "2     101\n",
       "dtype: int64"
      ]
     },
     "execution_count": 106,
     "metadata": {},
     "output_type": "execute_result"
    }
   ],
   "source": [
    "vcdb[[col for col in vcdb if col.startswith('pattern.')]].sum(axis=1).value_counts(dropna=False)"
   ]
  },
  {
   "cell_type": "code",
   "execution_count": 107,
   "metadata": {},
   "outputs": [
    {
     "data": {
      "text/html": [
       "<div>\n",
       "<style scoped>\n",
       "    .dataframe tbody tr th:only-of-type {\n",
       "        vertical-align: middle;\n",
       "    }\n",
       "\n",
       "    .dataframe tbody tr th {\n",
       "        vertical-align: top;\n",
       "    }\n",
       "\n",
       "    .dataframe thead th {\n",
       "        text-align: right;\n",
       "    }\n",
       "</style>\n",
       "<table border=\"1\" class=\"dataframe\">\n",
       "  <thead>\n",
       "    <tr style=\"text-align: right;\">\n",
       "      <th></th>\n",
       "      <th>pattern.Point of Sale</th>\n",
       "      <th>pattern.Web Applications</th>\n",
       "      <th>pattern.Privilege Misuse</th>\n",
       "      <th>pattern.Lost and Stolen Assets</th>\n",
       "      <th>pattern.Miscellaneous Errors</th>\n",
       "      <th>pattern.Crimeware</th>\n",
       "      <th>pattern.Payment Card Skimmers</th>\n",
       "      <th>pattern.Denial of Service</th>\n",
       "      <th>pattern.Cyber-Espionage</th>\n",
       "      <th>pattern.Everything Else</th>\n",
       "    </tr>\n",
       "  </thead>\n",
       "  <tbody>\n",
       "    <tr>\n",
       "      <th>16</th>\n",
       "      <td>False</td>\n",
       "      <td>False</td>\n",
       "      <td>True</td>\n",
       "      <td>False</td>\n",
       "      <td>False</td>\n",
       "      <td>False</td>\n",
       "      <td>False</td>\n",
       "      <td>False</td>\n",
       "      <td>True</td>\n",
       "      <td>False</td>\n",
       "    </tr>\n",
       "    <tr>\n",
       "      <th>375</th>\n",
       "      <td>False</td>\n",
       "      <td>False</td>\n",
       "      <td>True</td>\n",
       "      <td>True</td>\n",
       "      <td>False</td>\n",
       "      <td>False</td>\n",
       "      <td>False</td>\n",
       "      <td>False</td>\n",
       "      <td>False</td>\n",
       "      <td>False</td>\n",
       "    </tr>\n",
       "    <tr>\n",
       "      <th>634</th>\n",
       "      <td>False</td>\n",
       "      <td>False</td>\n",
       "      <td>True</td>\n",
       "      <td>True</td>\n",
       "      <td>False</td>\n",
       "      <td>False</td>\n",
       "      <td>False</td>\n",
       "      <td>False</td>\n",
       "      <td>False</td>\n",
       "      <td>False</td>\n",
       "    </tr>\n",
       "    <tr>\n",
       "      <th>957</th>\n",
       "      <td>False</td>\n",
       "      <td>False</td>\n",
       "      <td>True</td>\n",
       "      <td>False</td>\n",
       "      <td>False</td>\n",
       "      <td>False</td>\n",
       "      <td>True</td>\n",
       "      <td>False</td>\n",
       "      <td>False</td>\n",
       "      <td>False</td>\n",
       "    </tr>\n",
       "    <tr>\n",
       "      <th>1026</th>\n",
       "      <td>False</td>\n",
       "      <td>False</td>\n",
       "      <td>True</td>\n",
       "      <td>True</td>\n",
       "      <td>False</td>\n",
       "      <td>False</td>\n",
       "      <td>False</td>\n",
       "      <td>False</td>\n",
       "      <td>False</td>\n",
       "      <td>False</td>\n",
       "    </tr>\n",
       "    <tr>\n",
       "      <th>...</th>\n",
       "      <td>...</td>\n",
       "      <td>...</td>\n",
       "      <td>...</td>\n",
       "      <td>...</td>\n",
       "      <td>...</td>\n",
       "      <td>...</td>\n",
       "      <td>...</td>\n",
       "      <td>...</td>\n",
       "      <td>...</td>\n",
       "      <td>...</td>\n",
       "    </tr>\n",
       "    <tr>\n",
       "      <th>7320</th>\n",
       "      <td>False</td>\n",
       "      <td>True</td>\n",
       "      <td>True</td>\n",
       "      <td>False</td>\n",
       "      <td>False</td>\n",
       "      <td>False</td>\n",
       "      <td>False</td>\n",
       "      <td>False</td>\n",
       "      <td>False</td>\n",
       "      <td>False</td>\n",
       "    </tr>\n",
       "    <tr>\n",
       "      <th>7358</th>\n",
       "      <td>False</td>\n",
       "      <td>False</td>\n",
       "      <td>False</td>\n",
       "      <td>True</td>\n",
       "      <td>False</td>\n",
       "      <td>False</td>\n",
       "      <td>True</td>\n",
       "      <td>False</td>\n",
       "      <td>False</td>\n",
       "      <td>False</td>\n",
       "    </tr>\n",
       "    <tr>\n",
       "      <th>7450</th>\n",
       "      <td>False</td>\n",
       "      <td>False</td>\n",
       "      <td>False</td>\n",
       "      <td>False</td>\n",
       "      <td>False</td>\n",
       "      <td>False</td>\n",
       "      <td>False</td>\n",
       "      <td>True</td>\n",
       "      <td>True</td>\n",
       "      <td>False</td>\n",
       "    </tr>\n",
       "    <tr>\n",
       "      <th>7593</th>\n",
       "      <td>False</td>\n",
       "      <td>False</td>\n",
       "      <td>True</td>\n",
       "      <td>True</td>\n",
       "      <td>False</td>\n",
       "      <td>False</td>\n",
       "      <td>False</td>\n",
       "      <td>False</td>\n",
       "      <td>False</td>\n",
       "      <td>False</td>\n",
       "    </tr>\n",
       "    <tr>\n",
       "      <th>7656</th>\n",
       "      <td>False</td>\n",
       "      <td>False</td>\n",
       "      <td>True</td>\n",
       "      <td>True</td>\n",
       "      <td>False</td>\n",
       "      <td>False</td>\n",
       "      <td>False</td>\n",
       "      <td>False</td>\n",
       "      <td>False</td>\n",
       "      <td>False</td>\n",
       "    </tr>\n",
       "  </tbody>\n",
       "</table>\n",
       "<p>101 rows × 10 columns</p>\n",
       "</div>"
      ],
      "text/plain": [
       "      pattern.Point of Sale  pattern.Web Applications  \\\n",
       "16                    False                     False   \n",
       "375                   False                     False   \n",
       "634                   False                     False   \n",
       "957                   False                     False   \n",
       "1026                  False                     False   \n",
       "...                     ...                       ...   \n",
       "7320                  False                      True   \n",
       "7358                  False                     False   \n",
       "7450                  False                     False   \n",
       "7593                  False                     False   \n",
       "7656                  False                     False   \n",
       "\n",
       "      pattern.Privilege Misuse  pattern.Lost and Stolen Assets  \\\n",
       "16                        True                           False   \n",
       "375                       True                            True   \n",
       "634                       True                            True   \n",
       "957                       True                           False   \n",
       "1026                      True                            True   \n",
       "...                        ...                             ...   \n",
       "7320                      True                           False   \n",
       "7358                     False                            True   \n",
       "7450                     False                           False   \n",
       "7593                      True                            True   \n",
       "7656                      True                            True   \n",
       "\n",
       "      pattern.Miscellaneous Errors  pattern.Crimeware  \\\n",
       "16                           False              False   \n",
       "375                          False              False   \n",
       "634                          False              False   \n",
       "957                          False              False   \n",
       "1026                         False              False   \n",
       "...                            ...                ...   \n",
       "7320                         False              False   \n",
       "7358                         False              False   \n",
       "7450                         False              False   \n",
       "7593                         False              False   \n",
       "7656                         False              False   \n",
       "\n",
       "      pattern.Payment Card Skimmers  pattern.Denial of Service  \\\n",
       "16                            False                      False   \n",
       "375                           False                      False   \n",
       "634                           False                      False   \n",
       "957                            True                      False   \n",
       "1026                          False                      False   \n",
       "...                             ...                        ...   \n",
       "7320                          False                      False   \n",
       "7358                           True                      False   \n",
       "7450                          False                       True   \n",
       "7593                          False                      False   \n",
       "7656                          False                      False   \n",
       "\n",
       "      pattern.Cyber-Espionage  pattern.Everything Else  \n",
       "16                       True                    False  \n",
       "375                     False                    False  \n",
       "634                     False                    False  \n",
       "957                     False                    False  \n",
       "1026                    False                    False  \n",
       "...                       ...                      ...  \n",
       "7320                    False                    False  \n",
       "7358                    False                    False  \n",
       "7450                     True                    False  \n",
       "7593                    False                    False  \n",
       "7656                    False                    False  \n",
       "\n",
       "[101 rows x 10 columns]"
      ]
     },
     "execution_count": 107,
     "metadata": {},
     "output_type": "execute_result"
    }
   ],
   "source": [
    "vcdb.loc[vcdb[[col for col in vcdb if col.startswith('pattern.')]].sum(axis=1)>1, [col for col in vcdb if col.startswith('pattern.')]]"
   ]
  },
  {
   "cell_type": "markdown",
   "metadata": {},
   "source": [
    "# Plus features\n",
    "There potentially some good shit here"
   ]
  },
  {
   "cell_type": "code",
   "execution_count": 108,
   "metadata": {},
   "outputs": [
    {
     "data": {
      "text/plain": [
       "['plus.analysis_status.Finalized',\n",
       " 'plus.analysis_status.First pass',\n",
       " 'plus.analysis_status.In-progress',\n",
       " 'plus.analysis_status.Ineligible',\n",
       " 'plus.analysis_status.Needs review',\n",
       " 'plus.analysis_status.Validated',\n",
       " 'plus.analyst',\n",
       " 'plus.analyst_notes',\n",
       " 'plus.antiforensic_measures.Data Corruption',\n",
       " 'plus.antiforensic_measures.Data Hiding',\n",
       " 'plus.antiforensic_measures.Data Wiping',\n",
       " 'plus.antiforensic_measures.No evidence of AF',\n",
       " 'plus.antiforensic_measures.Other',\n",
       " 'plus.antiforensic_measures.Unknown',\n",
       " 'plus.asset_os.Android',\n",
       " 'plus.asset_os.Apple iOS',\n",
       " 'plus.asset_os.BlackBerry OS',\n",
       " 'plus.asset_os.Linux',\n",
       " 'plus.asset_os.Mac OSX',\n",
       " 'plus.asset_os.Mainframe',\n",
       " 'plus.asset_os.Not applicable',\n",
       " 'plus.asset_os.Other',\n",
       " 'plus.asset_os.Symbian',\n",
       " 'plus.asset_os.Unix',\n",
       " 'plus.asset_os.Unknown',\n",
       " 'plus.asset_os.webOS',\n",
       " 'plus.asset_os.Windows',\n",
       " 'plus.asset_os.Windows Phone',\n",
       " 'plus.asset.total',\n",
       " 'plus.attack_difficulty_initial.High',\n",
       " 'plus.attack_difficulty_initial.Low',\n",
       " 'plus.attack_difficulty_initial.Moderate',\n",
       " 'plus.attack_difficulty_initial.Not Applicable',\n",
       " 'plus.attack_difficulty_initial.Other',\n",
       " 'plus.attack_difficulty_initial.Unknown',\n",
       " 'plus.attack_difficulty_initial.Very Low',\n",
       " 'plus.attack_difficulty_legacy.High',\n",
       " 'plus.attack_difficulty_legacy.Low',\n",
       " 'plus.attack_difficulty_legacy.Moderate',\n",
       " 'plus.attack_difficulty_legacy.Not Applicable',\n",
       " 'plus.attack_difficulty_legacy.Other',\n",
       " 'plus.attack_difficulty_legacy.Unknown',\n",
       " 'plus.attack_difficulty_legacy.Very Low',\n",
       " 'plus.attack_difficulty_subsequent.High',\n",
       " 'plus.attack_difficulty_subsequent.Low',\n",
       " 'plus.attack_difficulty_subsequent.Moderate',\n",
       " 'plus.attack_difficulty_subsequent.Not Applicable',\n",
       " 'plus.attack_difficulty_subsequent.Other',\n",
       " 'plus.attack_difficulty_subsequent.Unknown',\n",
       " 'plus.attack_difficulty_subsequent.Very Low',\n",
       " 'plus.attribute.confidentiality.credit_monitoring',\n",
       " 'plus.attribute.confidentiality.data_abuse',\n",
       " 'plus.attribute.confidentiality.data_misuse',\n",
       " 'plus.attribute.confidentiality.partner_data',\n",
       " 'plus.attribute.confidentiality.partner_number',\n",
       " 'plus.control_inadequacies_legacy',\n",
       " 'plus.event_chain.action.env',\n",
       " 'plus.event_chain.action.err',\n",
       " 'plus.event_chain.action.hak',\n",
       " 'plus.event_chain.action.mal',\n",
       " 'plus.event_chain.action.mis',\n",
       " 'plus.event_chain.action.phy',\n",
       " 'plus.event_chain.action.soc',\n",
       " 'plus.event_chain.action.unk',\n",
       " 'plus.event_chain.actor.ext',\n",
       " 'plus.event_chain.actor.int',\n",
       " 'plus.event_chain.actor.prt',\n",
       " 'plus.event_chain.actor.unk',\n",
       " 'plus.event_chain.asset.emb',\n",
       " 'plus.event_chain.asset.med',\n",
       " 'plus.event_chain.asset.net',\n",
       " 'plus.event_chain.asset.ppl',\n",
       " 'plus.event_chain.asset.srv',\n",
       " 'plus.event_chain.asset.ter',\n",
       " 'plus.event_chain.asset.unk',\n",
       " 'plus.event_chain.asset.usr',\n",
       " 'plus.event_chain.attribute.au',\n",
       " 'plus.event_chain.attribute.cp',\n",
       " 'plus.event_chain.attribute.ia',\n",
       " 'plus.event_chain.attribute.unk',\n",
       " 'plus.event_chain.summary',\n",
       " 'plus.f500',\n",
       " 'plus.github',\n",
       " 'plus.investigator',\n",
       " 'plus.master_id',\n",
       " 'plus.pci.compliance_status.Found Compliant',\n",
       " 'plus.pci.compliance_status.Not Compliant',\n",
       " 'plus.pci.compliance_status.Unknown',\n",
       " 'plus.pci.merchant_level.Level 1',\n",
       " 'plus.pci.merchant_level.Level 2',\n",
       " 'plus.pci.merchant_level.Level 3',\n",
       " 'plus.pci.merchant_level.Level 4',\n",
       " 'plus.pci.merchant_level.Unknown',\n",
       " 'plus.pci.notes',\n",
       " 'plus.pci.req_1.In Place',\n",
       " 'plus.pci.req_1.Not Applicable',\n",
       " 'plus.pci.req_1.Not In Place',\n",
       " 'plus.pci.req_1.Unknown',\n",
       " 'plus.pci.req_10.In Place',\n",
       " 'plus.pci.req_10.Not Applicable',\n",
       " 'plus.pci.req_10.Not In Place',\n",
       " 'plus.pci.req_10.Unknown',\n",
       " 'plus.pci.req_11.In Place',\n",
       " 'plus.pci.req_11.Not Applicable',\n",
       " 'plus.pci.req_11.Not In Place',\n",
       " 'plus.pci.req_11.Unknown',\n",
       " 'plus.pci.req_12.In Place',\n",
       " 'plus.pci.req_12.Not Applicable',\n",
       " 'plus.pci.req_12.Not In Place',\n",
       " 'plus.pci.req_12.Unknown',\n",
       " 'plus.pci.req_2.In Place',\n",
       " 'plus.pci.req_2.Not Applicable',\n",
       " 'plus.pci.req_2.Not In Place',\n",
       " 'plus.pci.req_2.Unknown',\n",
       " 'plus.pci.req_3.In Place',\n",
       " 'plus.pci.req_3.Not Applicable',\n",
       " 'plus.pci.req_3.Not In Place',\n",
       " 'plus.pci.req_3.Unknown',\n",
       " 'plus.pci.req_4.In Place',\n",
       " 'plus.pci.req_4.Not Applicable',\n",
       " 'plus.pci.req_4.Not In Place',\n",
       " 'plus.pci.req_4.Unknown',\n",
       " 'plus.pci.req_5.In Place',\n",
       " 'plus.pci.req_5.Not Applicable',\n",
       " 'plus.pci.req_5.Not In Place',\n",
       " 'plus.pci.req_5.Unknown',\n",
       " 'plus.pci.req_6.In Place',\n",
       " 'plus.pci.req_6.Not Applicable',\n",
       " 'plus.pci.req_6.Not In Place',\n",
       " 'plus.pci.req_6.Unknown',\n",
       " 'plus.pci.req_7.In Place',\n",
       " 'plus.pci.req_7.Not Applicable',\n",
       " 'plus.pci.req_7.Not In Place',\n",
       " 'plus.pci.req_7.Unknown',\n",
       " 'plus.pci.req_8.In Place',\n",
       " 'plus.pci.req_8.Not Applicable',\n",
       " 'plus.pci.req_8.Not In Place',\n",
       " 'plus.pci.req_8.Unknown',\n",
       " 'plus.pci.req_9.In Place',\n",
       " 'plus.pci.req_9.Not Applicable',\n",
       " 'plus.pci.req_9.Not In Place',\n",
       " 'plus.pci.req_9.Unknown',\n",
       " 'plus.pci.status_determined',\n",
       " 'plus.public_disclosure',\n",
       " 'plus.row_number',\n",
       " 'plus.security_maturity.Defined',\n",
       " 'plus.security_maturity.Initial',\n",
       " 'plus.security_maturity.Managed',\n",
       " 'plus.security_maturity.Measured',\n",
       " 'plus.security_maturity.Optimizing',\n",
       " 'plus.security_maturity.Unknown',\n",
       " 'plus.sub_source',\n",
       " 'plus.unfollowed_policies.No',\n",
       " 'plus.unfollowed_policies.Unknown',\n",
       " 'plus.unfollowed_policies.Yes',\n",
       " 'plus.unknown_unknowns.Assets that had unknown network connections or accessibility',\n",
       " 'plus.unknown_unknowns.Assets that had unknown user accounts or privileges',\n",
       " 'plus.unknown_unknowns.Assets unknown or unclaimed by the organization (or business group affected)',\n",
       " 'plus.unknown_unknowns.Data the organization did not know existed on a particular asset',\n",
       " 'plus.unknown_unknowns.Unknown']"
      ]
     },
     "execution_count": 108,
     "metadata": {},
     "output_type": "execute_result"
    }
   ],
   "source": [
    "plus_cols = [col for col in vcdb if 'plus' in col]\n",
    "plus_cols"
   ]
  },
  {
   "cell_type": "code",
   "execution_count": 109,
   "metadata": {},
   "outputs": [
    {
     "data": {
      "text/plain": [
       "{'plus.analysis_status',\n",
       " 'plus.antiforensic_measures',\n",
       " 'plus.asset',\n",
       " 'plus.asset_os',\n",
       " 'plus.attack_difficulty_initial',\n",
       " 'plus.attack_difficulty_legacy',\n",
       " 'plus.attack_difficulty_subsequent',\n",
       " 'plus.attribute.confidentiality',\n",
       " 'plus.event_chain',\n",
       " 'plus.event_chain.action',\n",
       " 'plus.event_chain.actor',\n",
       " 'plus.event_chain.asset',\n",
       " 'plus.event_chain.attribute',\n",
       " 'plus.pci',\n",
       " 'plus.pci.compliance_status',\n",
       " 'plus.pci.merchant_level',\n",
       " 'plus.pci.req_1',\n",
       " 'plus.pci.req_10',\n",
       " 'plus.pci.req_11',\n",
       " 'plus.pci.req_12',\n",
       " 'plus.pci.req_2',\n",
       " 'plus.pci.req_3',\n",
       " 'plus.pci.req_4',\n",
       " 'plus.pci.req_5',\n",
       " 'plus.pci.req_6',\n",
       " 'plus.pci.req_7',\n",
       " 'plus.pci.req_8',\n",
       " 'plus.pci.req_9',\n",
       " 'plus.security_maturity',\n",
       " 'plus.unfollowed_policies',\n",
       " 'plus.unknown_unknowns'}"
      ]
     },
     "execution_count": 109,
     "metadata": {},
     "output_type": "execute_result"
    }
   ],
   "source": [
    "set([col[:col.rindex('.')] for col in plus_cols if col.count('.')>1 and 'notes' not in col])"
   ]
  },
  {
   "cell_type": "code",
   "execution_count": 110,
   "metadata": {},
   "outputs": [
    {
     "data": {
      "text/plain": [
       "False    153\n",
       "True       7\n",
       "dtype: int64"
      ]
     },
     "execution_count": 110,
     "metadata": {},
     "output_type": "execute_result"
    }
   ],
   "source": [
    "vcdb[plus_cols].isnull().all().value_counts()"
   ]
  },
  {
   "cell_type": "code",
   "execution_count": 111,
   "metadata": {},
   "outputs": [
    {
     "data": {
      "text/plain": [
       "True     142\n",
       "False     18\n",
       "dtype: int64"
      ]
     },
     "execution_count": 111,
     "metadata": {},
     "output_type": "execute_result"
    }
   ],
   "source": [
    "vcdb[plus_cols].notnull().all().value_counts()"
   ]
  },
  {
   "cell_type": "markdown",
   "metadata": {},
   "source": [
    "#### Plus Analysis Status"
   ]
  },
  {
   "cell_type": "code",
   "execution_count": 112,
   "metadata": {},
   "outputs": [
    {
     "data": {
      "text/plain": [
       "First pass      4858\n",
       "Finalized       1808\n",
       "Validated        832\n",
       "NaN              281\n",
       "Needs review      50\n",
       "Ineligible         4\n",
       "Name: plus.analysis_status, dtype: int64"
      ]
     },
     "execution_count": 112,
     "metadata": {},
     "output_type": "execute_result"
    }
   ],
   "source": [
    "vcdb = vcdb.pipe(decode_feature, pattern='plus.analysis_status.')\n",
    "vcdb['plus.analysis_status'].value_counts(dropna=False)"
   ]
  },
  {
   "cell_type": "markdown",
   "metadata": {},
   "source": [
    "#### Plus Analysis Status"
   ]
  },
  {
   "cell_type": "code",
   "execution_count": 113,
   "metadata": {},
   "outputs": [
    {
     "data": {
      "text/plain": [
       "NaN    7833\n",
       "Name: plus.antiforensic_measures, dtype: int64"
      ]
     },
     "execution_count": 113,
     "metadata": {},
     "output_type": "execute_result"
    }
   ],
   "source": [
    "vcdb = vcdb.pipe(decode_feature, pattern='plus.antiforensic_measures.')\n",
    "vcdb['plus.antiforensic_measures'].value_counts(dropna=False)"
   ]
  },
  {
   "cell_type": "code",
   "execution_count": 114,
   "metadata": {},
   "outputs": [
    {
     "data": {
      "text/plain": [
       "0    7819\n",
       "1      14\n",
       "dtype: int64"
      ]
     },
     "execution_count": 114,
     "metadata": {},
     "output_type": "execute_result"
    }
   ],
   "source": [
    "vcdb[[col for col in vcdb if col.startswith('plus.asset_os.')]].sum(axis=1).value_counts()"
   ]
  },
  {
   "cell_type": "markdown",
   "metadata": {},
   "source": [
    "#### Plus Attack Difficulty"
   ]
  },
  {
   "cell_type": "code",
   "execution_count": 115,
   "metadata": {},
   "outputs": [
    {
     "data": {
      "text/plain": [
       "NaN               7672\n",
       "Low                106\n",
       "Very Low            22\n",
       "Not Applicable      18\n",
       "Unknown             11\n",
       "Moderate             4\n",
       "Name: plus.attack_difficulty_initial, dtype: int64"
      ]
     },
     "execution_count": 115,
     "metadata": {},
     "output_type": "execute_result"
    }
   ],
   "source": [
    "vcdb = vcdb.pipe(decode_feature, pattern='plus.attack_difficulty_initial.')\n",
    "vcdb['plus.attack_difficulty_initial'].value_counts(dropna=False)"
   ]
  },
  {
   "cell_type": "code",
   "execution_count": 116,
   "metadata": {},
   "outputs": [
    {
     "data": {
      "text/plain": [
       "NaN               7780\n",
       "Low                 34\n",
       "Not Applicable       7\n",
       "Very Low             5\n",
       "Moderate             3\n",
       "Unknown              3\n",
       "High                 1\n",
       "Name: plus.attack_difficulty_legacy, dtype: int64"
      ]
     },
     "execution_count": 116,
     "metadata": {},
     "output_type": "execute_result"
    }
   ],
   "source": [
    "vcdb = vcdb.pipe(decode_feature, pattern='plus.attack_difficulty_legacy.')\n",
    "vcdb['plus.attack_difficulty_legacy'].value_counts(dropna=False)"
   ]
  },
  {
   "cell_type": "code",
   "execution_count": 117,
   "metadata": {},
   "outputs": [
    {
     "data": {
      "text/plain": [
       "NaN               7726\n",
       "Low                 69\n",
       "Not Applicable      19\n",
       "Unknown              9\n",
       "Very Low             8\n",
       "Moderate             2\n",
       "Name: plus.attack_difficulty_subsequent, dtype: int64"
      ]
     },
     "execution_count": 117,
     "metadata": {},
     "output_type": "execute_result"
    }
   ],
   "source": [
    "vcdb = vcdb.pipe(decode_feature, pattern='plus.attack_difficulty_subsequent.')\n",
    "vcdb['plus.attack_difficulty_subsequent'].value_counts(dropna=False)"
   ]
  },
  {
   "cell_type": "markdown",
   "metadata": {},
   "source": [
    "#### Plus Attribute"
   ]
  },
  {
   "cell_type": "code",
   "execution_count": 118,
   "metadata": {},
   "outputs": [
    {
     "data": {
      "text/plain": [
       "['plus.attribute.confidentiality.credit_monitoring',\n",
       " 'plus.attribute.confidentiality.data_abuse',\n",
       " 'plus.attribute.confidentiality.data_misuse',\n",
       " 'plus.attribute.confidentiality.partner_data',\n",
       " 'plus.attribute.confidentiality.partner_number']"
      ]
     },
     "execution_count": 118,
     "metadata": {},
     "output_type": "execute_result"
    }
   ],
   "source": [
    "[col for col in vcdb if col.startswith('plus.attribute.confidentiality.')]"
   ]
  },
  {
   "cell_type": "markdown",
   "metadata": {},
   "source": [
    "#### Plus Event Chain"
   ]
  },
  {
   "cell_type": "code",
   "execution_count": 119,
   "metadata": {},
   "outputs": [
    {
     "data": {
      "text/plain": [
       "NaN    7833\n",
       "Name: plus.event_chain.action, dtype: int64"
      ]
     },
     "execution_count": 119,
     "metadata": {},
     "output_type": "execute_result"
    }
   ],
   "source": [
    "vcdb = vcdb.pipe(decode_feature, pattern='plus.event_chain.action.')\n",
    "vcdb['plus.event_chain.action'].value_counts(dropna=False)"
   ]
  },
  {
   "cell_type": "code",
   "execution_count": 120,
   "metadata": {},
   "outputs": [
    {
     "data": {
      "text/plain": [
       "NaN    7833\n",
       "Name: plus.event_chain.asset, dtype: int64"
      ]
     },
     "execution_count": 120,
     "metadata": {},
     "output_type": "execute_result"
    }
   ],
   "source": [
    "vcdb = vcdb.pipe(decode_feature, pattern='plus.event_chain.asset.')\n",
    "vcdb['plus.event_chain.asset'].value_counts(dropna=False)"
   ]
  },
  {
   "cell_type": "code",
   "execution_count": 121,
   "metadata": {},
   "outputs": [
    {
     "data": {
      "text/plain": [
       "NaN    7833\n",
       "Name: plus.event_chain.attribute, dtype: int64"
      ]
     },
     "execution_count": 121,
     "metadata": {},
     "output_type": "execute_result"
    }
   ],
   "source": [
    "vcdb = vcdb.pipe(decode_feature, pattern='plus.event_chain.attribute.')\n",
    "vcdb['plus.event_chain.attribute'].value_counts(dropna=False)"
   ]
  },
  {
   "cell_type": "code",
   "execution_count": 122,
   "metadata": {},
   "outputs": [
    {
     "data": {
      "text/plain": [
       "0    7819\n",
       "1      14\n",
       "dtype: int64"
      ]
     },
     "execution_count": 122,
     "metadata": {},
     "output_type": "execute_result"
    }
   ],
   "source": [
    "vcdb[[col for col in vcdb if col.startswith('plus.asset_os.')]].sum(axis=1).value_counts()"
   ]
  },
  {
   "cell_type": "markdown",
   "metadata": {},
   "source": [
    "#### Plus PCI reqs"
   ]
  },
  {
   "cell_type": "code",
   "execution_count": 123,
   "metadata": {},
   "outputs": [],
   "source": [
    "pci_reqs = set([col[:col.rindex('.')] for col in vcdb if col.startswith('plus.pci.req_')])"
   ]
  },
  {
   "cell_type": "code",
   "execution_count": 124,
   "metadata": {},
   "outputs": [
    {
     "name": "stderr",
     "output_type": "stream",
     "text": [
      "100%|██████████████████████████████████████████████████████████████████████████████████| 12/12 [00:08<00:00,  1.35it/s]\n"
     ]
    }
   ],
   "source": [
    "for req in tqdm.tqdm(pci_reqs):\n",
    "    vcdb = vcdb.pipe(decode_feature, pattern=req+'.')"
   ]
  },
  {
   "cell_type": "code",
   "execution_count": 125,
   "metadata": {},
   "outputs": [
    {
     "data": {
      "text/plain": [
       "True"
      ]
     },
     "execution_count": 125,
     "metadata": {},
     "output_type": "execute_result"
    }
   ],
   "source": [
    "vcdb[pci_reqs].isnull().all().all()"
   ]
  },
  {
   "cell_type": "markdown",
   "metadata": {},
   "source": [
    "#### Plus PCI Security Maturity"
   ]
  },
  {
   "cell_type": "code",
   "execution_count": 126,
   "metadata": {},
   "outputs": [
    {
     "data": {
      "text/plain": [
       "NaN    7833\n",
       "Name: plus.security_maturity, dtype: int64"
      ]
     },
     "execution_count": 126,
     "metadata": {},
     "output_type": "execute_result"
    }
   ],
   "source": [
    "vcdb = vcdb.pipe(decode_feature, pattern='plus.security_maturity.')\n",
    "vcdb['plus.security_maturity'].value_counts(dropna=False)"
   ]
  },
  {
   "cell_type": "markdown",
   "metadata": {},
   "source": [
    "#### Plus PCI Unfollowed Policies"
   ]
  },
  {
   "cell_type": "code",
   "execution_count": 127,
   "metadata": {},
   "outputs": [
    {
     "data": {
      "text/plain": [
       "NaN    7833\n",
       "Name: plus.unfollowed_policies, dtype: int64"
      ]
     },
     "execution_count": 127,
     "metadata": {},
     "output_type": "execute_result"
    }
   ],
   "source": [
    "vcdb = vcdb.pipe(decode_feature, pattern='plus.unfollowed_policies.')\n",
    "vcdb['plus.unfollowed_policies'].value_counts(dropna=False)"
   ]
  },
  {
   "cell_type": "markdown",
   "metadata": {},
   "source": [
    "#### Plus PCI Unknown unknowns"
   ]
  },
  {
   "cell_type": "code",
   "execution_count": 128,
   "metadata": {},
   "outputs": [
    {
     "data": {
      "text/plain": [
       "NaN                                                                 7827\n",
       "Assets that had unknown network connections or accessibility           3\n",
       "Data the organization did not know existed on a particular asset       2\n",
       "Unknown                                                                1\n",
       "Name: plus.unknown_unknowns, dtype: int64"
      ]
     },
     "execution_count": 128,
     "metadata": {},
     "output_type": "execute_result"
    }
   ],
   "source": [
    "vcdb = vcdb.pipe(decode_feature, pattern='plus.unknown_unknowns.')\n",
    "vcdb['plus.unknown_unknowns'].value_counts(dropna=False)"
   ]
  },
  {
   "cell_type": "markdown",
   "metadata": {},
   "source": [
    "## Write decoded dataset to file"
   ]
  },
  {
   "cell_type": "code",
   "execution_count": 129,
   "metadata": {},
   "outputs": [
    {
     "name": "stderr",
     "output_type": "stream",
     "text": [
      "C:\\Users\\josep\\anaconda3\\lib\\site-packages\\xlsxwriter\\worksheet.py:937: UserWarning: Ignoring URL 'http://www.katc.com/news/data-breach-may-have-exposed-jp-morgan-chase-cardholders/;http://www.bayoubuzz.com/louisiana-news/baton-rouge-news/item/561503-hackers-may-have-exposed-personal-info-of-la-residents;http://www.huffingtonpost.com/2013/12/05/jpmorgan-cyber-attack_n_4388779.html;http://arstechnica.com/security/2013/12/hack-on-jpmorgan-website-exposes-data-for-465000-card-holders/;http://www.databreaches.net/louisiana-agencies-notified-of-breach-across-certain-jpmorgan-chase-systems-breach-not-confined-to-louisiana/;http://www.databreaches.net/jpmorgan-chase-breach-update-pile-on/;http://www.nbcphiladelphia.com/news/business/Data-Breach-to-Affect-Pa-Cardholders-234676751.html;http://www.sltrib.com/sltrib/news/57229169-78/breach-jpmorgan-customers-data.html.csp;http://www.hispanicbusiness.com/2013/12/6/data_breach_exposes_account_information_for.htm;http://www.bostonglobe.com/metro/2013/12/10/data-breach-could-expose-benefit-recipients-info/jf98QJfRsjwlHypHty3XyM/story.html;http://ivebeenmugged.typepad.com/my_weblog/2013/12/jpmorgan-chase-prepaid.html;http://www.bizjournals.com/boston/news/2013/12/11/jpmorgan-chase-data-breach-affects.html;http://www.kansascity.com/2013/12/12/4688533/jpmorgan-chase-job-aid-recipients.html%20%20%20JPMorgan%20Chase%20&%20Co%20NAICS:%20522110%20Employees%20265,359%20%20%20Sites:%20Louisiana%20and%20Connecticut,%20PA,%20Rhode%20Island,%20Massachusetts,%20Michigan%20%20Breach%202013-07-17%20Incident/discovery%202013-09-17%20Notification%202013-12-04%20%20Data%20%20465000%20records%20Such%20information%20that%20could%20have%20been%20exposed%20includes:%20name,%20social%20security%20number,%20bank%20account%20number,%20card%20number,%20date%20of%20birth,%20security%20answer,%20password,%20%20%20all%20affected%20cardholders%20that%20it%20will%20provide%20them%20two%20years%20of%20credit%20monitoring%20free%20of%20charge.%20(Connecticut)%201year%20monitoring%20for%20Luisiana%20%20%20Fusco%20said%20the%20bank%20had%20not%20found%20that%20any%20funds%20were%20stolen%20as%20a%20result%20of%20the%20breach%20and%20that%20it%20had%20no%20evidence%20that%20other%20crimes%20have%20been%20committed.%20As%20a%20result,%20it%20was%20not%20issuing%20replacement%20cards.%20%20Vector%20%20web%20servers%20used%20by%20its%20site%20www.ucard.chase.com%20had%20been%20breached%20in%20the%20middle%20of%20September' with link or location/anchor > 2079 characters since it exceeds Excel's limit for URLS\n",
      "  (force_unicode(url), max_url))\n",
      "C:\\Users\\josep\\anaconda3\\lib\\site-packages\\xlsxwriter\\worksheet.py:937: UserWarning: Ignoring URL 'http://www.yumasun.com/data-breach-affects-yuma-ambulance-patients/article_0c4652ed-cb2e-5d49-bdb0-5d48621ef905.html;%20http://www.phiprivacy.net/how-many-were-affected-by-adpi-intermedix-breach-help-track-this-breach/;%203852%20http://www.sfgate.com/default/article/931-in-Berkeley-may-be-ID-theft-victims-4079241.php;%20http://www.wsmv.com/story/20222801/notification-ambulance-data-theft;%20http://doj.nh.gov/consumer/security-breaches/documents/advanced-data-processing-20121128.pdf;%20http://www.victoriaadvocate.com/news/2012/nov/30/am_ambulance_120112_195411/?business&police-courts;%20http://kxoradio.com/news/local/4602-personal-information-stolen-in-el-centro.html;%20http://www.heraldonline.com/2012/11/29/4449865/notification-ambulance-data-theft.html;%20http://www.victoriaadvocate.com/news/2012/nov/30/am_ambulance_120112_195411/?business&police-courts;%20http://www.heraldonline.com/2012/11/29/4449860/notification-ambulance-data-theft.html;%20http://kxoradio.com/news/local/4602-personal-information-stolen-in-el-centro.html;%20http://www.heraldonline.com/2012/11/29/4449863/notification-ambulance-data-theft.html;%20http://www.miamiherald.com/2012/11/29/3119669/notification-ambulance-data-theft.html;%20http://www.itbriefing.net/modules.php?op=modload&name=News&file=article&sid=355090;%20http://www.latimes.com/news/local/la-me-1129-ambulance-fraud-20121129,0,2045397.story;%20http://www.heraldonline.com/2012/11/29/4449870/notification-ambulance-data-theft.html;%20http://www.heraldonline.com/2012/11/29/4449871/notification-ambulance-data-theft.html;%20http://www.heraldonline.com/2012/11/29/4449867/notification-ambulance-data-theft.html;%20http://www.heraldonline.com/2012/11/29/4449862/notification-ambulance-data-theft.html;%20http://www.victoriaadvocate.com/news/2012/nov/30/am_ambulance_120112_195411/?business&police-courts;%20http://posttrib.suntimes.com/news/porter/22190511-418/valpo-ambulance-users-could-have-had-personal-information-stolen.html;%20http://www.miamiherald.com/2012/11/29/3119681/notification-ambulance-data-theft.html;%20http://www.bizjournals.com/phoenix/prnewswire/press_releases/Arizona/2012/11/29/SF21478;%20http://www.heraldonline.com/2012/11/29/4449866/notification-ambulance-data-theft.html;%20http://kxoradio.com/news/local/4602-personal-information-stolen-in-el-centro.html;%20http://www.prnewswire.com/news-releases/notification--ambulance-data-theft-181469631.html;%20http://www.prnewswire.com/news-releases/notification--ambulance-data-theft-181469631.html;%20http://www.gloucestertimes.com/local/x2120611387/Transport-patients-info-leaked;%20http://www.bizjournals.com/atlanta/blog/a-healthy-conversation/2012/11/grady-discloses-patient-data-loss-900.html;%20http://www.bizjournals.com/atlanta/blog/a-healthy-conversation/2012/11/grady-discloses-patient-data-loss-900.html;%20http://www.latimes.com/news/local/la-me-1129-ambulance-fraud-20121129,0,2045397.story;%20http://www.heraldonline.com/2012/11/29/4449860/notification-ambulance-data-theft.html;%20http://www.heraldonline.com/2012/11/29/4449860/notification-ambulance-data-theft.html;%20http://www.wsmv.com/story/20222801/notification-ambulance-data-theft;%20http://www.katv.com/story/20222809/notification-ambulance-data-theft;%20http://www.victoriaadvocate.com/news/2012/nov/30/am_ambulance_120112_195411/?business&police-courts;%20http://www.heraldonline.com/2012/11/29/4449860/notification-ambulance-data-theft.html;%20http://www.victoriaadvocate.com/news/2012/nov/30/am_ambulance_120112_195411/?business&police-courts' with link or location/anchor > 2079 characters since it exceeds Excel's limit for URLS\n",
      "  (force_unicode(url), max_url))\n"
     ]
    }
   ],
   "source": [
    "vcdb.to_excel('data/vcdb_decoded.xlsx', index=False)"
   ]
  },
  {
   "cell_type": "code",
   "execution_count": 130,
   "metadata": {},
   "outputs": [
    {
     "data": {
      "text/plain": [
       "bool       476\n",
       "float64    129\n",
       "object      86\n",
       "int64        1\n",
       "dtype: int64"
      ]
     },
     "execution_count": 130,
     "metadata": {},
     "output_type": "execute_result"
    }
   ],
   "source": [
    "vcdb.dtypes.value_counts()"
   ]
  },
  {
   "cell_type": "code",
   "execution_count": 132,
   "metadata": {},
   "outputs": [
    {
     "ename": "FileCreateError",
     "evalue": "[Errno 13] Permission denied: 'data/vcdb_nobools.xlsx'",
     "output_type": "error",
     "traceback": [
      "\u001b[1;31m---------------------------------------------------------------------------\u001b[0m",
      "\u001b[1;31mPermissionError\u001b[0m                           Traceback (most recent call last)",
      "\u001b[1;32m~\\anaconda3\\lib\\site-packages\\xlsxwriter\\workbook.py\u001b[0m in \u001b[0;36mclose\u001b[1;34m(self)\u001b[0m\n\u001b[0;32m    315\u001b[0m             \u001b[1;32mtry\u001b[0m\u001b[1;33m:\u001b[0m\u001b[1;33m\u001b[0m\u001b[1;33m\u001b[0m\u001b[0m\n\u001b[1;32m--> 316\u001b[1;33m                 \u001b[0mself\u001b[0m\u001b[1;33m.\u001b[0m\u001b[0m_store_workbook\u001b[0m\u001b[1;33m(\u001b[0m\u001b[1;33m)\u001b[0m\u001b[1;33m\u001b[0m\u001b[1;33m\u001b[0m\u001b[0m\n\u001b[0m\u001b[0;32m    317\u001b[0m             \u001b[1;32mexcept\u001b[0m \u001b[0mIOError\u001b[0m \u001b[1;32mas\u001b[0m \u001b[0me\u001b[0m\u001b[1;33m:\u001b[0m\u001b[1;33m\u001b[0m\u001b[1;33m\u001b[0m\u001b[0m\n",
      "\u001b[1;32m~\\anaconda3\\lib\\site-packages\\xlsxwriter\\workbook.py\u001b[0m in \u001b[0;36m_store_workbook\u001b[1;34m(self)\u001b[0m\n\u001b[0;32m    631\u001b[0m         \u001b[1;32mexcept\u001b[0m \u001b[0mIOError\u001b[0m \u001b[1;32mas\u001b[0m \u001b[0me\u001b[0m\u001b[1;33m:\u001b[0m\u001b[1;33m\u001b[0m\u001b[1;33m\u001b[0m\u001b[0m\n\u001b[1;32m--> 632\u001b[1;33m             \u001b[1;32mraise\u001b[0m \u001b[0me\u001b[0m\u001b[1;33m\u001b[0m\u001b[1;33m\u001b[0m\u001b[0m\n\u001b[0m\u001b[0;32m    633\u001b[0m \u001b[1;33m\u001b[0m\u001b[0m\n",
      "\u001b[1;32m~\\anaconda3\\lib\\site-packages\\xlsxwriter\\workbook.py\u001b[0m in \u001b[0;36m_store_workbook\u001b[1;34m(self)\u001b[0m\n\u001b[0;32m    629\u001b[0m             xlsx_file = ZipFile(self.filename, \"w\", compression=ZIP_DEFLATED,\n\u001b[1;32m--> 630\u001b[1;33m                                 allowZip64=self.allow_zip64)\n\u001b[0m\u001b[0;32m    631\u001b[0m         \u001b[1;32mexcept\u001b[0m \u001b[0mIOError\u001b[0m \u001b[1;32mas\u001b[0m \u001b[0me\u001b[0m\u001b[1;33m:\u001b[0m\u001b[1;33m\u001b[0m\u001b[1;33m\u001b[0m\u001b[0m\n",
      "\u001b[1;32m~\\anaconda3\\lib\\zipfile.py\u001b[0m in \u001b[0;36m__init__\u001b[1;34m(self, file, mode, compression, allowZip64, compresslevel)\u001b[0m\n\u001b[0;32m   1239\u001b[0m                 \u001b[1;32mtry\u001b[0m\u001b[1;33m:\u001b[0m\u001b[1;33m\u001b[0m\u001b[1;33m\u001b[0m\u001b[0m\n\u001b[1;32m-> 1240\u001b[1;33m                     \u001b[0mself\u001b[0m\u001b[1;33m.\u001b[0m\u001b[0mfp\u001b[0m \u001b[1;33m=\u001b[0m \u001b[0mio\u001b[0m\u001b[1;33m.\u001b[0m\u001b[0mopen\u001b[0m\u001b[1;33m(\u001b[0m\u001b[0mfile\u001b[0m\u001b[1;33m,\u001b[0m \u001b[0mfilemode\u001b[0m\u001b[1;33m)\u001b[0m\u001b[1;33m\u001b[0m\u001b[1;33m\u001b[0m\u001b[0m\n\u001b[0m\u001b[0;32m   1241\u001b[0m                 \u001b[1;32mexcept\u001b[0m \u001b[0mOSError\u001b[0m\u001b[1;33m:\u001b[0m\u001b[1;33m\u001b[0m\u001b[1;33m\u001b[0m\u001b[0m\n",
      "\u001b[1;31mPermissionError\u001b[0m: [Errno 13] Permission denied: 'data/vcdb_nobools.xlsx'",
      "\nDuring handling of the above exception, another exception occurred:\n",
      "\u001b[1;31mFileCreateError\u001b[0m                           Traceback (most recent call last)",
      "\u001b[1;32m<ipython-input-132-5a6369046c49>\u001b[0m in \u001b[0;36m<module>\u001b[1;34m\u001b[0m\n\u001b[1;32m----> 1\u001b[1;33m \u001b[0mvcdb\u001b[0m\u001b[1;33m.\u001b[0m\u001b[0mselect_dtypes\u001b[0m\u001b[1;33m(\u001b[0m\u001b[1;33m[\u001b[0m\u001b[1;34m'float64'\u001b[0m\u001b[1;33m,\u001b[0m \u001b[1;34m'object'\u001b[0m\u001b[1;33m,\u001b[0m \u001b[1;34m'int64'\u001b[0m\u001b[1;33m]\u001b[0m\u001b[1;33m)\u001b[0m\u001b[1;33m.\u001b[0m\u001b[0mto_excel\u001b[0m\u001b[1;33m(\u001b[0m\u001b[1;34m'data/vcdb_nobools.xlsx'\u001b[0m\u001b[1;33m,\u001b[0m \u001b[0mindex\u001b[0m\u001b[1;33m=\u001b[0m\u001b[1;32mFalse\u001b[0m\u001b[1;33m)\u001b[0m\u001b[1;33m\u001b[0m\u001b[1;33m\u001b[0m\u001b[0m\n\u001b[0m",
      "\u001b[1;32m~\\anaconda3\\lib\\site-packages\\pandas\\core\\generic.py\u001b[0m in \u001b[0;36mto_excel\u001b[1;34m(self, excel_writer, sheet_name, na_rep, float_format, columns, header, index, index_label, startrow, startcol, engine, merge_cells, encoding, inf_rep, verbose, freeze_panes)\u001b[0m\n\u001b[0;32m   2179\u001b[0m             \u001b[0mstartcol\u001b[0m\u001b[1;33m=\u001b[0m\u001b[0mstartcol\u001b[0m\u001b[1;33m,\u001b[0m\u001b[1;33m\u001b[0m\u001b[1;33m\u001b[0m\u001b[0m\n\u001b[0;32m   2180\u001b[0m             \u001b[0mfreeze_panes\u001b[0m\u001b[1;33m=\u001b[0m\u001b[0mfreeze_panes\u001b[0m\u001b[1;33m,\u001b[0m\u001b[1;33m\u001b[0m\u001b[1;33m\u001b[0m\u001b[0m\n\u001b[1;32m-> 2181\u001b[1;33m             \u001b[0mengine\u001b[0m\u001b[1;33m=\u001b[0m\u001b[0mengine\u001b[0m\u001b[1;33m,\u001b[0m\u001b[1;33m\u001b[0m\u001b[1;33m\u001b[0m\u001b[0m\n\u001b[0m\u001b[0;32m   2182\u001b[0m         )\n\u001b[0;32m   2183\u001b[0m \u001b[1;33m\u001b[0m\u001b[0m\n",
      "\u001b[1;32m~\\anaconda3\\lib\\site-packages\\pandas\\io\\formats\\excel.py\u001b[0m in \u001b[0;36mwrite\u001b[1;34m(self, writer, sheet_name, startrow, startcol, freeze_panes, engine)\u001b[0m\n\u001b[0;32m    736\u001b[0m         )\n\u001b[0;32m    737\u001b[0m         \u001b[1;32mif\u001b[0m \u001b[0mneed_save\u001b[0m\u001b[1;33m:\u001b[0m\u001b[1;33m\u001b[0m\u001b[1;33m\u001b[0m\u001b[0m\n\u001b[1;32m--> 738\u001b[1;33m             \u001b[0mwriter\u001b[0m\u001b[1;33m.\u001b[0m\u001b[0msave\u001b[0m\u001b[1;33m(\u001b[0m\u001b[1;33m)\u001b[0m\u001b[1;33m\u001b[0m\u001b[1;33m\u001b[0m\u001b[0m\n\u001b[0m",
      "\u001b[1;32m~\\anaconda3\\lib\\site-packages\\pandas\\io\\excel\\_xlsxwriter.py\u001b[0m in \u001b[0;36msave\u001b[1;34m(self)\u001b[0m\n\u001b[0;32m    193\u001b[0m         \"\"\"\n\u001b[0;32m    194\u001b[0m \u001b[1;33m\u001b[0m\u001b[0m\n\u001b[1;32m--> 195\u001b[1;33m         \u001b[1;32mreturn\u001b[0m \u001b[0mself\u001b[0m\u001b[1;33m.\u001b[0m\u001b[0mbook\u001b[0m\u001b[1;33m.\u001b[0m\u001b[0mclose\u001b[0m\u001b[1;33m(\u001b[0m\u001b[1;33m)\u001b[0m\u001b[1;33m\u001b[0m\u001b[1;33m\u001b[0m\u001b[0m\n\u001b[0m\u001b[0;32m    196\u001b[0m \u001b[1;33m\u001b[0m\u001b[0m\n\u001b[0;32m    197\u001b[0m     def write_cells(\n",
      "\u001b[1;32m~\\anaconda3\\lib\\site-packages\\xlsxwriter\\workbook.py\u001b[0m in \u001b[0;36mclose\u001b[1;34m(self)\u001b[0m\n\u001b[0;32m    316\u001b[0m                 \u001b[0mself\u001b[0m\u001b[1;33m.\u001b[0m\u001b[0m_store_workbook\u001b[0m\u001b[1;33m(\u001b[0m\u001b[1;33m)\u001b[0m\u001b[1;33m\u001b[0m\u001b[1;33m\u001b[0m\u001b[0m\n\u001b[0;32m    317\u001b[0m             \u001b[1;32mexcept\u001b[0m \u001b[0mIOError\u001b[0m \u001b[1;32mas\u001b[0m \u001b[0me\u001b[0m\u001b[1;33m:\u001b[0m\u001b[1;33m\u001b[0m\u001b[1;33m\u001b[0m\u001b[0m\n\u001b[1;32m--> 318\u001b[1;33m                 \u001b[1;32mraise\u001b[0m \u001b[0mFileCreateError\u001b[0m\u001b[1;33m(\u001b[0m\u001b[0me\u001b[0m\u001b[1;33m)\u001b[0m\u001b[1;33m\u001b[0m\u001b[1;33m\u001b[0m\u001b[0m\n\u001b[0m\u001b[0;32m    319\u001b[0m             \u001b[1;32mexcept\u001b[0m \u001b[0mLargeZipFile\u001b[0m \u001b[1;32mas\u001b[0m \u001b[0me\u001b[0m\u001b[1;33m:\u001b[0m\u001b[1;33m\u001b[0m\u001b[1;33m\u001b[0m\u001b[0m\n\u001b[0;32m    320\u001b[0m                 raise FileSizeError(\"Filesize would require ZIP64 extensions. \"\n",
      "\u001b[1;31mFileCreateError\u001b[0m: [Errno 13] Permission denied: 'data/vcdb_nobools.xlsx'"
     ]
    }
   ],
   "source": [
    "vcdb.select_dtypes(['float64', 'object', 'int64']).to_excel('data/vcdb_nobools.xlsx', index=False)"
   ]
  },
  {
   "cell_type": "code",
   "execution_count": null,
   "metadata": {},
   "outputs": [],
   "source": [
    "vcdb.select_dtypes('O').nunique().sort_values(ascending=False).to_clipboard()"
   ]
  },
  {
   "cell_type": "code",
   "execution_count": null,
   "metadata": {},
   "outputs": [],
   "source": [
    "vcdb.apply(lambda col: col.astype(str).str.contains('http')).sum().sort_values()"
   ]
  },
  {
   "cell_type": "code",
   "execution_count": null,
   "metadata": {},
   "outputs": [],
   "source": [
    "vcdb['reference']"
   ]
  }
 ],
 "metadata": {
  "kernelspec": {
   "display_name": "Python 3",
   "language": "python",
   "name": "python3"
  },
  "language_info": {
   "codemirror_mode": {
    "name": "ipython",
    "version": 3
   },
   "file_extension": ".py",
   "mimetype": "text/x-python",
   "name": "python",
   "nbconvert_exporter": "python",
   "pygments_lexer": "ipython3",
   "version": "3.7.6"
  }
 },
 "nbformat": 4,
 "nbformat_minor": 4
}
