{
 "cells": [
  {
   "cell_type": "code",
   "execution_count": 3,
   "metadata": {},
   "outputs": [
    {
     "name": "stdout",
     "output_type": "stream",
     "text": [
      "A = \n",
      "[[3 0 0]\n",
      " [1 2 0]\n",
      " [0 1 2]]\n",
      "\n",
      " b = [30 20 13]\n",
      "\n",
      "x = [10.  5.  4.]\n",
      "\n",
      "Answer: 30.0\n"
     ]
    }
   ],
   "source": [
    "import numpy as np\n",
    "\n",
    "A = np.array([\n",
    "    [3, 0, 0],\n",
    "    [1, 2, 0],\n",
    "    [0, 1, 2]\n",
    "])\n",
    "b = np.array([\n",
    "    30,\n",
    "    20,\n",
    "    13\n",
    "])\n",
    "print('A = \\n%s\\n\\n'%A, 'b = %s'%b)\n",
    "\n",
    "A_inv = np.linalg.inv(A) \n",
    "\n",
    "x = np.matmul(A_inv, b)\n",
    "print('\\nx = %s'%x)\n",
    "\n",
    "shoe = x[0]\n",
    "boy = x[1]\n",
    "paper = x[2]\n",
    "\n",
    "answer = shoe + boy * paper\n",
    "\n",
    "print('\\nAnswer:', answer)"
   ]
  },
  {
   "cell_type": "code",
   "execution_count": 9,
   "metadata": {},
   "outputs": [],
   "source": []
  },
  {
   "cell_type": "code",
   "execution_count": 12,
   "metadata": {},
   "outputs": [],
   "source": []
  },
  {
   "cell_type": "code",
   "execution_count": null,
   "metadata": {},
   "outputs": [],
   "source": []
  }
 ],
 "metadata": {
  "kernelspec": {
   "display_name": "Python 3",
   "language": "python",
   "name": "python3"
  },
  "language_info": {
   "codemirror_mode": {
    "name": "ipython",
    "version": 3
   },
   "file_extension": ".py",
   "mimetype": "text/x-python",
   "name": "python",
   "nbconvert_exporter": "python",
   "pygments_lexer": "ipython3",
   "version": "3.7.6"
  }
 },
 "nbformat": 4,
 "nbformat_minor": 4
}
