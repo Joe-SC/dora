{
 "cells": [
  {
   "cell_type": "markdown",
   "metadata": {},
   "source": [
    "# Model Development"
   ]
  },
  {
   "cell_type": "code",
   "execution_count": 138,
   "metadata": {},
   "outputs": [],
   "source": [
    "import pandas as pd\n",
    "import numpy as np\n",
    "import json\n",
    "import seaborn as sns\n",
    "import tqdm\n",
    "import re\n",
    "import pandas_profiling\n",
    "from matplotlib import pyplot as plt\n",
    "import seaborn as sns\n",
    "%matplotlib inline\n",
    "plt.style.use('dark_background')\n",
    "\n",
    "from ml_utils.preprocessing import target_melt\n",
    "from ml_utils.tools import format_timedelta\n",
    "import datetime"
   ]
  },
  {
   "cell_type": "code",
   "execution_count": 2,
   "metadata": {},
   "outputs": [],
   "source": [
    "vcdb = pd.read_excel('data/vcdb_decoded.xlsx')"
   ]
  },
  {
   "cell_type": "code",
   "execution_count": 3,
   "metadata": {},
   "outputs": [
    {
     "data": {
      "text/plain": [
       "'1.0.1'"
      ]
     },
     "execution_count": 3,
     "metadata": {},
     "output_type": "execute_result"
    }
   ],
   "source": [
    "pd.__version__"
   ]
  },
  {
   "cell_type": "code",
   "execution_count": 4,
   "metadata": {},
   "outputs": [],
   "source": [
    "with open('data/vcdb-enum.json') as f:\n",
    "    enums = json.load(f)\n",
    "    \n",
    "with open('data/vcdb-merged.json') as f:\n",
    "    schema = json.load(f)"
   ]
  },
  {
   "cell_type": "code",
   "execution_count": 5,
   "metadata": {},
   "outputs": [],
   "source": [
    "keynames = []\n",
    "with open('data/vcdb-keynames-real.txt') as f:\n",
    "    for line in f:\n",
    "        keynames.append(line.replace('\\n', ''))\n",
    "        "
   ]
  },
  {
   "cell_type": "markdown",
   "metadata": {},
   "source": [
    "# Creating a configuration file / data dictionary"
   ]
  },
  {
   "cell_type": "code",
   "execution_count": 6,
   "metadata": {},
   "outputs": [],
   "source": [
    "config = {\n",
    "    'base_data': {},\n",
    "    'targets': {}\n",
    "}"
   ]
  },
  {
   "cell_type": "markdown",
   "metadata": {},
   "source": [
    "# One-hot encoded features"
   ]
  },
  {
   "cell_type": "code",
   "execution_count": 7,
   "metadata": {},
   "outputs": [
    {
     "name": "stdout",
     "output_type": "stream",
     "text": [
      "476 hot encoded features\n"
     ]
    }
   ],
   "source": [
    "ohe_cols = [col for col in vcdb if vcdb[col].isin([True, False]).all()]\n",
    "print('%s hot encoded features'%len(ohe_cols))\n",
    "      \n",
    "assert vcdb[ohe_cols].notnull().all().all()\n",
    "assert len(ohe_cols) == len(vcdb.select_dtypes('bool').columns)"
   ]
  },
  {
   "cell_type": "code",
   "execution_count": 8,
   "metadata": {},
   "outputs": [],
   "source": [
    "config['base_data']['one-hot encoded'] = ohe_cols"
   ]
  },
  {
   "cell_type": "markdown",
   "metadata": {},
   "source": [
    "# Null Columns"
   ]
  },
  {
   "cell_type": "code",
   "execution_count": 9,
   "metadata": {},
   "outputs": [
    {
     "name": "stdout",
     "output_type": "stream",
     "text": [
      "91 completely null features\n"
     ]
    }
   ],
   "source": [
    "null_cols = vcdb.columns[vcdb.isnull().all()]\n",
    "null_cols = [col for col in null_cols if col not in ohe_cols]\n",
    "print('%s completely null features'%len(null_cols))\n",
    "config['base_data']['all null'] = null_cols"
   ]
  },
  {
   "cell_type": "markdown",
   "metadata": {},
   "source": [
    "Some of these are fine because they are one_hot encoded columns"
   ]
  },
  {
   "cell_type": "code",
   "execution_count": 10,
   "metadata": {},
   "outputs": [
    {
     "name": "stdout",
     "output_type": "stream",
     "text": [
      "115 features with some nulls\n"
     ]
    }
   ],
   "source": [
    "some_nulls = [col for col in vcdb.columns[vcdb.isnull().any()] if col not in null_cols]\n",
    "print('%s features with some nulls'%len(some_nulls))\n",
    "config['base_data']['some null'] = some_nulls"
   ]
  },
  {
   "cell_type": "markdown",
   "metadata": {},
   "source": [
    "## Null categorical features with an Unknown category\n",
    "We replace columns with \"Unknown\" as a value with pandas nulls, this way we can figure out a good imputation strategy for these rather than treat \"unknown\" as a category, since it is not useful to us."
   ]
  },
  {
   "cell_type": "code",
   "execution_count": 11,
   "metadata": {},
   "outputs": [],
   "source": [
    "ukn_cols = [col for col in some_nulls if (vcdb[col].astype(str).str.lower()=='unknown').any()]\n",
    "for col in ukn_cols:\n",
    "    vcdb.loc[vcdb[col].astype(str).str.lower()=='unknown', col] = None\n",
    "\n",
    "assert not vcdb[ukn_cols].apply(lambda col: (col.astype(str).str.lower()=='unknown').any()).any()\n",
    "config['base_data']['explicitly unknown'] = ukn_cols"
   ]
  },
  {
   "cell_type": "markdown",
   "metadata": {},
   "source": [
    "# Data Types"
   ]
  },
  {
   "cell_type": "markdown",
   "metadata": {},
   "source": [
    "### Floats"
   ]
  },
  {
   "cell_type": "code",
   "execution_count": 12,
   "metadata": {},
   "outputs": [
    {
     "data": {
      "text/plain": [
       "attribute.confidentiality.data_total                 4394\n",
       "attribute.confidentiality.data.amount.Medical        1711\n",
       "attribute.confidentiality.data.amount.Personal       1192\n",
       "victim.locations_affected                            1185\n",
       "victim.revenue.amount                                 505\n",
       "                                                     ... \n",
       "asset.assets.amount.U - Telephone                       0\n",
       "asset.assets.amount.U - Unknown                         0\n",
       "asset.assets.amount.U - VoIP phone                      0\n",
       "attribute.confidentiality.data.amount.Source code       0\n",
       "asset.assets.amount.E - Other                           0\n",
       "Length: 149, dtype: int64"
      ]
     },
     "execution_count": 12,
     "metadata": {},
     "output_type": "execute_result"
    }
   ],
   "source": [
    "vcdb.select_dtypes('float64').notnull().sum().sort_values(ascending=False)"
   ]
  },
  {
   "cell_type": "code",
   "execution_count": 13,
   "metadata": {},
   "outputs": [
    {
     "data": {
      "text/plain": [
       "bool       476\n",
       "float64    149\n",
       "object      66\n",
       "int64        1\n",
       "dtype: int64"
      ]
     },
     "execution_count": 13,
     "metadata": {},
     "output_type": "execute_result"
    }
   ],
   "source": [
    "vcdb.dtypes.value_counts()"
   ]
  },
  {
   "cell_type": "code",
   "execution_count": 14,
   "metadata": {},
   "outputs": [],
   "source": [
    "float_cols = [col for col in vcdb.select_dtypes('float64') if not vcdb[col].isnull().all()]\n",
    "len(float_cols)\n",
    "config['base_data']['floats'] = float_cols"
   ]
  },
  {
   "cell_type": "markdown",
   "metadata": {},
   "source": [
    "## Free Text"
   ]
  },
  {
   "cell_type": "code",
   "execution_count": 15,
   "metadata": {},
   "outputs": [
    {
     "data": {
      "text/plain": [
       "['action.environmental.notes',\n",
       " 'action.error.notes',\n",
       " 'action.hacking.notes',\n",
       " 'action.malware.notes',\n",
       " 'action.misuse.notes',\n",
       " 'action.physical.notes',\n",
       " 'action.social.notes',\n",
       " 'action.unknown.notes',\n",
       " 'asset.notes',\n",
       " 'attribute.availability.notes',\n",
       " 'attribute.confidentiality.notes',\n",
       " 'attribute.integrity.notes',\n",
       " 'discovery_notes',\n",
       " 'impact.notes',\n",
       " 'notes',\n",
       " 'plus.analyst_notes',\n",
       " 'plus.event_chain.summary',\n",
       " 'plus.pci.notes',\n",
       " 'summary',\n",
       " 'victim.notes',\n",
       " 'victim.secondary.notes',\n",
       " 'reference']"
      ]
     },
     "execution_count": 15,
     "metadata": {},
     "output_type": "execute_result"
    }
   ],
   "source": [
    "text_cols = [col for col in vcdb if 'notes' in col.lower() or 'summary' in col.lower()]\n",
    "text_cols += ['reference']\n",
    "text_cols"
   ]
  },
  {
   "cell_type": "code",
   "execution_count": 16,
   "metadata": {},
   "outputs": [
    {
     "data": {
      "text/plain": [
       "action.environmental.notes            1\n",
       "action.error.notes                  299\n",
       "action.hacking.notes                192\n",
       "action.malware.notes                102\n",
       "action.misuse.notes                 118\n",
       "action.physical.notes                30\n",
       "action.social.notes                  60\n",
       "action.unknown.notes                  5\n",
       "asset.notes                         173\n",
       "attribute.availability.notes        114\n",
       "attribute.confidentiality.notes     727\n",
       "attribute.integrity.notes           234\n",
       "discovery_notes                     415\n",
       "impact.notes                        133\n",
       "notes                               423\n",
       "plus.analyst_notes                  167\n",
       "plus.event_chain.summary              0\n",
       "plus.pci.notes                        0\n",
       "summary                            7329\n",
       "victim.notes                         62\n",
       "victim.secondary.notes               74\n",
       "reference                          7379\n",
       "dtype: int64"
      ]
     },
     "execution_count": 16,
     "metadata": {},
     "output_type": "execute_result"
    }
   ],
   "source": [
    "vcdb[text_cols].notnull().sum()"
   ]
  },
  {
   "cell_type": "markdown",
   "metadata": {},
   "source": [
    "## Text cleaning"
   ]
  },
  {
   "cell_type": "code",
   "execution_count": 17,
   "metadata": {},
   "outputs": [],
   "source": [
    "cat_and_text_cols = vcdb.select_dtypes('O').columns\n",
    "for col in cat_and_text_cols:\n",
    "    vcdb[col] = (\n",
    "        vcdb[col]\n",
    "            .fillna('placeholder_nan')\n",
    "            .astype(str)\n",
    "            .str.lower()\n",
    "            .replace('placeholder_nan', np.nan)\n",
    "    )"
   ]
  },
  {
   "cell_type": "markdown",
   "metadata": {},
   "source": [
    "## Categoricals"
   ]
  },
  {
   "cell_type": "code",
   "execution_count": 18,
   "metadata": {},
   "outputs": [
    {
     "data": {
      "text/plain": [
       "{'action.hacking.cve': array([nan, 'cve-2008-4250', 'heartbleed', 'cve-2012-0507',\n",
       "        'unknown vuln', 'cve-2016-6483', 'cve unknown', 'cve-2012-5385',\n",
       "        'cve-2014-0160', 'cve-2017-5638', 'cve-2012-4969', 'cve-2013-0632',\n",
       "        'cve-2013-1347,cve-2013-2423,cve-2013-1493', 'cve-2017-0144',\n",
       "        'wordpress'], dtype=object),\n",
       " 'action.malware.cve': array([nan, 'cve-2010-0249',\n",
       "        'cve-2009-3129, cve-2010-3333, cve-2012-0158, cve-2011-3544',\n",
       "        'cve-2013-0640,cve-2013-0641', 'cve-2012-4681;cve-2013-2423',\n",
       "        'cve-2013-3893', 'cve 2012-4792',\n",
       "        'cve-2013-1347, cve-2013-2423, cve-2013-1493', 'cve-2012-4681'],\n",
       "       dtype=object)}"
      ]
     },
     "execution_count": 18,
     "metadata": {},
     "output_type": "execute_result"
    }
   ],
   "source": [
    "{col: vcdb[col].unique() for col in vcdb if 'cve' in col}"
   ]
  },
  {
   "cell_type": "code",
   "execution_count": 19,
   "metadata": {},
   "outputs": [
    {
     "data": {
      "text/plain": [
       "{'action.hacking.cve': 14,\n",
       " 'action.malware.cve': 8,\n",
       " 'action.malware.name': 21,\n",
       " 'campaign_id': 10,\n",
       " 'control_failure': 1,\n",
       " 'incident_id': 7829,\n",
       " 'plus.analyst': 69,\n",
       " 'plus.asset.total': 3,\n",
       " 'plus.attribute.confidentiality.credit_monitoring': 5,\n",
       " 'plus.attribute.confidentiality.data_abuse': 3,\n",
       " 'plus.attribute.confidentiality.data_misuse': 4,\n",
       " 'plus.attribute.confidentiality.partner_data': 2,\n",
       " 'plus.f500': 6,\n",
       " 'plus.github': 4344,\n",
       " 'plus.master_id': 7832,\n",
       " 'plus.sub_source': 4,\n",
       " 'reference': 5925,\n",
       " 'schema_version': 2,\n",
       " 'source_id': 1,\n",
       " 'summary': 6936,\n",
       " 'victim.industry': 670,\n",
       " 'victim.region': 38,\n",
       " 'victim.secondary.victim_id': 234,\n",
       " 'victim.state': 97,\n",
       " 'victim.victim_id': 5616,\n",
       " 'victim.industry3': 115,\n",
       " 'victim.industry.name': 21,\n",
       " 'pattern': 10,\n",
       " 'security_incident': 3,\n",
       " 'impact.overall_rating': 4,\n",
       " 'impact.iso_currency_code': 10,\n",
       " 'confidence': 4,\n",
       " 'victim.employee_count': 11,\n",
       " 'victim.country': 134,\n",
       " 'victim.revenue.iso_currency_code': 2,\n",
       " 'victim.orgsize': 2,\n",
       " 'attribute.availability.duration.unit': 7,\n",
       " 'attribute.confidentiality.data_disclosure': 3,\n",
       " 'targeted': 2,\n",
       " 'cost_corrective_action': 2,\n",
       " 'asset.cloud': 5,\n",
       " 'asset.accessibility': 1,\n",
       " 'asset.country': 11,\n",
       " 'plus.analysis_status': 5,\n",
       " 'plus.attack_difficulty_initial': 4,\n",
       " 'plus.attack_difficulty_legacy': 5,\n",
       " 'plus.attack_difficulty_subsequent': 4,\n",
       " 'plus.unknown_unknowns': 2}"
      ]
     },
     "execution_count": 19,
     "metadata": {},
     "output_type": "execute_result"
    }
   ],
   "source": [
    "feature_counts = {}\n",
    "for col in vcdb.select_dtypes('O'):\n",
    "    if 'notes' not in col.lower() and col not in ohe_cols:\n",
    "        feature_counts[col]= vcdb[col].nunique()\n",
    "feature_counts"
   ]
  },
  {
   "cell_type": "code",
   "execution_count": 20,
   "metadata": {},
   "outputs": [
    {
     "data": {
      "text/html": [
       "<div>\n",
       "<style scoped>\n",
       "    .dataframe tbody tr th:only-of-type {\n",
       "        vertical-align: middle;\n",
       "    }\n",
       "\n",
       "    .dataframe tbody tr th {\n",
       "        vertical-align: top;\n",
       "    }\n",
       "\n",
       "    .dataframe thead th {\n",
       "        text-align: right;\n",
       "    }\n",
       "</style>\n",
       "<table border=\"1\" class=\"dataframe\">\n",
       "  <thead>\n",
       "    <tr style=\"text-align: right;\">\n",
       "      <th></th>\n",
       "      <th>action.hacking.cve</th>\n",
       "      <th>action.malware.cve</th>\n",
       "      <th>action.malware.name</th>\n",
       "      <th>campaign_id</th>\n",
       "      <th>control_failure</th>\n",
       "      <th>incident_id</th>\n",
       "      <th>plus.analyst</th>\n",
       "      <th>plus.asset.total</th>\n",
       "      <th>plus.attribute.confidentiality.credit_monitoring</th>\n",
       "      <th>plus.attribute.confidentiality.data_abuse</th>\n",
       "      <th>...</th>\n",
       "      <th>targeted</th>\n",
       "      <th>cost_corrective_action</th>\n",
       "      <th>asset.cloud</th>\n",
       "      <th>asset.accessibility</th>\n",
       "      <th>asset.country</th>\n",
       "      <th>plus.analysis_status</th>\n",
       "      <th>plus.attack_difficulty_initial</th>\n",
       "      <th>plus.attack_difficulty_legacy</th>\n",
       "      <th>plus.attack_difficulty_subsequent</th>\n",
       "      <th>plus.unknown_unknowns</th>\n",
       "    </tr>\n",
       "  </thead>\n",
       "  <tbody>\n",
       "    <tr>\n",
       "      <th>0</th>\n",
       "      <td>NaN</td>\n",
       "      <td>NaN</td>\n",
       "      <td>NaN</td>\n",
       "      <td>NaN</td>\n",
       "      <td>NaN</td>\n",
       "      <td>0001aa7f-c601-424a-b2b8-be6c9f5164e7</td>\n",
       "      <td>swidup</td>\n",
       "      <td>NaN</td>\n",
       "      <td>NaN</td>\n",
       "      <td>NaN</td>\n",
       "      <td>...</td>\n",
       "      <td>NaN</td>\n",
       "      <td>NaN</td>\n",
       "      <td>NaN</td>\n",
       "      <td>NaN</td>\n",
       "      <td>NaN</td>\n",
       "      <td>first pass</td>\n",
       "      <td>NaN</td>\n",
       "      <td>NaN</td>\n",
       "      <td>NaN</td>\n",
       "      <td>NaN</td>\n",
       "    </tr>\n",
       "    <tr>\n",
       "      <th>1</th>\n",
       "      <td>NaN</td>\n",
       "      <td>NaN</td>\n",
       "      <td>NaN</td>\n",
       "      <td>NaN</td>\n",
       "      <td>NaN</td>\n",
       "      <td>0008dadb-e83d-4278-a19a-cee01610cf43</td>\n",
       "      <td>swidup</td>\n",
       "      <td>NaN</td>\n",
       "      <td>u</td>\n",
       "      <td>NaN</td>\n",
       "      <td>...</td>\n",
       "      <td>NaN</td>\n",
       "      <td>NaN</td>\n",
       "      <td>NaN</td>\n",
       "      <td>NaN</td>\n",
       "      <td>NaN</td>\n",
       "      <td>first pass</td>\n",
       "      <td>NaN</td>\n",
       "      <td>NaN</td>\n",
       "      <td>NaN</td>\n",
       "      <td>NaN</td>\n",
       "    </tr>\n",
       "    <tr>\n",
       "      <th>2</th>\n",
       "      <td>NaN</td>\n",
       "      <td>NaN</td>\n",
       "      <td>NaN</td>\n",
       "      <td>NaN</td>\n",
       "      <td>NaN</td>\n",
       "      <td>000d403e-2dc9-4ea7-9294-bd3938d1c3c7</td>\n",
       "      <td>swidup</td>\n",
       "      <td>NaN</td>\n",
       "      <td>y</td>\n",
       "      <td>NaN</td>\n",
       "      <td>...</td>\n",
       "      <td>NaN</td>\n",
       "      <td>NaN</td>\n",
       "      <td>NaN</td>\n",
       "      <td>NaN</td>\n",
       "      <td>NaN</td>\n",
       "      <td>first pass</td>\n",
       "      <td>NaN</td>\n",
       "      <td>NaN</td>\n",
       "      <td>NaN</td>\n",
       "      <td>NaN</td>\n",
       "    </tr>\n",
       "    <tr>\n",
       "      <th>3</th>\n",
       "      <td>NaN</td>\n",
       "      <td>NaN</td>\n",
       "      <td>NaN</td>\n",
       "      <td>NaN</td>\n",
       "      <td>NaN</td>\n",
       "      <td>0012cc25-9167-40d8-8fe3-3d0dfd8fb6bb</td>\n",
       "      <td>swidup</td>\n",
       "      <td>no</td>\n",
       "      <td>u</td>\n",
       "      <td>y</td>\n",
       "      <td>...</td>\n",
       "      <td>NaN</td>\n",
       "      <td>NaN</td>\n",
       "      <td>NaN</td>\n",
       "      <td>NaN</td>\n",
       "      <td>NaN</td>\n",
       "      <td>first pass</td>\n",
       "      <td>NaN</td>\n",
       "      <td>NaN</td>\n",
       "      <td>NaN</td>\n",
       "      <td>NaN</td>\n",
       "    </tr>\n",
       "    <tr>\n",
       "      <th>4</th>\n",
       "      <td>NaN</td>\n",
       "      <td>NaN</td>\n",
       "      <td>NaN</td>\n",
       "      <td>NaN</td>\n",
       "      <td>NaN</td>\n",
       "      <td>00163384-b4d7-46d5-9e6f-543dfb00f598</td>\n",
       "      <td>swidup</td>\n",
       "      <td>NaN</td>\n",
       "      <td>NaN</td>\n",
       "      <td>NaN</td>\n",
       "      <td>...</td>\n",
       "      <td>NaN</td>\n",
       "      <td>NaN</td>\n",
       "      <td>NaN</td>\n",
       "      <td>NaN</td>\n",
       "      <td>NaN</td>\n",
       "      <td>first pass</td>\n",
       "      <td>NaN</td>\n",
       "      <td>NaN</td>\n",
       "      <td>NaN</td>\n",
       "      <td>NaN</td>\n",
       "    </tr>\n",
       "    <tr>\n",
       "      <th>...</th>\n",
       "      <td>...</td>\n",
       "      <td>...</td>\n",
       "      <td>...</td>\n",
       "      <td>...</td>\n",
       "      <td>...</td>\n",
       "      <td>...</td>\n",
       "      <td>...</td>\n",
       "      <td>...</td>\n",
       "      <td>...</td>\n",
       "      <td>...</td>\n",
       "      <td>...</td>\n",
       "      <td>...</td>\n",
       "      <td>...</td>\n",
       "      <td>...</td>\n",
       "      <td>...</td>\n",
       "      <td>...</td>\n",
       "      <td>...</td>\n",
       "      <td>...</td>\n",
       "      <td>...</td>\n",
       "      <td>...</td>\n",
       "      <td>...</td>\n",
       "    </tr>\n",
       "    <tr>\n",
       "      <th>7828</th>\n",
       "      <td>NaN</td>\n",
       "      <td>NaN</td>\n",
       "      <td>NaN</td>\n",
       "      <td>NaN</td>\n",
       "      <td>NaN</td>\n",
       "      <td>b533254c-4713-4fe7-a9f8-412abb4ec664</td>\n",
       "      <td>robert-topper</td>\n",
       "      <td>NaN</td>\n",
       "      <td>u</td>\n",
       "      <td>NaN</td>\n",
       "      <td>...</td>\n",
       "      <td>NaN</td>\n",
       "      <td>NaN</td>\n",
       "      <td>NaN</td>\n",
       "      <td>NaN</td>\n",
       "      <td>NaN</td>\n",
       "      <td>finalized</td>\n",
       "      <td>NaN</td>\n",
       "      <td>NaN</td>\n",
       "      <td>NaN</td>\n",
       "      <td>NaN</td>\n",
       "    </tr>\n",
       "    <tr>\n",
       "      <th>7829</th>\n",
       "      <td>NaN</td>\n",
       "      <td>NaN</td>\n",
       "      <td>NaN</td>\n",
       "      <td>NaN</td>\n",
       "      <td>NaN</td>\n",
       "      <td>ffd31fe4-976b-48ca-a111-ef84ebab9b0f</td>\n",
       "      <td>swidup</td>\n",
       "      <td>NaN</td>\n",
       "      <td>y</td>\n",
       "      <td>NaN</td>\n",
       "      <td>...</td>\n",
       "      <td>NaN</td>\n",
       "      <td>NaN</td>\n",
       "      <td>NaN</td>\n",
       "      <td>NaN</td>\n",
       "      <td>NaN</td>\n",
       "      <td>first pass</td>\n",
       "      <td>NaN</td>\n",
       "      <td>NaN</td>\n",
       "      <td>NaN</td>\n",
       "      <td>NaN</td>\n",
       "    </tr>\n",
       "    <tr>\n",
       "      <th>7830</th>\n",
       "      <td>NaN</td>\n",
       "      <td>NaN</td>\n",
       "      <td>NaN</td>\n",
       "      <td>NaN</td>\n",
       "      <td>NaN</td>\n",
       "      <td>ffda2281-8053-4315-b613-330eb09a4bee</td>\n",
       "      <td>swidup</td>\n",
       "      <td>no</td>\n",
       "      <td>u</td>\n",
       "      <td>y</td>\n",
       "      <td>...</td>\n",
       "      <td>NaN</td>\n",
       "      <td>NaN</td>\n",
       "      <td>NaN</td>\n",
       "      <td>NaN</td>\n",
       "      <td>NaN</td>\n",
       "      <td>first pass</td>\n",
       "      <td>NaN</td>\n",
       "      <td>NaN</td>\n",
       "      <td>NaN</td>\n",
       "      <td>NaN</td>\n",
       "    </tr>\n",
       "    <tr>\n",
       "      <th>7831</th>\n",
       "      <td>NaN</td>\n",
       "      <td>NaN</td>\n",
       "      <td>NaN</td>\n",
       "      <td>NaN</td>\n",
       "      <td>NaN</td>\n",
       "      <td>ffdc6655-e421-4bec-835f-1bdfec4f6c70</td>\n",
       "      <td>swidup</td>\n",
       "      <td>no</td>\n",
       "      <td>u</td>\n",
       "      <td>u</td>\n",
       "      <td>...</td>\n",
       "      <td>NaN</td>\n",
       "      <td>NaN</td>\n",
       "      <td>NaN</td>\n",
       "      <td>NaN</td>\n",
       "      <td>NaN</td>\n",
       "      <td>first pass</td>\n",
       "      <td>NaN</td>\n",
       "      <td>NaN</td>\n",
       "      <td>NaN</td>\n",
       "      <td>NaN</td>\n",
       "    </tr>\n",
       "    <tr>\n",
       "      <th>7832</th>\n",
       "      <td>NaN</td>\n",
       "      <td>NaN</td>\n",
       "      <td>NaN</td>\n",
       "      <td>NaN</td>\n",
       "      <td>NaN</td>\n",
       "      <td>ffe36843-d23a-484f-a9b8-1338c9be49cd</td>\n",
       "      <td>swidup</td>\n",
       "      <td>NaN</td>\n",
       "      <td>NaN</td>\n",
       "      <td>NaN</td>\n",
       "      <td>...</td>\n",
       "      <td>NaN</td>\n",
       "      <td>NaN</td>\n",
       "      <td>NaN</td>\n",
       "      <td>NaN</td>\n",
       "      <td>NaN</td>\n",
       "      <td>first pass</td>\n",
       "      <td>NaN</td>\n",
       "      <td>NaN</td>\n",
       "      <td>NaN</td>\n",
       "      <td>NaN</td>\n",
       "    </tr>\n",
       "  </tbody>\n",
       "</table>\n",
       "<p>7833 rows × 48 columns</p>\n",
       "</div>"
      ],
      "text/plain": [
       "     action.hacking.cve action.malware.cve action.malware.name campaign_id  \\\n",
       "0                   NaN                NaN                 NaN         NaN   \n",
       "1                   NaN                NaN                 NaN         NaN   \n",
       "2                   NaN                NaN                 NaN         NaN   \n",
       "3                   NaN                NaN                 NaN         NaN   \n",
       "4                   NaN                NaN                 NaN         NaN   \n",
       "...                 ...                ...                 ...         ...   \n",
       "7828                NaN                NaN                 NaN         NaN   \n",
       "7829                NaN                NaN                 NaN         NaN   \n",
       "7830                NaN                NaN                 NaN         NaN   \n",
       "7831                NaN                NaN                 NaN         NaN   \n",
       "7832                NaN                NaN                 NaN         NaN   \n",
       "\n",
       "     control_failure                           incident_id   plus.analyst  \\\n",
       "0                NaN  0001aa7f-c601-424a-b2b8-be6c9f5164e7         swidup   \n",
       "1                NaN  0008dadb-e83d-4278-a19a-cee01610cf43         swidup   \n",
       "2                NaN  000d403e-2dc9-4ea7-9294-bd3938d1c3c7         swidup   \n",
       "3                NaN  0012cc25-9167-40d8-8fe3-3d0dfd8fb6bb         swidup   \n",
       "4                NaN  00163384-b4d7-46d5-9e6f-543dfb00f598         swidup   \n",
       "...              ...                                   ...            ...   \n",
       "7828             NaN  b533254c-4713-4fe7-a9f8-412abb4ec664  robert-topper   \n",
       "7829             NaN  ffd31fe4-976b-48ca-a111-ef84ebab9b0f         swidup   \n",
       "7830             NaN  ffda2281-8053-4315-b613-330eb09a4bee         swidup   \n",
       "7831             NaN  ffdc6655-e421-4bec-835f-1bdfec4f6c70         swidup   \n",
       "7832             NaN  ffe36843-d23a-484f-a9b8-1338c9be49cd         swidup   \n",
       "\n",
       "     plus.asset.total plus.attribute.confidentiality.credit_monitoring  \\\n",
       "0                 NaN                                              NaN   \n",
       "1                 NaN                                                u   \n",
       "2                 NaN                                                y   \n",
       "3                  no                                                u   \n",
       "4                 NaN                                              NaN   \n",
       "...               ...                                              ...   \n",
       "7828              NaN                                                u   \n",
       "7829              NaN                                                y   \n",
       "7830               no                                                u   \n",
       "7831               no                                                u   \n",
       "7832              NaN                                              NaN   \n",
       "\n",
       "     plus.attribute.confidentiality.data_abuse  ... targeted  \\\n",
       "0                                          NaN  ...      NaN   \n",
       "1                                          NaN  ...      NaN   \n",
       "2                                          NaN  ...      NaN   \n",
       "3                                            y  ...      NaN   \n",
       "4                                          NaN  ...      NaN   \n",
       "...                                        ...  ...      ...   \n",
       "7828                                       NaN  ...      NaN   \n",
       "7829                                       NaN  ...      NaN   \n",
       "7830                                         y  ...      NaN   \n",
       "7831                                         u  ...      NaN   \n",
       "7832                                       NaN  ...      NaN   \n",
       "\n",
       "     cost_corrective_action asset.cloud asset.accessibility asset.country  \\\n",
       "0                       NaN         NaN                 NaN           NaN   \n",
       "1                       NaN         NaN                 NaN           NaN   \n",
       "2                       NaN         NaN                 NaN           NaN   \n",
       "3                       NaN         NaN                 NaN           NaN   \n",
       "4                       NaN         NaN                 NaN           NaN   \n",
       "...                     ...         ...                 ...           ...   \n",
       "7828                    NaN         NaN                 NaN           NaN   \n",
       "7829                    NaN         NaN                 NaN           NaN   \n",
       "7830                    NaN         NaN                 NaN           NaN   \n",
       "7831                    NaN         NaN                 NaN           NaN   \n",
       "7832                    NaN         NaN                 NaN           NaN   \n",
       "\n",
       "     plus.analysis_status plus.attack_difficulty_initial  \\\n",
       "0              first pass                            NaN   \n",
       "1              first pass                            NaN   \n",
       "2              first pass                            NaN   \n",
       "3              first pass                            NaN   \n",
       "4              first pass                            NaN   \n",
       "...                   ...                            ...   \n",
       "7828            finalized                            NaN   \n",
       "7829           first pass                            NaN   \n",
       "7830           first pass                            NaN   \n",
       "7831           first pass                            NaN   \n",
       "7832           first pass                            NaN   \n",
       "\n",
       "     plus.attack_difficulty_legacy plus.attack_difficulty_subsequent  \\\n",
       "0                              NaN                               NaN   \n",
       "1                              NaN                               NaN   \n",
       "2                              NaN                               NaN   \n",
       "3                              NaN                               NaN   \n",
       "4                              NaN                               NaN   \n",
       "...                            ...                               ...   \n",
       "7828                           NaN                               NaN   \n",
       "7829                           NaN                               NaN   \n",
       "7830                           NaN                               NaN   \n",
       "7831                           NaN                               NaN   \n",
       "7832                           NaN                               NaN   \n",
       "\n",
       "     plus.unknown_unknowns  \n",
       "0                      NaN  \n",
       "1                      NaN  \n",
       "2                      NaN  \n",
       "3                      NaN  \n",
       "4                      NaN  \n",
       "...                    ...  \n",
       "7828                   NaN  \n",
       "7829                   NaN  \n",
       "7830                   NaN  \n",
       "7831                   NaN  \n",
       "7832                   NaN  \n",
       "\n",
       "[7833 rows x 48 columns]"
      ]
     },
     "execution_count": 20,
     "metadata": {},
     "output_type": "execute_result"
    }
   ],
   "source": [
    "vcdb[feature_counts.keys()]"
   ]
  },
  {
   "cell_type": "code",
   "execution_count": 21,
   "metadata": {},
   "outputs": [],
   "source": [
    "def id_generator(dict_var, key):\n",
    "    \"\"\"\n",
    "    Based.\n",
    "    https://stackoverflow.com/questions/21028979/recursive-iteration-through-nested-json-for-specific-key-in-python\n",
    "    \"\"\"\n",
    "    for k, v in dict_var.items():\n",
    "        if k == key:\n",
    "            yield v\n",
    "        elif isinstance(v, dict):\n",
    "            for id_val in id_generator(v, key):\n",
    "                yield id_val"
   ]
  },
  {
   "cell_type": "code",
   "execution_count": 22,
   "metadata": {},
   "outputs": [
    {
     "data": {
      "text/plain": [
       "66"
      ]
     },
     "execution_count": 22,
     "metadata": {},
     "output_type": "execute_result"
    }
   ],
   "source": [
    "enums = set()\n",
    "for enum in id_generator(schema,'enum'):\n",
    "    enums.add(tuple(enum))\n",
    "\n",
    "len(enums)"
   ]
  },
  {
   "cell_type": "code",
   "execution_count": 23,
   "metadata": {},
   "outputs": [
    {
     "data": {
      "text/plain": [
       "Index(['confirmed', 'near miss', 'suspected'], dtype='object')"
      ]
     },
     "execution_count": 23,
     "metadata": {},
     "output_type": "execute_result"
    }
   ],
   "source": [
    "pd.Categorical(vcdb['security_incident']).categories"
   ]
  },
  {
   "cell_type": "markdown",
   "metadata": {},
   "source": [
    "# Target Variable Analysis"
   ]
  },
  {
   "cell_type": "markdown",
   "metadata": {},
   "source": [
    "We start by having at some Incident Description Enumerations to see what is feasible.\n",
    "\n",
    "#### SECURITY_INCIDENT\n",
    "- Confirmed: Yes - Confirmed\n",
    "- Suspected: Suspected\n",
    "- False positive: False positive (response triggered, but no incident)\n",
    "- Near miss: Near miss (actions did not compromise asset)"
   ]
  },
  {
   "cell_type": "code",
   "execution_count": 24,
   "metadata": {},
   "outputs": [],
   "source": [
    "config['targets']['All'] = []"
   ]
  },
  {
   "cell_type": "code",
   "execution_count": 25,
   "metadata": {},
   "outputs": [
    {
     "data": {
      "text/plain": [
       "{'type': 'string',\n",
       " 'description': 'Confirmed incident?',\n",
       " 'enum': ['Confirmed', 'Suspected', 'Near miss', 'False positive']}"
      ]
     },
     "execution_count": 25,
     "metadata": {},
     "output_type": "execute_result"
    }
   ],
   "source": [
    "schema['properties']['security_incident']"
   ]
  },
  {
   "cell_type": "code",
   "execution_count": 26,
   "metadata": {},
   "outputs": [
    {
     "data": {
      "text/plain": [
       "confirmed    7759\n",
       "suspected      67\n",
       "near miss       6\n",
       "NaN             1\n",
       "Name: security_incident, dtype: int64"
      ]
     },
     "execution_count": 26,
     "metadata": {},
     "output_type": "execute_result"
    }
   ],
   "source": [
    "vcdb['security_incident'].value_counts(dropna=False)"
   ]
  },
  {
   "cell_type": "code",
   "execution_count": 27,
   "metadata": {},
   "outputs": [],
   "source": [
    "config['targets']['All'].append('security_incident')"
   ]
  },
  {
   "cell_type": "code",
   "execution_count": 28,
   "metadata": {},
   "outputs": [],
   "source": [
    "impact_cols = [col for col in vcdb if col.startswith('impact')]"
   ]
  },
  {
   "cell_type": "code",
   "execution_count": 29,
   "metadata": {},
   "outputs": [
    {
     "data": {
      "text/plain": [
       "impact.loss.amount             0\n",
       "impact.notes                 133\n",
       "impact.overall_amount         80\n",
       "impact.overall_max_amount      1\n",
       "impact.overall_min_amount      2\n",
       "impact.overall_rating         27\n",
       "impact.iso_currency_code     197\n",
       "dtype: int64"
      ]
     },
     "execution_count": 29,
     "metadata": {},
     "output_type": "execute_result"
    }
   ],
   "source": [
    "vcdb[[col for col in vcdb if col.startswith('impact')]].notnull().sum()"
   ]
  },
  {
   "cell_type": "code",
   "execution_count": 30,
   "metadata": {},
   "outputs": [
    {
     "data": {
      "text/plain": [
       "NaN              7806\n",
       "distracting        13\n",
       "damaging            8\n",
       "painful             5\n",
       "insignificant       1\n",
       "Name: impact.overall_rating, dtype: int64"
      ]
     },
     "execution_count": 30,
     "metadata": {},
     "output_type": "execute_result"
    }
   ],
   "source": [
    "vcdb['impact.overall_rating'].value_counts(dropna=False)"
   ]
  },
  {
   "cell_type": "code",
   "execution_count": 31,
   "metadata": {},
   "outputs": [],
   "source": [
    "config['targets']['All'] += [col for col in vcdb if col.startswith('impact')]"
   ]
  },
  {
   "cell_type": "markdown",
   "metadata": {},
   "source": [
    "# Predicting C-I-A outcomes"
   ]
  },
  {
   "cell_type": "code",
   "execution_count": 32,
   "metadata": {},
   "outputs": [],
   "source": [
    "cia_cols = [col for col in vcdb if col.startswith('attribute.')]\n",
    "config['targets']['All CIA'] = cia_cols"
   ]
  },
  {
   "cell_type": "markdown",
   "metadata": {},
   "source": [
    "Data Disclosure looks promising as a decision outcome: while there is a class imbalance it is not as extreme as that of security_incidents"
   ]
  },
  {
   "cell_type": "code",
   "execution_count": 33,
   "metadata": {},
   "outputs": [
    {
     "data": {
      "text/plain": [
       "yes            5076\n",
       "potentially    1884\n",
       "no               76\n",
       "Name: attribute.confidentiality.data_disclosure, dtype: int64"
      ]
     },
     "execution_count": 33,
     "metadata": {},
     "output_type": "execute_result"
    }
   ],
   "source": [
    "vcdb['attribute.confidentiality.data_disclosure'].value_counts()"
   ]
  },
  {
   "cell_type": "code",
   "execution_count": 34,
   "metadata": {},
   "outputs": [],
   "source": [
    "config['targets']['data_disclosure'] = 'attribute.confidentiality.data_disclosure'"
   ]
  },
  {
   "cell_type": "markdown",
   "metadata": {},
   "source": [
    "Availability Duration does not seem promising as a decision outcome"
   ]
  },
  {
   "cell_type": "code",
   "execution_count": 35,
   "metadata": {},
   "outputs": [],
   "source": [
    "config['targets']['All'] += [col for col in vcdb if col.startswith('attribute')]"
   ]
  },
  {
   "cell_type": "code",
   "execution_count": 36,
   "metadata": {},
   "outputs": [
    {
     "data": {
      "text/plain": [
       "True     7249\n",
       "False     584\n",
       "Name: attribute.Confidentiality, dtype: int64"
      ]
     },
     "execution_count": 36,
     "metadata": {},
     "output_type": "execute_result"
    }
   ],
   "source": [
    "vcdb['attribute.Confidentiality'].value_counts()"
   ]
  },
  {
   "cell_type": "code",
   "execution_count": 37,
   "metadata": {},
   "outputs": [
    {
     "data": {
      "text/plain": [
       "['attribute.confidentiality.data.variety.Bank',\n",
       " 'attribute.confidentiality.data.variety.Classified',\n",
       " 'attribute.confidentiality.data.variety.Copyrighted',\n",
       " 'attribute.confidentiality.data.variety.Credentials',\n",
       " 'attribute.confidentiality.data.variety.Digital certificate',\n",
       " 'attribute.confidentiality.data.variety.Internal',\n",
       " 'attribute.confidentiality.data.variety.Medical',\n",
       " 'attribute.confidentiality.data.variety.Other',\n",
       " 'attribute.confidentiality.data.variety.Payment',\n",
       " 'attribute.confidentiality.data.variety.Personal',\n",
       " 'attribute.confidentiality.data.variety.Secrets',\n",
       " 'attribute.confidentiality.data.variety.Source code',\n",
       " 'attribute.confidentiality.data.variety.System',\n",
       " 'attribute.confidentiality.data.variety.Unknown',\n",
       " 'attribute.confidentiality.data.variety.Virtual currency']"
      ]
     },
     "execution_count": 37,
     "metadata": {},
     "output_type": "execute_result"
    }
   ],
   "source": [
    "[col for col in vcdb if col.startswith('attribute.confidentiality') and 'variety' in col]"
   ]
  },
  {
   "cell_type": "code",
   "execution_count": 38,
   "metadata": {},
   "outputs": [
    {
     "data": {
      "text/plain": [
       "False    5998\n",
       "True     1835\n",
       "Name: attribute.Integrity, dtype: int64"
      ]
     },
     "execution_count": 38,
     "metadata": {},
     "output_type": "execute_result"
    }
   ],
   "source": [
    "vcdb['attribute.Integrity'].value_counts()"
   ]
  },
  {
   "cell_type": "code",
   "execution_count": 39,
   "metadata": {},
   "outputs": [
    {
     "data": {
      "text/plain": [
       "['attribute.integrity.notes',\n",
       " 'attribute.integrity.variety.Alter behavior',\n",
       " 'attribute.integrity.variety.Created account',\n",
       " 'attribute.integrity.variety.Defacement',\n",
       " 'attribute.integrity.variety.Fraudulent transaction',\n",
       " 'attribute.integrity.variety.Hardware tampering',\n",
       " 'attribute.integrity.variety.Log tampering',\n",
       " 'attribute.integrity.variety.Misrepresentation',\n",
       " 'attribute.integrity.variety.Modify configuration',\n",
       " 'attribute.integrity.variety.Modify data',\n",
       " 'attribute.integrity.variety.Modify privileges',\n",
       " 'attribute.integrity.variety.Other',\n",
       " 'attribute.integrity.variety.Repurpose',\n",
       " 'attribute.integrity.variety.Software installation',\n",
       " 'attribute.integrity.variety.Unknown']"
      ]
     },
     "execution_count": 39,
     "metadata": {},
     "output_type": "execute_result"
    }
   ],
   "source": [
    "[col for col in vcdb if col.startswith('attribute.integrity')]"
   ]
  },
  {
   "cell_type": "code",
   "execution_count": 40,
   "metadata": {},
   "outputs": [
    {
     "data": {
      "text/plain": [
       "False    5486\n",
       "True     2347\n",
       "Name: attribute.Availability, dtype: int64"
      ]
     },
     "execution_count": 40,
     "metadata": {},
     "output_type": "execute_result"
    }
   ],
   "source": [
    "vcdb['attribute.Availability'].value_counts()"
   ]
  },
  {
   "cell_type": "code",
   "execution_count": 41,
   "metadata": {},
   "outputs": [
    {
     "data": {
      "text/plain": [
       "['attribute.availability.duration.value',\n",
       " 'attribute.availability.notes',\n",
       " 'attribute.availability.variety.Acceleration',\n",
       " 'attribute.availability.variety.Degradation',\n",
       " 'attribute.availability.variety.Destruction',\n",
       " 'attribute.availability.variety.Interruption',\n",
       " 'attribute.availability.variety.Loss',\n",
       " 'attribute.availability.variety.Obscuration',\n",
       " 'attribute.availability.variety.Other',\n",
       " 'attribute.availability.variety.Unknown',\n",
       " 'attribute.availability.duration.unit']"
      ]
     },
     "execution_count": 41,
     "metadata": {},
     "output_type": "execute_result"
    }
   ],
   "source": [
    "[col for col in vcdb if col.startswith('attribute.availability')]"
   ]
  },
  {
   "cell_type": "code",
   "execution_count": 42,
   "metadata": {},
   "outputs": [
    {
     "data": {
      "text/plain": [
       "106"
      ]
     },
     "execution_count": 42,
     "metadata": {},
     "output_type": "execute_result"
    }
   ],
   "source": [
    "vcdb['attribute.availability.duration.value'].notnull().sum()"
   ]
  },
  {
   "cell_type": "code",
   "execution_count": 43,
   "metadata": {},
   "outputs": [
    {
     "data": {
      "text/plain": [
       "NaN                             7832\n",
       "single factor authentication       1\n",
       "Name: control_failure, dtype: int64"
      ]
     },
     "execution_count": 43,
     "metadata": {},
     "output_type": "execute_result"
    }
   ],
   "source": [
    "vcdb['control_failure'].value_counts(dropna=False)"
   ]
  },
  {
   "cell_type": "markdown",
   "metadata": {},
   "source": [
    "## Predicting Pattern Outcomes"
   ]
  },
  {
   "cell_type": "code",
   "execution_count": 44,
   "metadata": {},
   "outputs": [
    {
     "data": {
      "text/plain": [
       "miscellaneous errors      1812\n",
       "privilege misuse          1597\n",
       "lost and stolen assets    1460\n",
       "everything else           1026\n",
       "web applications           896\n",
       "payment card skimmers      278\n",
       "crimeware                  267\n",
       "cyber-espionage            247\n",
       "denial of service          162\n",
       "point of sale               88\n",
       "Name: pattern, dtype: int64"
      ]
     },
     "execution_count": 44,
     "metadata": {},
     "output_type": "execute_result"
    }
   ],
   "source": [
    "vcdb['pattern'].value_counts()"
   ]
  },
  {
   "cell_type": "code",
   "execution_count": 45,
   "metadata": {},
   "outputs": [],
   "source": [
    "config['targets']['All'].append('pattern')"
   ]
  },
  {
   "cell_type": "code",
   "execution_count": 46,
   "metadata": {},
   "outputs": [
    {
     "data": {
      "text/plain": [
       "['pattern.Point of Sale',\n",
       " 'pattern.Web Applications',\n",
       " 'pattern.Privilege Misuse',\n",
       " 'pattern.Lost and Stolen Assets',\n",
       " 'pattern.Miscellaneous Errors',\n",
       " 'pattern.Crimeware',\n",
       " 'pattern.Payment Card Skimmers',\n",
       " 'pattern.Denial of Service',\n",
       " 'pattern.Cyber-Espionage',\n",
       " 'pattern.Everything Else']"
      ]
     },
     "execution_count": 46,
     "metadata": {},
     "output_type": "execute_result"
    }
   ],
   "source": [
    "pattern_cols = [col for col in vcdb if col.startswith('pattern.')]\n",
    "pattern_cols"
   ]
  },
  {
   "cell_type": "code",
   "execution_count": 47,
   "metadata": {},
   "outputs": [
    {
     "data": {
      "text/plain": [
       "1    7732\n",
       "2     101\n",
       "dtype: int64"
      ]
     },
     "execution_count": 47,
     "metadata": {},
     "output_type": "execute_result"
    }
   ],
   "source": [
    "vcdb[pattern_cols].sum(axis=1).value_counts()"
   ]
  },
  {
   "cell_type": "code",
   "execution_count": 48,
   "metadata": {},
   "outputs": [
    {
     "data": {
      "text/plain": [
       "Miscellaneous Errors      1812\n",
       "Privilege Misuse          1604\n",
       "Lost and Stolen Assets    1505\n",
       "Everything Else           1026\n",
       "Web Applications           900\n",
       "Payment Card Skimmers      290\n",
       "Cyber-Espionage            280\n",
       "Crimeware                  267\n",
       "Denial of Service          162\n",
       "Point of Sale               88\n",
       "Name: target, dtype: int64"
      ]
     },
     "execution_count": 48,
     "metadata": {},
     "output_type": "execute_result"
    }
   ],
   "source": [
    "target_melt(vcdb, pattern_cols)['target'].value_counts(dropna=False)"
   ]
  },
  {
   "cell_type": "code",
   "execution_count": 49,
   "metadata": {},
   "outputs": [],
   "source": [
    "config['targets']['All'] += pattern_cols"
   ]
  },
  {
   "cell_type": "markdown",
   "metadata": {},
   "source": [
    "## Actions as Outcomes or Features"
   ]
  },
  {
   "cell_type": "code",
   "execution_count": 50,
   "metadata": {},
   "outputs": [
    {
     "data": {
      "text/plain": [
       "False    7318\n",
       "True      515\n",
       "Name: action.Social, dtype: int64"
      ]
     },
     "execution_count": 50,
     "metadata": {},
     "output_type": "execute_result"
    }
   ],
   "source": [
    "vcdb['action.Social'].value_counts()"
   ]
  },
  {
   "cell_type": "markdown",
   "metadata": {},
   "source": [
    "#### Action Results are very null"
   ]
  },
  {
   "cell_type": "code",
   "execution_count": 51,
   "metadata": {},
   "outputs": [
    {
     "data": {
      "text/plain": [
       "0    7555\n",
       "1     199\n",
       "2      77\n",
       "3       2\n",
       "dtype: int64"
      ]
     },
     "execution_count": 51,
     "metadata": {},
     "output_type": "execute_result"
    }
   ],
   "source": [
    "vcdb[[col for col in vcdb if col.startswith('action.') and 'result' in col]].sum(axis=1).value_counts()"
   ]
  },
  {
   "cell_type": "markdown",
   "metadata": {},
   "source": [
    "#### Action Variety Cols  \n",
    "Potentially useful for making predictions\n",
    "\n",
    "Should we melt these to create separate records"
   ]
  },
  {
   "cell_type": "code",
   "execution_count": 52,
   "metadata": {},
   "outputs": [
    {
     "data": {
      "text/plain": [
       "155"
      ]
     },
     "execution_count": 52,
     "metadata": {},
     "output_type": "execute_result"
    }
   ],
   "source": [
    "action_variety_cols = [col for col in vcdb if col.startswith('action.') and 'variety' in col]\n",
    "len(action_variety_cols)"
   ]
  },
  {
   "cell_type": "code",
   "execution_count": 53,
   "metadata": {},
   "outputs": [
    {
     "data": {
      "text/plain": [
       "1     6273\n",
       "2      935\n",
       "0      210\n",
       "3      172\n",
       "13      88\n",
       "9       74\n",
       "4       42\n",
       "5       26\n",
       "6        9\n",
       "7        3\n",
       "8        1\n",
       "dtype: int64"
      ]
     },
     "execution_count": 53,
     "metadata": {},
     "output_type": "execute_result"
    }
   ],
   "source": [
    "vcdb[action_variety_cols].sum(axis=1).value_counts()"
   ]
  },
  {
   "cell_type": "code",
   "execution_count": 54,
   "metadata": {},
   "outputs": [
    {
     "data": {
      "text/plain": [
       "action.hacking.variety.Unknown                   1334\n",
       "action.physical.variety.Theft                    1128\n",
       "action.misuse.variety.Privilege abuse            1110\n",
       "action.error.variety.Misdelivery                  910\n",
       "action.error.variety.Loss                         391\n",
       "                                                 ... \n",
       "action.hacking.variety.Mail command injection       1\n",
       "action.hacking.variety.Reverse engineering          1\n",
       "action.hacking.variety.Session fixation             1\n",
       "action.social.variety.Spam                          1\n",
       "action.environmental.variety.Humidity               1\n",
       "Name: target, Length: 109, dtype: int64"
      ]
     },
     "execution_count": 54,
     "metadata": {},
     "output_type": "execute_result"
    }
   ],
   "source": [
    "target_melt(vcdb, action_variety_cols, split=False)['target'].value_counts()"
   ]
  },
  {
   "cell_type": "markdown",
   "metadata": {},
   "source": [
    "#### Action Vector Cols  \n",
    "Potentially useful for making predictions\n",
    "\n",
    "Should we melt these to create separate records"
   ]
  },
  {
   "cell_type": "code",
   "execution_count": 55,
   "metadata": {},
   "outputs": [
    {
     "data": {
      "text/plain": [
       "66"
      ]
     },
     "execution_count": 55,
     "metadata": {},
     "output_type": "execute_result"
    }
   ],
   "source": [
    "action_vector_cols = [col for col in vcdb if col.startswith('action.') and 'vector' in col]\n",
    "len(action_vector_cols)"
   ]
  },
  {
   "cell_type": "code",
   "execution_count": 56,
   "metadata": {},
   "outputs": [
    {
     "data": {
      "text/plain": [
       "1    6797\n",
       "2     535\n",
       "3     251\n",
       "0     217\n",
       "4      29\n",
       "5       3\n",
       "6       1\n",
       "dtype: int64"
      ]
     },
     "execution_count": 56,
     "metadata": {},
     "output_type": "execute_result"
    }
   ],
   "source": [
    "vcdb[action_vector_cols].sum(axis=1).value_counts()"
   ]
  },
  {
   "cell_type": "markdown",
   "metadata": {},
   "source": [
    "#### Action Result Cols  \n",
    "Potentially useful for making predictions\n",
    "\n",
    "Should we melt these to create separate records"
   ]
  },
  {
   "cell_type": "code",
   "execution_count": 57,
   "metadata": {},
   "outputs": [],
   "source": [
    "action_result_cols = [col for col in vcdb if col.startswith('action.') and 'result' in col]"
   ]
  },
  {
   "cell_type": "code",
   "execution_count": 58,
   "metadata": {},
   "outputs": [
    {
     "data": {
      "text/plain": [
       "(359,)"
      ]
     },
     "execution_count": 58,
     "metadata": {},
     "output_type": "execute_result"
    }
   ],
   "source": [
    "target_melt(vcdb, action_result_cols, split=False)['target'].shape"
   ]
  },
  {
   "cell_type": "code",
   "execution_count": 59,
   "metadata": {},
   "outputs": [
    {
     "data": {
      "text/plain": [
       "action.misuse.result.Exfiltrate      82\n",
       "action.hacking.result.Exfiltrate     63\n",
       "action.physical.result.Exfiltrate    55\n",
       "action.hacking.result.Infiltrate     49\n",
       "action.malware.result.Exfiltrate     30\n",
       "action.social.result.Exfiltrate      21\n",
       "action.social.result.Infiltrate      15\n",
       "action.malware.result.Infiltrate     14\n",
       "action.physical.result.Infiltrate    10\n",
       "action.unknown.result.Infiltrate      5\n",
       "action.misuse.result.Infiltrate       5\n",
       "action.unknown.result.Exfiltrate      4\n",
       "action.social.result.Elevate          3\n",
       "action.malware.result.Elevate         1\n",
       "action.hacking.result.Elevate         1\n",
       "action.physical.result.Elevate        1\n",
       "Name: target, dtype: int64"
      ]
     },
     "execution_count": 59,
     "metadata": {},
     "output_type": "execute_result"
    }
   ],
   "source": [
    "target_melt(vcdb, action_result_cols, split=False)['target'].value_counts()"
   ]
  },
  {
   "cell_type": "code",
   "execution_count": 60,
   "metadata": {},
   "outputs": [
    {
     "data": {
      "text/plain": [
       "action.error.vector.Unknown                  1301\n",
       "action.hacking.vector.Web application        1028\n",
       "action.misuse.vector.LAN access              1026\n",
       "action.error.vector.Carelessness              895\n",
       "action.hacking.vector.Unknown                 769\n",
       "                                             ... \n",
       "action.hacking.vector.3rd party desktop         2\n",
       "action.malware.vector.Software update           2\n",
       "action.social.vector.Removable media            1\n",
       "action.physical.vector.Visitor privileges       1\n",
       "action.social.vector.IM                         1\n",
       "Name: target, Length: 64, dtype: int64"
      ]
     },
     "execution_count": 60,
     "metadata": {},
     "output_type": "execute_result"
    }
   ],
   "source": [
    "target_melt(vcdb, action_vector_cols, split=False)['target'].value_counts()"
   ]
  },
  {
   "cell_type": "code",
   "execution_count": 61,
   "metadata": {},
   "outputs": [
    {
     "data": {
      "text/plain": [
       "1    6797\n",
       "2     535\n",
       "3     251\n",
       "0     217\n",
       "4      29\n",
       "5       3\n",
       "6       1\n",
       "dtype: int64"
      ]
     },
     "execution_count": 61,
     "metadata": {},
     "output_type": "execute_result"
    }
   ],
   "source": [
    "vcdb[action_vector_cols].sum(axis=1).value_counts()"
   ]
  },
  {
   "cell_type": "markdown",
   "metadata": {},
   "source": [
    "### High Level Action\n",
    "Potentially quite useful as a target variable?\n",
    "\n",
    "i.e given properties about an organisation, what actions are most likely?"
   ]
  },
  {
   "cell_type": "code",
   "execution_count": 62,
   "metadata": {},
   "outputs": [
    {
     "data": {
      "text/plain": [
       "Error            2266\n",
       "Hacking          2078\n",
       "Misuse           1604\n",
       "Physical         1517\n",
       "Malware           633\n",
       "Social            515\n",
       "Unknown           233\n",
       "Environmental       8\n",
       "Name: target, dtype: int64"
      ]
     },
     "execution_count": 62,
     "metadata": {},
     "output_type": "execute_result"
    }
   ],
   "source": [
    "action_target_cols = [col for col in vcdb if col.startswith('action') and col.count('.')==1]\n",
    "target_melt(vcdb, action_target_cols)['target'].value_counts(dropna=False)"
   ]
  },
  {
   "cell_type": "markdown",
   "metadata": {},
   "source": [
    "# Model 1: Predicting Likelihood of Data Disclosure"
   ]
  },
  {
   "cell_type": "code",
   "execution_count": 63,
   "metadata": {},
   "outputs": [],
   "source": [
    "id_cols = [col for col in vcdb if '_id' in col]\n",
    "id_cols += ['plus.github']"
   ]
  },
  {
   "cell_type": "code",
   "execution_count": 64,
   "metadata": {},
   "outputs": [],
   "source": [
    "y1 = (vcdb['attribute.confidentiality.data_disclosure'] == 'yes').astype(int)"
   ]
  },
  {
   "cell_type": "code",
   "execution_count": 65,
   "metadata": {},
   "outputs": [
    {
     "data": {
      "text/plain": [
       "1    5076\n",
       "0    2757\n",
       "Name: attribute.confidentiality.data_disclosure, dtype: int64"
      ]
     },
     "execution_count": 65,
     "metadata": {},
     "output_type": "execute_result"
    }
   ],
   "source": [
    "y1.value_counts()"
   ]
  },
  {
   "cell_type": "code",
   "execution_count": 66,
   "metadata": {},
   "outputs": [],
   "source": [
    "dropped_cols = id_cols + text_cols + cia_cols + impact_cols + pattern_cols + null_cols + ['security_incident', 'plus.analyst', 'plus.analysis_status']\n",
    "X1 = (\n",
    "    vcdb\n",
    "        .copy()\n",
    "        .drop(labels = dropped_cols, axis=1)\n",
    ")"
   ]
  },
  {
   "cell_type": "code",
   "execution_count": 67,
   "metadata": {},
   "outputs": [],
   "source": [
    "X1['victim.industry2'] = X1['victim.industry2'].astype(str)\n",
    "assert X1.select_dtypes('int64').empty"
   ]
  },
  {
   "cell_type": "code",
   "execution_count": 68,
   "metadata": {},
   "outputs": [
    {
     "data": {
      "text/plain": [
       "victim.industry                                     670\n",
       "victim.country                                      134\n",
       "victim.industry3                                    115\n",
       "victim.state                                         97\n",
       "victim.region                                        38\n",
       "victim.industry2                                     26\n",
       "action.malware.name                                  21\n",
       "victim.industry.name                                 21\n",
       "action.hacking.cve                                   14\n",
       "victim.employee_count                                11\n",
       "asset.country                                        11\n",
       "pattern                                              10\n",
       "action.malware.cve                                    8\n",
       "plus.f500                                             6\n",
       "plus.attack_difficulty_legacy                         5\n",
       "asset.cloud                                           5\n",
       "plus.attribute.confidentiality.credit_monitoring      5\n",
       "plus.attribute.confidentiality.data_misuse            4\n",
       "confidence                                            4\n",
       "plus.attack_difficulty_subsequent                     4\n",
       "plus.attack_difficulty_initial                        4\n",
       "plus.sub_source                                       4\n",
       "plus.asset.total                                      3\n",
       "plus.attribute.confidentiality.data_abuse             3\n",
       "victim.orgsize                                        2\n",
       "schema_version                                        2\n",
       "plus.attribute.confidentiality.partner_data           2\n",
       "victim.revenue.iso_currency_code                      2\n",
       "cost_corrective_action                                2\n",
       "targeted                                              2\n",
       "plus.unknown_unknowns                                 2\n",
       "asset.accessibility                                   1\n",
       "control_failure                                       1\n",
       "dtype: int64"
      ]
     },
     "execution_count": 68,
     "metadata": {},
     "output_type": "execute_result"
    }
   ],
   "source": [
    "X1.select_dtypes('O').nunique().sort_values(ascending=False)"
   ]
  },
  {
   "cell_type": "code",
   "execution_count": 69,
   "metadata": {},
   "outputs": [
    {
     "data": {
      "text/plain": [
       "{'action.hacking.cve': 14,\n",
       " 'action.malware.cve': 8,\n",
       " 'action.malware.name': 21,\n",
       " 'control_failure': 1,\n",
       " 'plus.asset.total': 3,\n",
       " 'plus.attribute.confidentiality.credit_monitoring': 5,\n",
       " 'plus.attribute.confidentiality.data_abuse': 3,\n",
       " 'plus.attribute.confidentiality.data_misuse': 4,\n",
       " 'plus.attribute.confidentiality.partner_data': 2,\n",
       " 'plus.f500': 6,\n",
       " 'plus.sub_source': 4,\n",
       " 'schema_version': 2,\n",
       " 'victim.industry': 670,\n",
       " 'victim.region': 38,\n",
       " 'victim.state': 97,\n",
       " 'victim.industry2': 26,\n",
       " 'victim.industry3': 115,\n",
       " 'victim.industry.name': 21,\n",
       " 'pattern': 10,\n",
       " 'confidence': 4,\n",
       " 'victim.employee_count': 11,\n",
       " 'victim.country': 134,\n",
       " 'victim.revenue.iso_currency_code': 2,\n",
       " 'victim.orgsize': 2,\n",
       " 'targeted': 2,\n",
       " 'cost_corrective_action': 2,\n",
       " 'asset.cloud': 5,\n",
       " 'asset.accessibility': 1,\n",
       " 'asset.country': 11,\n",
       " 'plus.attack_difficulty_initial': 4,\n",
       " 'plus.attack_difficulty_legacy': 5,\n",
       " 'plus.attack_difficulty_subsequent': 4,\n",
       " 'plus.unknown_unknowns': 2}"
      ]
     },
     "execution_count": 69,
     "metadata": {},
     "output_type": "execute_result"
    }
   ],
   "source": [
    "feature_counts = {}\n",
    "for col in X1.select_dtypes('O'):\n",
    "    if 'notes' not in col.lower() and col not in ohe_cols:\n",
    "        feature_counts[col]= vcdb[col].nunique()\n",
    "feature_counts"
   ]
  },
  {
   "cell_type": "code",
   "execution_count": 70,
   "metadata": {},
   "outputs": [
    {
     "data": {
      "text/plain": [
       "action.hacking.cve                                   14\n",
       "action.malware.cve                                    8\n",
       "action.malware.name                                  21\n",
       "control_failure                                       1\n",
       "plus.asset.total                                      3\n",
       "plus.attribute.confidentiality.credit_monitoring      5\n",
       "plus.attribute.confidentiality.data_abuse             3\n",
       "plus.attribute.confidentiality.data_misuse            4\n",
       "plus.attribute.confidentiality.partner_data           2\n",
       "plus.f500                                             6\n",
       "plus.sub_source                                       4\n",
       "schema_version                                        2\n",
       "victim.industry                                     670\n",
       "victim.region                                        38\n",
       "victim.state                                         97\n",
       "victim.industry2                                     26\n",
       "victim.industry3                                    115\n",
       "victim.industry.name                                 21\n",
       "pattern                                              10\n",
       "confidence                                            4\n",
       "victim.employee_count                                11\n",
       "victim.country                                      134\n",
       "victim.revenue.iso_currency_code                      2\n",
       "victim.orgsize                                        2\n",
       "targeted                                              2\n",
       "cost_corrective_action                                2\n",
       "asset.cloud                                           5\n",
       "asset.accessibility                                   1\n",
       "asset.country                                        11\n",
       "plus.attack_difficulty_initial                        4\n",
       "plus.attack_difficulty_legacy                         5\n",
       "plus.attack_difficulty_subsequent                     4\n",
       "plus.unknown_unknowns                                 2\n",
       "dtype: int64"
      ]
     },
     "execution_count": 70,
     "metadata": {},
     "output_type": "execute_result"
    }
   ],
   "source": [
    "X1.select_dtypes('O').nunique()"
   ]
  },
  {
   "cell_type": "code",
   "execution_count": 71,
   "metadata": {},
   "outputs": [
    {
     "data": {
      "text/plain": [
       "bool       409\n",
       "float64     39\n",
       "object      33\n",
       "dtype: int64"
      ]
     },
     "execution_count": 71,
     "metadata": {},
     "output_type": "execute_result"
    }
   ],
   "source": [
    "X1.dtypes.value_counts()"
   ]
  },
  {
   "cell_type": "markdown",
   "metadata": {},
   "source": [
    "## Split into Training and Test data"
   ]
  },
  {
   "cell_type": "code",
   "execution_count": 72,
   "metadata": {},
   "outputs": [],
   "source": [
    "from ml_utils.preprocessing import CategoricalEncoder\n",
    "from sklearn.model_selection import train_test_split"
   ]
  },
  {
   "cell_type": "code",
   "execution_count": 73,
   "metadata": {},
   "outputs": [],
   "source": [
    "X1_train, X1_val, y1_train, y1_val = train_test_split(X1, y1, test_size=0.2, random_state=42)\n",
    "X1_train.is_copy = None\n",
    "X1_val.is_copy = None"
   ]
  },
  {
   "cell_type": "code",
   "execution_count": 74,
   "metadata": {},
   "outputs": [],
   "source": [
    "cat_cols = list(X1.select_dtypes('O').columns)"
   ]
  },
  {
   "cell_type": "code",
   "execution_count": 75,
   "metadata": {},
   "outputs": [
    {
     "data": {
      "text/plain": [
       "bool       409\n",
       "float64     39\n",
       "object      33\n",
       "dtype: int64"
      ]
     },
     "execution_count": 75,
     "metadata": {},
     "output_type": "execute_result"
    }
   ],
   "source": [
    "X1_train.dtypes.value_counts()"
   ]
  },
  {
   "cell_type": "code",
   "execution_count": 76,
   "metadata": {},
   "outputs": [],
   "source": [
    "from sklearn.experimental import enable_iterative_imputer\n",
    "from sklearn.impute import IterativeImputer\n",
    "from category_encoders import MEstimateEncoder"
   ]
  },
  {
   "cell_type": "code",
   "execution_count": 77,
   "metadata": {},
   "outputs": [],
   "source": [
    "m_encoder = MEstimateEncoder(cols=cat_cols)"
   ]
  },
  {
   "cell_type": "markdown",
   "metadata": {},
   "source": [
    "#### M-Estimator Encoder to encode categoricals"
   ]
  },
  {
   "cell_type": "code",
   "execution_count": 78,
   "metadata": {},
   "outputs": [],
   "source": [
    "X1_train_encoded = m_encoder.fit_transform(X1_train, y1_train)\n",
    "X1_val_encoded = m_encoder.transform(X1_val)"
   ]
  },
  {
   "cell_type": "code",
   "execution_count": 79,
   "metadata": {},
   "outputs": [
    {
     "data": {
      "text/plain": [
       "asset.assets.amount.M - Disk drive               float64\n",
       "asset.assets.amount.M - Disk media               float64\n",
       "asset.assets.amount.M - Documents                float64\n",
       "asset.assets.amount.M - Flash drive              float64\n",
       "asset.assets.amount.M - Other                    float64\n",
       "asset.assets.amount.M - Payment card             float64\n",
       "asset.assets.amount.M - Smart card               float64\n",
       "asset.assets.amount.M - Tapes                    float64\n",
       "asset.assets.amount.N - Camera                   float64\n",
       "asset.assets.amount.N - PLC                      float64\n",
       "asset.assets.amount.P - End-user                 float64\n",
       "asset.assets.amount.P - Finance                  float64\n",
       "asset.assets.amount.P - Former employee          float64\n",
       "asset.assets.amount.P - Human resources          float64\n",
       "asset.assets.amount.P - Other                    float64\n",
       "asset.assets.amount.P - Unknown                  float64\n",
       "asset.assets.amount.S - Code repository          float64\n",
       "asset.assets.amount.S - Database                 float64\n",
       "asset.assets.amount.S - File                     float64\n",
       "asset.assets.amount.S - Mail                     float64\n",
       "asset.assets.amount.S - POS controller           float64\n",
       "asset.assets.amount.S - Unknown                  float64\n",
       "asset.assets.amount.S - Web application          float64\n",
       "asset.assets.amount.T - ATM                      float64\n",
       "asset.assets.amount.T - Gas terminal             float64\n",
       "asset.assets.amount.T - Kiosk                    float64\n",
       "asset.assets.amount.T - PED pad                  float64\n",
       "asset.assets.amount.U - Desktop                  float64\n",
       "asset.assets.amount.U - Laptop                   float64\n",
       "asset.assets.amount.U - Mobile phone             float64\n",
       "asset.assets.amount.U - Other                    float64\n",
       "asset.assets.amount.U - POS terminal             float64\n",
       "asset.assets.amount.U - Tablet                   float64\n",
       "asset.assets.amount.Unknown                      float64\n",
       "asset.total_amount                               float64\n",
       "plus.attribute.confidentiality.partner_number    float64\n",
       "victim.locations_affected                        float64\n",
       "victim.revenue.amount                            float64\n",
       "victim.secondary.amount                          float64\n",
       "dtype: object"
      ]
     },
     "execution_count": 79,
     "metadata": {},
     "output_type": "execute_result"
    }
   ],
   "source": [
    "X1_train_encoded.loc[:, X1_train_encoded.isnull().any()].dtypes"
   ]
  },
  {
   "cell_type": "markdown",
   "metadata": {},
   "source": [
    "#### Use Iterative Imputer to impute the missing float values"
   ]
  },
  {
   "cell_type": "code",
   "execution_count": 80,
   "metadata": {},
   "outputs": [
    {
     "name": "stdout",
     "output_type": "stream",
     "text": [
      "Fitting Iterative Imputer...\n",
      "----------------------------\n",
      "\n",
      "[IterativeImputer] Completing matrix with shape (6266, 476)\n",
      "[IterativeImputer] Ending imputation round 1/10, elapsed time 115.48\n",
      "[IterativeImputer] Change: 3212395.8526955494, scaled tolerance: 130000000.0 \n",
      "[IterativeImputer] Early stopping criterion reached.\n",
      "Iterative Imputer Fitted!\n",
      "Total Time Elapsed - 0:1:55\n",
      "----------------------------\n",
      "\n",
      "Transforming validation data....\n",
      "[IterativeImputer] Completing matrix with shape (1567, 476)\n",
      "[IterativeImputer] Ending imputation round 1/1, elapsed time 0.17\n",
      "Validation data transformed!\n",
      "Total Time Elapsed - 0:1:55\n",
      "----------------------------\n",
      "\n"
     ]
    }
   ],
   "source": [
    "t0 = datetime.datetime.now()\n",
    "print('Fitting Iterative Imputer...')\n",
    "print('----------------------------\\n')\n",
    "imputer = IterativeImputer(verbose=2)\n",
    "X1_train_imputed = imputer.fit_transform(X1_train_encoded)\n",
    "\n",
    "print('Iterative Imputer Fitted!')\n",
    "print('Total Time Elapsed - %s'%format_timedelta(datetime.datetime.now()-t0))\n",
    "print('----------------------------\\n')\n",
    "\n",
    "print('Transforming validation data....')\n",
    "X1_val_imputed = imputer.transform(X1_val_encoded)\n",
    "\n",
    "print('Validation data transformed!')\n",
    "print('Total Time Elapsed - %s'%format_timedelta(datetime.datetime.now()-t0))\n",
    "print('----------------------------\\n')\n"
   ]
  },
  {
   "cell_type": "code",
   "execution_count": 184,
   "metadata": {},
   "outputs": [],
   "source": [
    "from xgboost.sklearn import XGBClassifier\n",
    "from sklearn.metrics import roc_auc_score, \\\n",
    "                            roc_curve, \\\n",
    "                            auc, \\\n",
    "                            classification_report, \\\n",
    "                            confusion_matrix, \\\n",
    "                            accuracy_score, \\\n",
    "                            precision_score, \\\n",
    "                            recall_score, \\\n",
    "                            f1_score"
   ]
  },
  {
   "cell_type": "code",
   "execution_count": 123,
   "metadata": {},
   "outputs": [],
   "source": [
    "assert pd.DataFrame(X1_train_imputed).notnull().all().all()\n",
    "assert pd.DataFrame(X1_val_imputed).notnull().all().all()"
   ]
  },
  {
   "cell_type": "markdown",
   "metadata": {},
   "source": [
    "#### Addressing Class Imbalance using ADASYN"
   ]
  },
  {
   "cell_type": "code",
   "execution_count": 103,
   "metadata": {},
   "outputs": [
    {
     "name": "stdout",
     "output_type": "stream",
     "text": [
      "Original no. training samples: 6266\n",
      "No. training samples ver oversampling: 8142\n"
     ]
    }
   ],
   "source": [
    "from imblearn.combine import SMOTEENN\n",
    "from imblearn.over_sampling import ADASYN\n",
    "sampler = SVMSMOTE()\n",
    "print('Original no. training samples:', X1_train_imputed.shape[0])\n",
    "X1_train_resampled, y1_train_resampled = sampler.fit_resample(X1_train_imputed, y1_train)\n",
    "print('No. training samples ver oversampling:', X1_train_resampled.shape[0])"
   ]
  },
  {
   "cell_type": "markdown",
   "metadata": {},
   "source": [
    "#### Training Time"
   ]
  },
  {
   "cell_type": "code",
   "execution_count": null,
   "metadata": {},
   "outputs": [],
   "source": [
    "summary_report()"
   ]
  },
  {
   "cell_type": "code",
   "execution_count": 171,
   "metadata": {},
   "outputs": [
    {
     "name": "stdout",
     "output_type": "stream",
     "text": [
      "---------------------------------------------------\n",
      "Fitting XGBoost...\n",
      "XGBoost Fitted!\n",
      "Total Time Elapsed - 0:0:2\n",
      "---------------------------------------------------\n",
      "Predicting on validation data...\n",
      "Predictions Completed\n",
      "Total Time Elapsed - 0:0:2\n",
      "---------------------------------------------------\n",
      "ROC-AUC Score: 88.48%\n",
      "Accuracy Score: 83.73%\n",
      "Precision Score: 84.98%\n",
      "Recall Score: 90.65%\n",
      "---------------------------------------------------\n",
      "Classification Report:\n",
      "              precision    recall  f1-score   support\n",
      "\n",
      "           0       0.81      0.71      0.76       562\n",
      "           1       0.85      0.91      0.88      1005\n",
      "\n",
      "    accuracy                           0.84      1567\n",
      "   macro avg       0.83      0.81      0.82      1567\n",
      "weighted avg       0.84      0.84      0.83      1567\n",
      "\n",
      "---------------------------------------------------\n",
      "\n",
      "Confusion Matrix:\n",
      "     0    1\n",
      "0  401  161\n",
      "1   94  911\n"
     ]
    }
   ],
   "source": [
    "xgb1 = XGBClassifier(verbose = 3)\n",
    "t0 = datetime.datetime.now()\n",
    "print('---------------------------------------------------')\n",
    "\n",
    "print('Fitting XGBoost...')\n",
    "xgb1.fit(X1_train_resampled, y1_train_resampled)\n",
    "\n",
    "print('XGBoost Fitted!')\n",
    "print('Total Time Elapsed - %s'%format_timedelta(datetime.datetime.now()-t0))\n",
    "\n",
    "print('---------------------------------------------------')\n",
    "print('Predicting on validation data...')\n",
    "y1_pred_probas = xgb1.predict_proba(X1_val_imputed)\n",
    "y1_pred_proba = y1_pred_probas[:,1]\n",
    "y1_pred = xgb1.predict(X1_val_imputed)\n",
    "\n",
    "print('Predictions Completed')\n",
    "print('Total Time Elapsed - %s'%format_timedelta(datetime.datetime.now()-t0))\n",
    "print('---------------------------------------------------')\n",
    "print('ROC-AUC Score: {:.2%}'.format(roc_auc_score(y1_val, y1_pred_proba)))\n",
    "print('Accuracy Score: {:.2%}'.format(accuracy_score(y1_val, y1_pred)))\n",
    "print('Precision Score: {:.2%}'.format(precision_score(y1_val, y1_pred)))\n",
    "print('Recall Score: {:.2%}'.format(recall_score(y1_val, y1_pred)))\n",
    "print('---------------------------------------------------')\n",
    "print('Classification Report:')\n",
    "print(classification_report(y1_val, y1_pred))\n",
    "print('---------------------------------------------------')\n",
    "print('\\nConfusion Matrix:')\n",
    "confusion = pd.DataFrame(confusion_matrix(y1_val, y1_pred)).loc[range(2), range(2)]\n",
    "print(confusion)"
   ]
  },
  {
   "cell_type": "code",
   "execution_count": 140,
   "metadata": {},
   "outputs": [],
   "source": [
    "def plot_roc(y_test, y_proba):\n",
    "    fpr, tpr, threshold = roc_curve(y_test, y_proba)\n",
    "    # fpr, tpr, threshold = roc_curve(y1_val, y1_pred_proba)\n",
    "    roc_auc = auc(fpr, tpr)\n",
    "\n",
    "    # method I: plt\n",
    "    import matplotlib.pyplot as plt\n",
    "    plt.title('Receiver Operating Characteristic')\n",
    "    plt.plot(fpr, tpr, 'b', label = 'AUC = %0.2f' % roc_auc)\n",
    "    plt.legend(loc = 'lower right')\n",
    "    plt.plot([0, 1], [0, 1],'r--')\n",
    "    plt.xlim([0, 1])\n",
    "    plt.ylim([0, 1])\n",
    "    plt.ylabel('True Positive Rate')\n",
    "    plt.xlabel('False Positive Rate')\n",
    "    plt.show()"
   ]
  },
  {
   "cell_type": "code",
   "execution_count": 141,
   "metadata": {},
   "outputs": [
    {
     "data": {
      "image/png": "[encoded data removed]",
      "text/plain": [
       "<Figure size 432x288 with 1 Axes>"
      ]
     },
     "metadata": {},
     "output_type": "display_data"
    }
   ],
   "source": [
    "plot_roc(y1_val, y1_pred_proba)"
   ]
  },
  {
   "cell_type": "markdown",
   "metadata": {},
   "source": [
    "## Hyperparameter Tuning using Particle Swarm Optimisation"
   ]
  },
  {
   "cell_type": "code",
   "execution_count": 86,
   "metadata": {},
   "outputs": [],
   "source": [
    "import optunity\n",
    "import optunity.metrics"
   ]
  },
  {
   "cell_type": "markdown",
   "metadata": {},
   "source": [
    "#### Maximizing Area Under the Reciever Operating Curve"
   ]
  },
  {
   "cell_type": "code",
   "execution_count": 182,
   "metadata": {},
   "outputs": [
    {
     "name": "stdout",
     "output_type": "stream",
     "text": [
      "Tuning XGBoost...\n",
      "----------------------------\n",
      "\n",
      "Tuning Completed!\n",
      "Total Time Elapsed - 0:19:3\n",
      "{'n_estimators': 190, 'max_depth': 7, 'min_child_weight': 3.6693147106432553, 'gamma': 1.397307159004931, 'colsample_bytree': 0.5458988097440807, 'subsample': 0.661884765625, 'reg_alpha': 0.7258339593378564, 'reg_lambda': 2.9194222465779065}\n"
     ]
    }
   ],
   "source": [
    "# Define our Objective Function\n",
    "@optunity.cross_validated(x=X1_train_resampled, y=y1_train_resampled.values, num_folds=3)\n",
    "# @optunity.cross_validated(x=X1_train_resampled, y=y1_train_resampled.values, num_folds=5)\n",
    "def xgb_tuned_auroc(x_train, y_train, x_test, y_test, \n",
    "                    # These are the hyperparameters we wish to tune\n",
    "                    n_estimators,\n",
    "                    max_depth, \n",
    "                    min_child_weight, \n",
    "                    gamma, \n",
    "                    colsample_bytree,\n",
    "                    subsample,\n",
    "                    reg_alpha, \n",
    "                    reg_lambda):\n",
    "    \n",
    "# #     categorical encoding\n",
    "#     print('M-encoding categoricals')\n",
    "#     x_train_df = pd.DataFrame(x_train, columns = X1.columns)\n",
    "#     x_test_df = pd.DataFrame(x_test, columns = X1.columns)\n",
    "#     assert all([col in x_train_df for col in cat_cols])\n",
    "    \n",
    "#     m_encoder = MEstimateEncoder(cols=cat_cols)\n",
    "#     x_train_enc = m_encoder.fit_transform(x_train_df, y_train)\n",
    "#     x_test_enc = m_encoder.transform(x_test_df)\n",
    "    \n",
    "#     # imputation\n",
    "#     print('Imputing nulls')\n",
    "#     imputer = IterativeImputer(verbose=2)\n",
    "#     x_train_imp = imputer.fit_transform(x_train_enc)\n",
    "#     x_test = imputer.transform(x_test_enc)\n",
    "        \n",
    "#     # oversampling\n",
    "#     print('Oversampling')\n",
    "#     oversampler = ADASYN()\n",
    "#     x_train, y_train = oversampler.fit_resample(x_train_imp, y_train)\n",
    "    \n",
    "#     print('Fitting Model')\n",
    "    model = (\n",
    "        # instanciate classifier every evaluation\n",
    "        XGBClassifier(n_estimators = round(n_estimators), \n",
    "                      max_depth = round(max_depth),\n",
    "                      min_child_weight = min_child_weight,\n",
    "                      gamma = gamma,\n",
    "                      colsample_bytree = colsample_bytree,\n",
    "                      subsample = subsample,\n",
    "                      reg_alpha = reg_alpha,\n",
    "                      reg_lambda = reg_lambda,\n",
    "                      verbose = 3\n",
    "                     )\n",
    "            # fit model\n",
    "            ).fit(x_train, y_train)\n",
    "    \n",
    "    y_pred = model.predict(x_test)\n",
    "    y_pred_proba = model.predict_proba(x_test)[:, 1]\n",
    "    auc = roc_auc_score(y_test, y_pred_proba)\n",
    "#     print('ROC-AUC Score= {:.2%}'.format(auc), '| Total Time Elapsed - %s'%format_timedelta(datetime.datetime.now()-t0))\n",
    "    return auc\n",
    "\n",
    "t0 = datetime.datetime.now()\n",
    "print('Tuning XGBoost...')\n",
    "print('----------------------------\\n')\n",
    "\n",
    "optimum, details, _ = optunity.maximize(xgb_tuned_auroc, \n",
    "                                        num_evals = 100, \n",
    "                                        # define hyperparameter grid\n",
    "                                        n_estimators = [100, 1000], \n",
    "                                        max_depth = [2, 10], \n",
    "                                        min_child_weight = [1, 7],\n",
    "                                        gamma = [0.1, 2],\n",
    "                                        colsample_bytree = [0.3, 1],\n",
    "                                        subsample = [0.2, 0.7],\n",
    "                                        reg_alpha = [0, 1],\n",
    "                                        reg_lambda = [1, 5]\n",
    "                                       )\n",
    "\n",
    "print('Tuning Completed!')\n",
    "print('Total Time Elapsed - %s'%format_timedelta(datetime.datetime.now()-t0))\n",
    "optimum['n_estimators'] = round(optimum['n_estimators'])\n",
    "optimum['max_depth'] = round(optimum['max_depth'])\n",
    "print(optimum)"
   ]
  },
  {
   "cell_type": "code",
   "execution_count": 183,
   "metadata": {},
   "outputs": [
    {
     "name": "stdout",
     "output_type": "stream",
     "text": [
      "---------------------------------------------------\n",
      "Fitting XGBoost...\n",
      "XGBoost Fitted!\n",
      "Total Time Elapsed - 0:0:3\n",
      "---------------------------------------------------\n",
      "Predicting on validation data...\n",
      "Predictions Completed\n",
      "Total Time Elapsed - 0:0:3\n",
      "---------------------------------------------------\n",
      "ROC-AUC Score: 87.98%\n",
      "Accuracy Score: 81.62%\n",
      "Precision Score: 84.31%\n",
      "Recall Score: 87.66%\n",
      "---------------------------------------------------\n",
      "Classification Report:\n",
      "              precision    recall  f1-score   support\n",
      "\n",
      "           0       0.76      0.71      0.73       562\n",
      "           1       0.84      0.88      0.86      1005\n",
      "\n",
      "    accuracy                           0.82      1567\n",
      "   macro avg       0.80      0.79      0.80      1567\n",
      "weighted avg       0.81      0.82      0.81      1567\n",
      "\n",
      "---------------------------------------------------\n",
      "\n",
      "Confusion Matrix:\n",
      "     0    1\n",
      "0  398  164\n",
      "1  124  881\n"
     ]
    },
    {
     "data": {
      "image/png": "[encoded data removed]",
      "text/plain": [
       "<Figure size 432x288 with 1 Axes>"
      ]
     },
     "metadata": {},
     "output_type": "display_data"
    }
   ],
   "source": [
    "xgb1 = XGBClassifier(**optimum, verbose = 3)\n",
    "t0 = datetime.datetime.now()\n",
    "print('---------------------------------------------------')\n",
    "\n",
    "print('Fitting XGBoost...')\n",
    "xgb1.fit(X1_train_resampled, y1_train_resampled)\n",
    "\n",
    "print('XGBoost Fitted!')\n",
    "print('Total Time Elapsed - %s'%format_timedelta(datetime.datetime.now()-t0))\n",
    "\n",
    "print('---------------------------------------------------')\n",
    "print('Predicting on validation data...')\n",
    "y1_pred_probas = xgb1.predict_proba(X1_val_imputed)\n",
    "y1_pred_proba = y1_pred_probas[:,1]\n",
    "y1_pred = xgb1.predict(X1_val_imputed)\n",
    "\n",
    "print('Predictions Completed')\n",
    "print('Total Time Elapsed - %s'%format_timedelta(datetime.datetime.now()-t0))\n",
    "print('---------------------------------------------------')\n",
    "print('ROC-AUC Score: {:.2%}'.format(roc_auc_score(y1_val, y1_pred_proba)))\n",
    "print('Accuracy Score: {:.2%}'.format(accuracy_score(y1_val, y1_pred)))\n",
    "print('Precision Score: {:.2%}'.format(precision_score(y1_val, y1_pred)))\n",
    "print('Recall Score: {:.2%}'.format(recall_score(y1_val, y1_pred)))\n",
    "print('---------------------------------------------------')\n",
    "print('Classification Report:')\n",
    "print(classification_report(y1_val, y1_pred))\n",
    "print('---------------------------------------------------')\n",
    "print('\\nConfusion Matrix:')\n",
    "confusion = pd.DataFrame(confusion_matrix(y1_val, y1_pred)).loc[range(2), range(2)]\n",
    "print(confusion)\n",
    "\n",
    "plot_roc(y1_val, y1_pred_proba)"
   ]
  },
  {
   "cell_type": "markdown",
   "metadata": {},
   "source": [
    "#### Maximizing Area Under the Reciever Operating Curve"
   ]
  },
  {
   "cell_type": "code",
   "execution_count": 185,
   "metadata": {},
   "outputs": [
    {
     "name": "stdout",
     "output_type": "stream",
     "text": [
      "Tuning XGBoost...\n",
      "----------------------------\n",
      "\n",
      "Tuning Completed!\n",
      "Total Time Elapsed - 0:26:59\n",
      "{'n_estimators': 632, 'max_depth': 9, 'min_child_weight': 4.199893749225296, 'gamma': 0.9094384871381815, 'colsample_bytree': 0.43649373907316996, 'subsample': 0.6978015736757082, 'reg_alpha': 0.6904748017754874, 'reg_lambda': 3.5621281282900314}\n"
     ]
    }
   ],
   "source": [
    "# Define our Objective Function\n",
    "@optunity.cross_validated(x=X1_train_resampled, y=y1_train_resampled.values, num_folds=3)\n",
    "# @optunity.cross_validated(x=X1_train_resampled, y=y1_train_resampled.values, num_folds=5)\n",
    "def xgb_tuned_recall(x_train, y_train, x_test, y_test, \n",
    "                     # These are the hyperparameters we wish to tune\n",
    "                     n_estimators,\n",
    "                     max_depth, \n",
    "                     min_child_weight, \n",
    "                     gamma, \n",
    "                     colsample_bytree,\n",
    "                     subsample,\n",
    "                     reg_alpha, \n",
    "                     reg_lambda):\n",
    "# #     categorical encoding\n",
    "#     print('M-encoding categoricals')\n",
    "#     x_train_df = pd.DataFrame(x_train, columns = X1.columns)\n",
    "#     x_test_df = pd.DataFrame(x_test, columns = X1.columns)\n",
    "#     assert all([col in x_train_df for col in cat_cols])\n",
    "\n",
    "#     m_encoder = MEstimateEncoder(cols=cat_cols)\n",
    "#     x_train_enc = m_encoder.fit_transform(x_train_df, y_train)\n",
    "#     x_test_enc = m_encoder.transform(x_test_df)\n",
    "\n",
    "#     # imputation\n",
    "#     print('Imputing nulls')\n",
    "#     imputer = IterativeImputer(verbose=2)\n",
    "#     x_train_imp = imputer.fit_transform(x_train_enc)\n",
    "#     x_test = imputer.transform(x_test_enc)\n",
    "        \n",
    "#     # oversampling\n",
    "#     print('Oversampling')\n",
    "#     oversampler = ADASYN()\n",
    "#     x_train, y_train = oversampler.fit_resample(x_train_imp, y_train)\n",
    "    \n",
    "#     print('Fitting Model')\n",
    "    model = (\n",
    "        # instanciate classifier every evaluation\n",
    "        XGBClassifier(n_estimators = round(n_estimators), \n",
    "                      max_depth = round(max_depth),\n",
    "                      min_child_weight = min_child_weight,\n",
    "                      gamma = gamma,\n",
    "                      colsample_bytree = colsample_bytree,\n",
    "                      subsample = subsample,\n",
    "                      reg_alpha = reg_alpha,\n",
    "                      reg_lambda = reg_lambda,\n",
    "                      verbose = 3\n",
    "                     )\n",
    "            # fit model\n",
    "            ).fit(x_train, y_train)\n",
    "    \n",
    "    y_pred = model.predict(x_test)\n",
    "    y_pred_proba = model.predict_proba(x_test)[:, 1]\n",
    "    recall = recall_score(y_test, y_pred)\n",
    "#     auc = roc_auc_score(y_test, y_pred_proba)\n",
    "#     print('ROC-AUC Score= {:.2%}'.format(auc), '| Total Time Elapsed - %s'%format_timedelta(datetime.datetime.now()-t0))\n",
    "    return recall\n",
    "\n",
    "t0 = datetime.datetime.now()\n",
    "print('Tuning XGBoost...')\n",
    "print('----------------------------\\n')\n",
    "\n",
    "optimum, details, _ = optunity.maximize(xgb_tuned_recall, \n",
    "                                        num_evals = 100, \n",
    "                                        # define hyperparameter grid\n",
    "                                        n_estimators = [100, 1000], \n",
    "                                        max_depth = [2, 10], \n",
    "                                        min_child_weight = [1, 7],\n",
    "                                        gamma = [0.1, 2],\n",
    "                                        colsample_bytree = [0.3, 1],\n",
    "                                        subsample = [0.2, 0.7],\n",
    "                                        reg_alpha = [0, 1],\n",
    "                                        reg_lambda = [1, 5]\n",
    "                                       )\n",
    "\n",
    "print('Tuning Completed!')\n",
    "print('Total Time Elapsed - %s'%format_timedelta(datetime.datetime.now()-t0))\n",
    "optimum['n_estimators'] = round(optimum['n_estimators'])\n",
    "optimum['max_depth'] = round(optimum['max_depth'])\n",
    "print(optimum)"
   ]
  },
  {
   "cell_type": "code",
   "execution_count": 186,
   "metadata": {},
   "outputs": [
    {
     "name": "stdout",
     "output_type": "stream",
     "text": [
      "---------------------------------------------------\n",
      "Fitting XGBoost...\n",
      "XGBoost Fitted!\n",
      "Total Time Elapsed - 0:0:11\n",
      "---------------------------------------------------\n",
      "Predicting on validation data...\n",
      "Predictions Completed\n",
      "Total Time Elapsed - 0:0:11\n",
      "---------------------------------------------------\n",
      "ROC-AUC Score: 88.23%\n",
      "Accuracy Score: 82.64%\n",
      "Precision Score: 84.74%\n",
      "Recall Score: 88.96%\n",
      "---------------------------------------------------\n",
      "Classification Report:\n",
      "              precision    recall  f1-score   support\n",
      "\n",
      "           0       0.78      0.71      0.75       562\n",
      "           1       0.85      0.89      0.87      1005\n",
      "\n",
      "    accuracy                           0.83      1567\n",
      "   macro avg       0.82      0.80      0.81      1567\n",
      "weighted avg       0.82      0.83      0.82      1567\n",
      "\n",
      "---------------------------------------------------\n",
      "\n",
      "Confusion Matrix:\n",
      "     0    1\n",
      "0  401  161\n",
      "1  111  894\n"
     ]
    },
    {
     "data": {
      "image/png": "[encoded data removed]",
      "text/plain": [
       "<Figure size 432x288 with 1 Axes>"
      ]
     },
     "metadata": {},
     "output_type": "display_data"
    }
   ],
   "source": [
    "xgb1 = XGBClassifier(**optimum, verbose = 3)\n",
    "t0 = datetime.datetime.now()\n",
    "print('---------------------------------------------------')\n",
    "\n",
    "print('Fitting XGBoost...')\n",
    "xgb1.fit(X1_train_resampled, y1_train_resampled)\n",
    "\n",
    "print('XGBoost Fitted!')\n",
    "print('Total Time Elapsed - %s'%format_timedelta(datetime.datetime.now()-t0))\n",
    "\n",
    "print('---------------------------------------------------')\n",
    "print('Predicting on validation data...')\n",
    "y1_pred_probas = xgb1.predict_proba(X1_val_imputed)\n",
    "y1_pred_proba = y1_pred_probas[:,1]\n",
    "y1_pred = xgb1.predict(X1_val_imputed)\n",
    "\n",
    "print('Predictions Completed')\n",
    "print('Total Time Elapsed - %s'%format_timedelta(datetime.datetime.now()-t0))\n",
    "print('---------------------------------------------------')\n",
    "print('ROC-AUC Score: {:.2%}'.format(roc_auc_score(y1_val, y1_pred_proba)))\n",
    "print('Accuracy Score: {:.2%}'.format(accuracy_score(y1_val, y1_pred)))\n",
    "print('Precision Score: {:.2%}'.format(precision_score(y1_val, y1_pred)))\n",
    "print('Recall Score: {:.2%}'.format(recall_score(y1_val, y1_pred)))\n",
    "print('---------------------------------------------------')\n",
    "print('Classification Report:')\n",
    "print(classification_report(y1_val, y1_pred))\n",
    "print('---------------------------------------------------')\n",
    "print('\\nConfusion Matrix:')\n",
    "confusion = pd.DataFrame(confusion_matrix(y1_val, y1_pred)).loc[range(2), range(2)]\n",
    "print(confusion)\n",
    "\n",
    "plot_roc(y1_val, y1_pred_proba)"
   ]
  }
 ],
 "metadata": {
  "kernelspec": {
   "display_name": "Python 3",
   "language": "python",
   "name": "python3"
  },
  "language_info": {
   "codemirror_mode": {
    "name": "ipython",
    "version": 3
   },
   "file_extension": ".py",
   "mimetype": "text/x-python",
   "name": "python",
   "nbconvert_exporter": "python",
   "pygments_lexer": "ipython3",
   "version": "3.7.6"
  }
 },
 "nbformat": 4,
 "nbformat_minor": 4
}
